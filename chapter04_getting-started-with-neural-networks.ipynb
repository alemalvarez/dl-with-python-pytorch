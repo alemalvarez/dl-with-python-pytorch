{
 "cells": [
  {
   "cell_type": "code",
   "execution_count": 68,
   "metadata": {},
   "outputs": [
    {
     "name": "stdout",
     "output_type": "stream",
     "text": [
      "The autoreload extension is already loaded. To reload it, use:\n",
      "  %reload_ext autoreload\n"
     ]
    }
   ],
   "source": [
    "%load_ext autoreload\n",
    "%aimport tensor_toolbox\n",
    "%autoreload 1"
   ]
  },
  {
   "cell_type": "markdown",
   "metadata": {
    "colab_type": "text"
   },
   "source": [
    "# Getting started with neural networks: Classification and regression"
   ]
  },
  {
   "cell_type": "markdown",
   "metadata": {
    "colab_type": "text"
   },
   "source": [
    "## Classifying movie reviews: A binary classification example"
   ]
  },
  {
   "cell_type": "markdown",
   "metadata": {
    "colab_type": "text"
   },
   "source": [
    "### The IMDB dataset"
   ]
  },
  {
   "cell_type": "markdown",
   "metadata": {
    "colab_type": "text"
   },
   "source": [
    "**Listing 4.1: Loading the IMDB dataset**"
   ]
  },
  {
   "cell_type": "code",
   "execution_count": 69,
   "metadata": {
    "colab_type": "code"
   },
   "outputs": [],
   "source": [
    "from tensorflow.keras.datasets import imdb\n",
    "(train_data, train_labels), (test_data, test_labels) = imdb.load_data(\n",
    "    num_words=10000)\n",
    "# These are arrays of lists! Ugh"
   ]
  },
  {
   "cell_type": "markdown",
   "metadata": {
    "colab_type": "text"
   },
   "source": [
    "**Listing 4.2: Decoding reviews back to text**"
   ]
  },
  {
   "cell_type": "code",
   "execution_count": 70,
   "metadata": {
    "colab_type": "code"
   },
   "outputs": [
    {
     "data": {
      "text/plain": [
       "\"? big hair big boobs bad music and a giant safety pin these are the words to best describe this terrible movie i love cheesy horror movies and i've seen hundreds but this had got to be on of the worst ever made the plot is paper thin and ridiculous the acting is an abomination the script is completely laughable the best is the end showdown with the cop and how he worked out who the killer is it's just so damn terribly written the clothes are sickening and funny in equal ? the hair is big lots of boobs ? men wear those cut ? shirts that show off their ? sickening that men actually wore them and the music is just ? trash that plays over and over again in almost every scene there is trashy music boobs and ? taking away bodies and the gym still doesn't close for ? all joking aside this is a truly bad film whose only charm is to look back on the disaster that was the 80's and have a good old laugh at how bad everything was back then\""
      ]
     },
     "execution_count": 70,
     "metadata": {},
     "output_type": "execute_result"
    }
   ],
   "source": [
    "word_index = imdb.get_word_index()\n",
    "def read_review (review, word_index):\n",
    "    reverse_word_index = dict(\n",
    "        [(value, key) for (key, value) in word_index.items()])\n",
    "    return \" \".join(\n",
    "        [reverse_word_index.get(i - 3, \"?\") for i in review])\n",
    "read_review(train_data[1], word_index) # Interesting review"
   ]
  },
  {
   "cell_type": "markdown",
   "metadata": {
    "colab_type": "text"
   },
   "source": [
    "### Preparing the data"
   ]
  },
  {
   "cell_type": "markdown",
   "metadata": {
    "colab_type": "text"
   },
   "source": [
    "**Listing 4.3: Encoding the integer sequences via multi-hot encoding**"
   ]
  },
  {
   "cell_type": "code",
   "execution_count": 71,
   "metadata": {
    "colab_type": "code"
   },
   "outputs": [],
   "source": [
    "import numpy as np\n",
    "# It's important to note that by doing this, the concept of order is lost. The list previously had added meaning by\n",
    "# containing the order of the words. The vectorized interpretation only contains the presence of the word.\n",
    "# Therefore, it is impossible to get the sentence again from the vectorized form!\n",
    "def vectorize_sequences(sequences, dimension=10000):\n",
    "    results = np.zeros((len(sequences), dimension))\n",
    "    for i, sequence in enumerate(sequences):\n",
    "        for j in sequence:\n",
    "            results[i, j] = 1. # Sparse representation of the data\n",
    "            # For each entry, we will obtain a 10000-dimensional vector with 1s and 0s\n",
    "    return results\n",
    "x_train = vectorize_sequences(train_data)\n",
    "x_test = vectorize_sequences(test_data)\n",
    "\n",
    "y_train = np.asarray(train_labels).astype(\"float32\")\n",
    "y_test = np.asarray(test_labels).astype(\"float32\")"
   ]
  },
  {
   "cell_type": "code",
   "execution_count": 72,
   "metadata": {
    "colab_type": "code"
   },
   "outputs": [
    {
     "name": "stdout",
     "output_type": "stream",
     "text": [
      "==================== x_train | tensor_info ====================\n",
      "Type: <class 'numpy.ndarray'>\n",
      "Shape: (25000, 10000) | nDims: 2 | dtype: float64\n",
      "x_train[0]: [0. 1. 1. 0. 1. 1. 1. 1. 1. 1. 0. 0. 1. 1. 1. 1. 1. 1. 1. 1.]\n",
      "... (showing only the first 20 elements)\n",
      "\n",
      "==================== train_labels | tensor_info ====================\n",
      "Type: <class 'numpy.ndarray'>\n",
      "Shape: (25000,) | nDims: 1 | dtype: int64\n",
      "Content: [1 0 0 1 0 0 1 0 1 0 1 0 0 0 0 0 1 1 0 1]\n",
      "... (showing only the first 20 elements)\n",
      "\n"
     ]
    }
   ],
   "source": [
    "tensor_toolbox.tensor_info(x_train, \"x_train\", image=False)\n",
    "tensor_toolbox.tensor_info(train_labels, \"train_labels\")"
   ]
  },
  {
   "cell_type": "markdown",
   "metadata": {
    "colab_type": "text"
   },
   "source": [
    "### Building your model"
   ]
  },
  {
   "cell_type": "markdown",
   "metadata": {
    "colab_type": "text"
   },
   "source": [
    "**Listing 4.4: Model definition**"
   ]
  },
  {
   "cell_type": "code",
   "execution_count": 73,
   "metadata": {
    "colab_type": "code"
   },
   "outputs": [],
   "source": [
    "from tensorflow import keras\n",
    "from tensorflow.keras import layers\n",
    "\n",
    "model = keras.Sequential([\n",
    "    layers.Dense(16, activation=\"relu\"),\n",
    "    layers.Dense(16, activation=\"relu\"),\n",
    "    layers.Dense(1, activation=\"sigmoid\")\n",
    "])"
   ]
  },
  {
   "cell_type": "code",
   "execution_count": 74,
   "metadata": {},
   "outputs": [
    {
     "name": "stderr",
     "output_type": "stream",
     "text": [
      "/Users/alemalvarez/.pyenv/versions/3.11.5/lib/python3.11/site-packages/torch/nn/modules/lazy.py:181: UserWarning: Lazy modules are a new feature under heavy development so changes to the API or functionality can happen at any moment.\n",
      "  warnings.warn('Lazy modules are a new feature under heavy development '\n"
     ]
    }
   ],
   "source": [
    "# PyTorch:\n",
    "import torch\n",
    "class TorchModel (torch.nn.Module):\n",
    "    def __init__(self):\n",
    "        super().__init__()\n",
    "        # This layer is lazy, it will only be created when the model is\n",
    "        # first run. Kind of similar to how Keras works.\n",
    "        self.fc1 = torch.nn.LazyLinear(16)\n",
    "        self.fc2 = torch.nn.Linear(16, 16)\n",
    "        self.fc3 = torch.nn.Linear(16, 1)\n",
    "    def forward(self, x):\n",
    "        x = torch.relu(self.fc1(x))\n",
    "        x = torch.relu(self.fc2(x))\n",
    "        return torch.sigmoid(self.fc3(x))\n",
    "\n",
    "torchmodel = TorchModel()"
   ]
  },
  {
   "cell_type": "markdown",
   "metadata": {
    "colab_type": "text"
   },
   "source": [
    "**Listing 4.5: Compiling the model**"
   ]
  },
  {
   "cell_type": "code",
   "execution_count": 75,
   "metadata": {
    "colab_type": "code"
   },
   "outputs": [],
   "source": [
    "model.compile(optimizer=\"rmsprop\", # rmsprop is a good default optimizer\n",
    "              loss=\"binary_crossentropy\", # binary_crossentropy is a good default loss function for binary classification\n",
    "              metrics=[\"accuracy\"])"
   ]
  },
  {
   "cell_type": "code",
   "execution_count": 76,
   "metadata": {},
   "outputs": [],
   "source": [
    "optimizer = torch.optim.RMSprop(torchmodel.parameters())\n",
    "loss_fn = torch.nn.BCELoss() # Binary Cross-Entropy Loss\n",
    "# For computing the loss, we are in a conundrum:\n",
    "# It gets reduced to a scalar by computing the batch average.\n",
    "# However, to be able to compute the average epoch loss, we need to\n",
    "# accumulate the loss without averaging it.\n",
    "# There are two options: either we multiply it back by the batch size\n",
    "# before accumulating it and after updating the weights,\n",
    "# or we keep it from reducing using 'reduction=none'. Then, we would\n",
    "# have to manually divide it by the batch size while computing the\n",
    "# gradient! I prefer approach 1.\n",
    "\n",
    "def torchtrain (model, train_dataloader, optimizer, loss_fn):\n",
    "    model.train() # Set training mode for the model\n",
    "    # Initialize metrics\n",
    "    total_loss = 0.0\n",
    "    correct = 0\n",
    "    samples = 0\n",
    "\n",
    "    for X, y in train_dataloader: # Iterate over the batches\n",
    "        # Forward pass\n",
    "        y_hat = torch.flatten(model(X)) # I flatten it because the output has shape (batch_size, 1)\n",
    "        # You can also use unsqueeze to add a dimension to the targets.\n",
    "\n",
    "        loss = loss_fn(y_hat, y) # Calculate the loss\n",
    "\n",
    "        # Backprop\n",
    "        optimizer.zero_grad() # Zero the gradients\n",
    "        loss.backward() # Calculate the gradients\n",
    "        optimizer.step() # Update the weights\n",
    "\n",
    "        # Metrics\n",
    "        total_loss += loss.item()*len(X) # Loss value!\n",
    "        # The expression y_hat.round() == y returns a tensor with shape\n",
    "        # 512x1 with True/False values. sum() will sum the True values.\n",
    "        # item() will convert the tensor to a Python number.\n",
    "        correct += ((y_hat.round()) == y).sum().item()\n",
    "        samples += len(y) # Items in the batch\n",
    "\n",
    "    avg_loss = total_loss / len(train_dataloader.dataset)\n",
    "    return avg_loss, correct / samples # Accuracy and loss\n",
    "\n",
    "def torchtest (model, test_dataloader, loss_fn):\n",
    "    model.eval() # Set evaluation mode\n",
    "    # Initialize metrics\n",
    "    total_loss = 0.0\n",
    "    correct = 0\n",
    "    samples = 0\n",
    "\n",
    "    with torch.no_grad(): # Disable gradient calculation\n",
    "        for X, y in test_dataloader: # Iterate over the batches\n",
    "            y_hat = torch.flatten(model(X)) # Forward pass. Flatten to get shape (512)\n",
    "            loss = loss_fn(y_hat, y) # Calculate the loss\n",
    "            # Metrics\n",
    "            total_loss += loss.item()*len(X) # Loss value\n",
    "            correct += ((y_hat.round()) == y).sum().item() # Correct count\n",
    "            samples += len(y) # Items in the batch\n",
    "    avg_loss = total_loss / len(test_dataloader.dataset)\n",
    "    return avg_loss, correct / samples"
   ]
  },
  {
   "cell_type": "markdown",
   "metadata": {
    "colab_type": "text"
   },
   "source": [
    "### Validating your approach"
   ]
  },
  {
   "cell_type": "markdown",
   "metadata": {
    "colab_type": "text"
   },
   "source": [
    "**Listing 4.6: Setting aside a validation set**"
   ]
  },
  {
   "cell_type": "code",
   "execution_count": 77,
   "metadata": {
    "colab_type": "code"
   },
   "outputs": [],
   "source": [
    "x_val = x_train[:10000]\n",
    "partial_x_train = x_train[10000:]\n",
    "y_val = y_train[:10000]\n",
    "partial_y_train = y_train[10000:]\n",
    "\n",
    "# Or, in scikit:\n",
    "from sklearn.model_selection import train_test_split\n",
    "x_train, x_val, y_train, y_val = train_test_split(x_train, y_train,\n",
    "                                                  test_size=10000)"
   ]
  },
  {
   "cell_type": "code",
   "execution_count": 78,
   "metadata": {},
   "outputs": [
    {
     "name": "stdout",
     "output_type": "stream",
     "text": [
      "==================== train_dataloader | tensor_info ====================\n",
      "Type: <class 'torch.utils.data.dataloader.DataLoader'>\n",
      "Batch size: 512 | N batches: 30 \n",
      "-- First batch of features\n",
      "Type: <class 'torch.Tensor'>\n",
      "Shape: torch.Size([512, 10000]) | nDims: 2 | dtype: torch.float32\n",
      "features[0]: tensor([0., 1., 1., 0., 1., 1., 1., 1., 1., 1., 1., 1., 1., 1., 1., 0., 1., 1.,\n",
      "        0., 1.])\n",
      "... (showing only the first 20 elements)\n",
      "\n",
      "-- First batch of labels\n",
      "Type: <class 'torch.Tensor'>\n",
      "Shape: torch.Size([512]) | nDims: 1 | dtype: torch.float32\n",
      "Content: tensor([0., 0., 0., 0., 1., 0., 0., 1., 0., 1., 0., 0., 0., 0., 0., 1., 1., 0.,\n",
      "        1., 1.])\n",
      "... (showing only the first 20 elements)\n",
      "\n",
      "\n",
      "==================== val_dataloader | tensor_info ====================\n",
      "Type: <class 'torch.utils.data.dataloader.DataLoader'>\n",
      "Batch size: 512 | N batches: 20 \n",
      "-- First batch of features\n",
      "Type: <class 'torch.Tensor'>\n",
      "Shape: torch.Size([512, 10000]) | nDims: 2 | dtype: torch.float32\n",
      "features[0]: tensor([0., 1., 1., 0., 1., 1., 1., 0., 1., 1., 0., 1., 1., 0., 1., 1., 1., 0.,\n",
      "        0., 1.])\n",
      "... (showing only the first 20 elements)\n",
      "\n",
      "-- First batch of labels\n",
      "Type: <class 'torch.Tensor'>\n",
      "Shape: torch.Size([512]) | nDims: 1 | dtype: torch.float32\n",
      "Content: tensor([0., 0., 0., 1., 0., 1., 0., 0., 0., 0., 1., 0., 1., 0., 0., 1., 0., 1.,\n",
      "        1., 1.])\n",
      "... (showing only the first 20 elements)\n",
      "\n",
      "\n"
     ]
    }
   ],
   "source": [
    "# Let's build two PyTorch dataloaders to hold the data\n",
    "train_dataset = []\n",
    "val_dataset = []\n",
    "for i in range(len(x_train)):\n",
    "   train_dataset.append([x_train[i].astype(\"float32\"), y_train[i].astype(\"float32\")])\n",
    "# Torch wants the features as 32-bit floats.\n",
    "\n",
    "for i in range(len(x_val)):\n",
    "   val_dataset.append([x_val[i].astype(\"float32\"), y_val[i].astype(\"float32\")])\n",
    "\n",
    "train_dataloader = torch.utils.data.DataLoader(train_dataset, shuffle=True, batch_size=512)\n",
    "val_dataloader = torch.utils.data.DataLoader(val_dataset, shuffle=False, batch_size=512)\n",
    "tensor_toolbox.tensor_info(train_dataloader, \"train_dataloader\", image=False)\n",
    "tensor_toolbox.tensor_info(val_dataloader, \"val_dataloader\", image=False)"
   ]
  },
  {
   "cell_type": "markdown",
   "metadata": {},
   "source": [
    "**Anex: Propagations in PyTorch**"
   ]
  },
  {
   "cell_type": "code",
   "execution_count": 79,
   "metadata": {},
   "outputs": [
    {
     "name": "stdout",
     "output_type": "stream",
     "text": [
      "==================== first_batch_input | tensor_info ====================\n",
      "Type: <class 'torch.Tensor'>\n",
      "Shape: torch.Size([512, 10000]) | nDims: 2 | dtype: torch.float32\n",
      "first_batch_input[0]: tensor([0., 1., 1., 0., 1., 1., 1., 1., 1., 1., 1., 1., 1., 1., 0., 1., 0., 1.,\n",
      "        1., 1.])\n",
      "... (showing only the first 20 elements)\n",
      "\n",
      "==================== first_batch_labels | tensor_info ====================\n",
      "Type: <class 'torch.Tensor'>\n",
      "Shape: torch.Size([512]) | nDims: 1 | dtype: torch.float32\n",
      "Content: tensor([0., 0., 1., 1., 1., 1., 0., 0., 0., 1., 1., 0., 1., 1., 0., 0., 1., 0.,\n",
      "        0., 0.])\n",
      "... (showing only the first 20 elements)\n",
      "\n"
     ]
    }
   ],
   "source": [
    "# The moment has come to look into the shapes of the info flow in PyTorch. \n",
    "# Let's select a single sample, and propagate it through the model.\n",
    "first_batch = next(iter(train_dataloader))\n",
    "first_batch_input = first_batch[0]\n",
    "first_batch_labels = first_batch[1]\n",
    "tensor_toolbox.tensor_info(first_batch_input, \"first_batch_input\", image=False)\n",
    "tensor_toolbox.tensor_info(first_batch_labels, \"first_batch_labels\", image=False)"
   ]
  },
  {
   "cell_type": "code",
   "execution_count": 80,
   "metadata": {},
   "outputs": [
    {
     "name": "stdout",
     "output_type": "stream",
     "text": [
      "==================== first_batch_output | tensor_info ====================\n",
      "Type: <class 'torch.Tensor'>\n",
      "Shape: torch.Size([512, 1]) | nDims: 2 | dtype: torch.float32\n",
      "Content: tensor([0.5340, 0.5344, 0.5330, 0.5306, 0.5343, 0.5351, 0.5349, 0.5373, 0.5355,\n",
      "        0.5357, 0.5346, 0.5346, 0.5353, 0.5364, 0.5312, 0.5341, 0.5329, 0.5352,\n",
      "        0.5363, 0.5329], grad_fn=<ViewBackward0>)\n",
      "... (showing only the first 20 elements)\n",
      "\n",
      "==================== first_batch_label unsqueezed | tensor_info ====================\n",
      "Type: <class 'torch.Tensor'>\n",
      "Shape: torch.Size([512, 1]) | nDims: 2 | dtype: torch.float32\n",
      "Content: tensor([0., 0., 1., 1., 1., 1., 0., 0., 0., 1., 1., 0., 1., 1., 0., 0., 1., 0.,\n",
      "        0., 0.])\n",
      "... (showing only the first 20 elements)\n",
      "\n",
      "==================== first_batch_loss | tensor_info ====================\n",
      "Type: <class 'torch.Tensor'>\n",
      "Shape: torch.Size([]) | nDims: 0 | dtype: torch.float32\n",
      "Content: 0.6959192156791687\n",
      "\n"
     ]
    },
    {
     "name": "stderr",
     "output_type": "stream",
     "text": [
      "/Users/alemalvarez/code-workspace/dl-with-python-pytorch/tensor_toolbox.py:65: UserWarning: The .grad attribute of a Tensor that is not a leaf Tensor is being accessed. Its .grad attribute won't be populated during autograd.backward(). If you indeed want the .grad field to be populated for a non-leaf Tensor, use .retain_grad() on the non-leaf Tensor. If you access the non-leaf Tensor by mistake, make sure you access the leaf Tensor instead. See github.com/pytorch/pytorch/pull/30531 for more informations. (Triggered internally at /Users/runner/work/pytorch/pytorch/pytorch/build/aten/src/ATen/core/TensorBody.h:494.)\n",
      "  if(tensor.requires_grad and tensor.grad is not None):\n"
     ]
    }
   ],
   "source": [
    "# It's key to see that even though a batch consists of 512 samples, it is only\n",
    "# one tensor! This is because the model is designed to handle batches, and\n",
    "# the operations get vectorized. \n",
    "first_batch_output = torchmodel(first_batch_input)\n",
    "tensor_toolbox.tensor_info(first_batch_output, \"first_batch_output\", image=False)\n",
    "# The shapes are different! Y is 512 Sized and yhat is 512x1 sized. \n",
    "# Let's fix it.\n",
    "first_batch_labels_expanded = first_batch_labels.unsqueeze(1)\n",
    "tensor_toolbox.tensor_info(first_batch_labels_expanded, \"first_batch_label unsqueezed\", image=False)\n",
    "\n",
    "first_batch_loss = loss_fn(first_batch_output, first_batch_labels_expanded) # If reduction is 'mean'\n",
    "# (which is default), the loss is averaged over the batch. Therefore, the loss is a scalar tensor!\n",
    "\n",
    "tensor_toolbox.tensor_info(first_batch_loss, \"first_batch_loss\", image=False)"
   ]
  },
  {
   "cell_type": "code",
   "execution_count": 81,
   "metadata": {},
   "outputs": [
    {
     "name": "stdout",
     "output_type": "stream",
     "text": [
      "==================== first_batch_correct raw | tensor_info ====================\n",
      "Type: <class 'torch.Tensor'>\n",
      "Shape: torch.Size([512, 1]) | nDims: 2 | dtype: torch.bool\n",
      "Content: tensor([False, False,  True,  True,  True,  True, False, False, False,  True,\n",
      "         True, False,  True,  True, False, False,  True, False, False, False])\n",
      "... (showing only the first 20 elements)\n",
      "\n",
      "==================== first_batch_correct | tensor_info ====================\n",
      "Type: <class 'torch.Tensor'>\n",
      "Shape: torch.Size([]) | nDims: 0 | dtype: torch.int64\n",
      "Content: 255\n",
      "\n"
     ]
    }
   ],
   "source": [
    "# Let's compute the correct labels for accuracy calculations:\n",
    "# In this case, as y is a 512x1 tensor, it is easier to sum the correct guesses by\n",
    "# comparing element-wise and adding the results.\n",
    "first_batch_correct = ((first_batch_output.round()) == first_batch_labels_expanded)\n",
    "tensor_toolbox.tensor_info(first_batch_correct, \"first_batch_correct raw\", image=False)\n",
    "first_batch_correct = first_batch_correct.sum()\n",
    "tensor_toolbox.tensor_info(first_batch_correct, \"first_batch_correct\", image=False)\n"
   ]
  },
  {
   "cell_type": "markdown",
   "metadata": {
    "colab_type": "text"
   },
   "source": [
    "**Listing 4.7: Training your model**"
   ]
  },
  {
   "cell_type": "code",
   "execution_count": 82,
   "metadata": {
    "colab_type": "code"
   },
   "outputs": [
    {
     "data": {
      "application/vnd.jupyter.widget-view+json": {
       "model_id": "b1b577edb71941939886a79b0dd772db",
       "version_major": 2,
       "version_minor": 0
      },
      "text/plain": [
       "0epoch [00:00, ?epoch/s]"
      ]
     },
     "metadata": {},
     "output_type": "display_data"
    },
    {
     "data": {
      "application/vnd.jupyter.widget-view+json": {
       "model_id": "06dd92b2c88f415f93063980ea940ffd",
       "version_major": 2,
       "version_minor": 0
      },
      "text/plain": [
       "0batch [00:00, ?batch/s]"
      ]
     },
     "metadata": {},
     "output_type": "display_data"
    }
   ],
   "source": [
    "from tqdm.keras import TqdmCallback\n",
    "history = model.fit(partial_x_train,\n",
    "                    partial_y_train,\n",
    "                    epochs=20,\n",
    "                    batch_size=512,\n",
    "                    validation_data=(x_val, y_val),\n",
    "                    verbose=0,\n",
    "                    callbacks=[TqdmCallback(verbose=1)])"
   ]
  },
  {
   "cell_type": "code",
   "execution_count": 83,
   "metadata": {
    "colab_type": "code"
   },
   "outputs": [
    {
     "data": {
      "image/png": "[encoded data removed]",
      "text/plain": [
       "<Figure size 2000x500 with 4 Axes>"
      ]
     },
     "metadata": {},
     "output_type": "display_data"
    }
   ],
   "source": [
    "tensor_toolbox.draw_training_history(history=history)\n"
   ]
  },
  {
   "cell_type": "code",
   "execution_count": 84,
   "metadata": {},
   "outputs": [
    {
     "name": "stdout",
     "output_type": "stream",
     "text": [
      "Epoch 1/20\n",
      "Train -- Accuracy: 0.7359333333333333 | Loss: 0.594515093199412\n",
      "Validation -- Accuracy: 0.8839 | Loss: 0.29839366059303285\n",
      "Epoch 2/20\n",
      "Train -- Accuracy: 0.915 | Loss: 0.22677654213110607\n",
      "Validation -- Accuracy: 0.8879 | Loss: 0.29463234496116636\n",
      "Epoch 3/20\n",
      "Train -- Accuracy: 0.9471333333333334 | Loss: 0.15247197965780893\n",
      "Validation -- Accuracy: 0.8846 | Loss: 0.31492095851898194\n",
      "Epoch 4/20\n",
      "Train -- Accuracy: 0.953 | Loss: 0.13654861183961234\n",
      "Validation -- Accuracy: 0.8833 | Loss: 0.3139479031085968\n",
      "Epoch 5/20\n",
      "Train -- Accuracy: 0.9844666666666667 | Loss: 0.06470541444818179\n",
      "Validation -- Accuracy: 0.8833 | Loss: 0.3799421772480011\n",
      "Epoch 6/20\n",
      "Train -- Accuracy: 0.9915333333333334 | Loss: 0.039785741583506264\n",
      "Validation -- Accuracy: 0.8808 | Loss: 0.43085006585121155\n",
      "Epoch 7/20\n",
      "Train -- Accuracy: 0.9953333333333333 | Loss: 0.024157497598727543\n",
      "Validation -- Accuracy: 0.8703 | Loss: 0.5348481232643127\n",
      "Epoch 8/20\n",
      "Train -- Accuracy: 0.9976 | Loss: 0.01443783285021782\n",
      "Validation -- Accuracy: 0.8745 | Loss: 0.5558189067840577\n",
      "Epoch 9/20\n",
      "Train -- Accuracy: 0.9985333333333334 | Loss: 0.008421042275428772\n",
      "Validation -- Accuracy: 0.8757 | Loss: 0.6048362245559692\n",
      "Epoch 10/20\n",
      "Train -- Accuracy: 0.9990666666666667 | Loss: 0.00518022160778443\n",
      "Validation -- Accuracy: 0.8746 | Loss: 0.6675380610466003\n",
      "Epoch 11/20\n",
      "Train -- Accuracy: 0.9993333333333333 | Loss: 0.003512750223899881\n",
      "Validation -- Accuracy: 0.8738 | Loss: 0.7442629607200623\n",
      "Epoch 12/20\n",
      "Train -- Accuracy: 0.9993333333333333 | Loss: 0.0026215262126798432\n",
      "Validation -- Accuracy: 0.8743 | Loss: 0.7786965251922607\n",
      "Epoch 13/20\n",
      "Train -- Accuracy: 0.9995333333333334 | Loss: 0.0020450403501900533\n",
      "Validation -- Accuracy: 0.8728 | Loss: 0.8389171460151672\n",
      "Epoch 14/20\n",
      "Train -- Accuracy: 0.9995333333333334 | Loss: 0.0016995825010662278\n",
      "Validation -- Accuracy: 0.8737 | Loss: 0.8903047559738159\n",
      "Epoch 15/20\n",
      "Train -- Accuracy: 0.9995333333333334 | Loss: 0.001510219045045475\n",
      "Validation -- Accuracy: 0.8729 | Loss: 0.9167089987754822\n",
      "Epoch 16/20\n",
      "Train -- Accuracy: 0.9996 | Loss: 0.0013050577362067998\n",
      "Validation -- Accuracy: 0.8732 | Loss: 0.9842102410316468\n",
      "Epoch 17/20\n",
      "Train -- Accuracy: 0.9996 | Loss: 0.0012070103597827256\n",
      "Validation -- Accuracy: 0.873 | Loss: 1.0040341863632203\n",
      "Epoch 18/20\n",
      "Train -- Accuracy: 0.9996 | Loss: 0.0011265693430012713\n",
      "Validation -- Accuracy: 0.8727 | Loss: 1.0491411932945252\n",
      "Epoch 19/20\n",
      "Train -- Accuracy: 0.9996 | Loss: 0.001062318999816974\n",
      "Validation -- Accuracy: 0.8708 | Loss: 1.0762204106330873\n",
      "Epoch 20/20\n",
      "Train -- Accuracy: 0.9996 | Loss: 0.0010329208225787927\n",
      "Validation -- Accuracy: 0.8721 | Loss: 1.171313839149475\n"
     ]
    }
   ],
   "source": [
    "epochs = 20\n",
    "for epoch in range(1, epochs+1):\n",
    "    print(f\"Epoch {epoch}/{epochs}\")\n",
    "    loss, accu = torchtrain(torchmodel, train_dataloader, optimizer, loss_fn)\n",
    "    print(f\"Train -- Accuracy: {accu} | Loss: {loss}\")\n",
    "    loss, accu = torchtest(torchmodel, val_dataloader, loss_fn)\n",
    "    print(f\"Validation -- Accuracy: {accu} | Loss: {loss}\")\n",
    "\n",
    "#TODO: Find a way to print more interesting output that takes less space."
   ]
  },
  {
   "cell_type": "markdown",
   "metadata": {
    "colab_type": "text"
   },
   "source": [
    "**Listing 4.8: Plotting the training and validation loss**"
   ]
  },
  {
   "cell_type": "code",
   "execution_count": 85,
   "metadata": {
    "colab_type": "code"
   },
   "outputs": [
    {
     "data": {
      "image/png": "[encoded data removed]",
      "text/plain": [
       "<Figure size 640x480 with 1 Axes>"
      ]
     },
     "metadata": {},
     "output_type": "display_data"
    }
   ],
   "source": [
    "import matplotlib.pyplot as plt\n",
    "history_dict = history.history\n",
    "loss_values = history_dict[\"loss\"]\n",
    "val_loss_values = history_dict[\"val_loss\"]\n",
    "epochs = range(1, len(loss_values) + 1)\n",
    "plt.plot(epochs, loss_values, \"bo\", label=\"Training loss\")\n",
    "plt.plot(epochs, val_loss_values, \"b\", label=\"Validation loss\")\n",
    "plt.title(\"Training and validation loss\")\n",
    "plt.xlabel(\"Epochs\")\n",
    "plt.ylabel(\"Loss\")\n",
    "plt.legend()\n",
    "plt.show()"
   ]
  },
  {
   "cell_type": "markdown",
   "metadata": {
    "colab_type": "text"
   },
   "source": [
    "**Listing 4.9: Plotting the training and validation accuracy**"
   ]
  },
  {
   "cell_type": "code",
   "execution_count": 86,
   "metadata": {
    "colab_type": "code"
   },
   "outputs": [
    {
     "data": {
      "image/png": "[encoded data removed]",
      "text/plain": [
       "<Figure size 640x480 with 1 Axes>"
      ]
     },
     "metadata": {},
     "output_type": "display_data"
    }
   ],
   "source": [
    "plt.clf()\n",
    "acc = history_dict[\"accuracy\"]\n",
    "val_acc = history_dict[\"val_accuracy\"]\n",
    "plt.plot(epochs, acc, \"bo\", label=\"Training acc\")\n",
    "plt.plot(epochs, val_acc, \"b\", label=\"Validation acc\")\n",
    "plt.title(\"Training and validation accuracy\")\n",
    "plt.xlabel(\"Epochs\")\n",
    "plt.ylabel(\"Accuracy\")\n",
    "plt.legend()\n",
    "plt.show()"
   ]
  },
  {
   "cell_type": "markdown",
   "metadata": {
    "colab_type": "text"
   },
   "source": [
    "**Listing 4.10: Retraining a model from scratch**"
   ]
  },
  {
   "cell_type": "code",
   "execution_count": 87,
   "metadata": {
    "colab_type": "code"
   },
   "outputs": [
    {
     "data": {
      "application/vnd.jupyter.widget-view+json": {
       "model_id": "920d6315d1f74b309b31197f60028757",
       "version_major": 2,
       "version_minor": 0
      },
      "text/plain": [
       "0epoch [00:00, ?epoch/s]"
      ]
     },
     "metadata": {},
     "output_type": "display_data"
    },
    {
     "data": {
      "application/vnd.jupyter.widget-view+json": {
       "model_id": "9cc834325b7e4a13b261e8a03f81eee7",
       "version_major": 2,
       "version_minor": 0
      },
      "text/plain": [
       "0batch [00:00, ?batch/s]"
      ]
     },
     "metadata": {},
     "output_type": "display_data"
    },
    {
     "name": "stdout",
     "output_type": "stream",
     "text": [
      "782/782 [==============================] - 1s 577us/step - loss: 0.3006 - accuracy: 0.8812\n"
     ]
    }
   ],
   "source": [
    "model = keras.Sequential([\n",
    "    layers.Dense(16, activation=\"relu\"),\n",
    "    layers.Dense(16, activation=\"relu\"),\n",
    "    layers.Dense(1, activation=\"sigmoid\")\n",
    "])\n",
    "model.compile(optimizer=\"rmsprop\",\n",
    "              loss=\"binary_crossentropy\",\n",
    "              metrics=[\"accuracy\"])\n",
    "\n",
    "model.fit(np.concatenate((x_train, x_val)), np.concatenate((y_train, y_val)), epochs=4, batch_size=512,\n",
    "          callbacks=[TqdmCallback(verbose=1)], verbose=0)\n",
    "results = model.evaluate(x_test, y_test)"
   ]
  },
  {
   "cell_type": "code",
   "execution_count": 92,
   "metadata": {},
   "outputs": [
    {
     "name": "stdout",
     "output_type": "stream",
     "text": [
      "Epoch 1/2\n",
      "Train -- Accuracy: 0.75624 | Loss: 0.5535380901145935\n",
      "Epoch 2/2\n",
      "Train -- Accuracy: 0.91424 | Loss: 0.22545754675388335\n",
      "Test -- Accuracy: 0.88356 | Loss: 0.28983879580020905\n"
     ]
    }
   ],
   "source": [
    "# Let's create new dataloaders to iterate over the whole training data (training+val) and\n",
    "# the test data.\n",
    "test_dataset = []\n",
    "train_dataset = []\n",
    "for i in range(len(x_test)):\n",
    "   test_dataset.append([x_test[i].astype(\"float32\"), y_test[i].astype(\"float32\")])\n",
    "test_dataloader = torch.utils.data.DataLoader(test_dataset, shuffle=False, batch_size=512)\n",
    "for i in range(len(x_train)):\n",
    "    train_dataset.append([x_train[i].astype(\"float32\"), y_train[i].astype(\"float32\")])\n",
    "for i in range(len(x_val)):\n",
    "    train_dataset.append([x_val[i].astype(\"float32\"), y_val[i].astype(\"float32\")])\n",
    "train_dataloader = torch.utils.data.DataLoader(train_dataset, shuffle=True, batch_size=512)\n",
    "# The torch model peaks in validation metrics at the second iteration! That's actually crazy.\n",
    "epochs = 2\n",
    "# Re-initialize the model, optimizer and loss object:\n",
    "torchmodel = TorchModel()\n",
    "optimizer = torch.optim.RMSprop(torchmodel.parameters())\n",
    "loss_fn = torch.nn.BCELoss() \n",
    "\n",
    "for epoch in range(1, epochs+1):\n",
    "    print(f\"Epoch {epoch}/{epochs}\")\n",
    "    loss, accu = torchtrain(torchmodel, train_dataloader, optimizer, loss_fn)\n",
    "    print(f\"Train -- Accuracy: {accu} | Loss: {loss}\")\n",
    "\n",
    "loss, accu = torchtest(torchmodel, test_dataloader, loss_fn)\n",
    "print(f\"Test -- Accuracy: {accu} | Loss: {loss}\") # Hell yeah! We happy"
   ]
  },
  {
   "cell_type": "markdown",
   "metadata": {
    "colab_type": "text"
   },
   "source": [
    "### Using a trained model to generate predictions on new data"
   ]
  },
  {
   "cell_type": "code",
   "execution_count": 93,
   "metadata": {
    "colab_type": "code"
   },
   "outputs": [
    {
     "name": "stdout",
     "output_type": "stream",
     "text": [
      "782/782 [==============================] - 1s 531us/step\n",
      "==================== Keras predictions | tensor_info ====================\n",
      "Type: <class 'numpy.ndarray'>\n",
      "Shape: (25000, 1) | nDims: 2 | dtype: float32\n",
      "Content: [1.7165101e-01 9.9946529e-01 8.0524588e-01 6.8572801e-01 9.1059357e-01\n",
      " 7.5883859e-01 9.9898380e-01 3.7931222e-03 9.4140583e-01 9.7823679e-01\n",
      " 9.0060568e-01 3.2638672e-03 4.3134154e-05 1.4945872e-02 9.8852611e-01\n",
      " 7.7148843e-06 8.5460758e-01 8.1273705e-01 1.1065808e-03 3.0376222e-02]\n",
      "... (showing only the first 20 elements)\n",
      "\n"
     ]
    }
   ],
   "source": [
    "tensor_toolbox.tensor_info(model.predict(x_test), \"Keras predictions\")"
   ]
  },
  {
   "cell_type": "code",
   "execution_count": 94,
   "metadata": {},
   "outputs": [
    {
     "name": "stdout",
     "output_type": "stream",
     "text": [
      "? this is jackie chan's best film and my personal favourite after the disappointing u s made 'the ? directed by james ? jackie took the concept and placed it slap bang into hong kong this is also probably ? most violent movie with the audience cringing at the bone breaking stunts br br the action is fast and furious jackie and his crew really did put max effort into the fight design bones were broken and blood ? in the process of making this film as you'll see in the credits br br the script is a simple cops and robbers affair nothing special after all it was written around the action i must say that the english version has some dodgy dubbing but it shouldn't put you off too much br br so get the ? round crack open the beers and enjoy by the way the film was ? ? ? by the stunt crew why i'll let you find out for yourself\n",
      "1/1 [==============================] - 0s 23ms/step\n",
      "Prediction: Positive | Confidence: [0.941146]\n"
     ]
    }
   ],
   "source": [
    "index = 751\n",
    "print(read_review(train_data[index], word_index))\n",
    "x = vectorize_sequences([test_data[index]])\n",
    "yhat = model.predict(x)\n",
    "print(f\"Prediction: {'Positive'if yhat[0] > 0.5 else 'Negative'} | Confidence: {yhat[0]}\")"
   ]
  },
  {
   "cell_type": "markdown",
   "metadata": {
    "colab_type": "text"
   },
   "source": [
    "### Further experiments"
   ]
  },
  {
   "cell_type": "code",
   "execution_count": null,
   "metadata": {},
   "outputs": [],
   "source": [
    "# TODO: I would love to streamline this kind of network development. It gets kind of crammed tho..."
   ]
  },
  {
   "cell_type": "code",
   "execution_count": null,
   "metadata": {},
   "outputs": [],
   "source": [
    "model1 = keras.Sequential([\n",
    "    layers.Dense(16, activation=\"relu\"),\n",
    "    layers.Dense(16, activation=\"relu\"),\n",
    "    layers.Dense(1, activation=\"sigmoid\")\n",
    "], name=\"model1\")\n",
    "model1.compile(optimizer=\"rmsprop\",\n",
    "              loss=\"binary_crossentropy\",\n",
    "              metrics=[\"accuracy\"])\n",
    "\n",
    "model2 = keras.Sequential([\n",
    "    layers.Dense(32, activation=\"relu\"),\n",
    "    layers.Dense(1, activation=\"sigmoid\")\n",
    "], name=\"model2\")\n",
    "model2.compile(optimizer=\"rmsprop\",\n",
    "              loss=\"mse\",\n",
    "              metrics=[\"accuracy\"])\n",
    "\n",
    "model3 = keras.Sequential([\n",
    "    layers.Dense(16, activation=\"tanh\"),\n",
    "    layers.Dense(1, activation=\"sigmoid\")\n",
    "], name=\"model3\")\n",
    "model3.compile(optimizer=\"rmsprop\",\n",
    "              loss=\"mse\",\n",
    "              metrics=[\"accuracy\"])\n",
    "model4 = keras.Sequential([\n",
    "    layers.Dense(16, activation=\"relu\"),\n",
    "    layers.Dense(16, activation=\"relu\"),\n",
    "    layers.Dense(1, activation=\"sigmoid\")\n",
    "], name=\"model4\")\n",
    "model4.compile(optimizer=\"rmsprop\",\n",
    "              loss=\"mse\",\n",
    "              metrics=[\"accuracy\"])\n",
    "\n",
    "model5 = keras.Sequential([\n",
    "    layers.Dense(32, activation=\"tanh\"),\n",
    "    layers.Dense(1, activation=\"sigmoid\")\n",
    "], name=\"model5\")\n",
    "model5.compile(optimizer=\"rmsprop\",\n",
    "              loss=\"mse\",\n",
    "              metrics=[\"accuracy\"])\n",
    "\n",
    "model6 = keras.Sequential([\n",
    "    layers.Dense(16, activation=\"relu\"),\n",
    "    layers.Dense(16, activation=\"tanh\"),\n",
    "    layers.Dense(1, activation=\"sigmoid\")\n",
    "], name=\"model6\")\n",
    "model6.compile(optimizer=\"rmsprop\",\n",
    "              loss=\"binary_crossentropy\",\n",
    "              metrics=[\"accuracy\"])\n"
   ]
  },
  {
   "cell_type": "code",
   "execution_count": null,
   "metadata": {},
   "outputs": [],
   "source": [
    "# This function is kind of cool tho.\n",
    "tensor_toolbox.keras_comparer([model1, model2, model3, model4, model5, model6], X_train=x_train, y_train=y_train, X_test=x_test, y_test=y_test, val_data=(x_val, y_val), epochs=10, batch_size=512)"
   ]
  },
  {
   "cell_type": "markdown",
   "metadata": {
    "colab_type": "text"
   },
   "source": [
    "### Wrapping up"
   ]
  },
  {
   "cell_type": "markdown",
   "metadata": {
    "colab_type": "text"
   },
   "source": [
    "## Classifying newswires: A multiclass classification example"
   ]
  },
  {
   "cell_type": "markdown",
   "metadata": {
    "colab_type": "text"
   },
   "source": [
    "### The Reuters dataset"
   ]
  },
  {
   "cell_type": "markdown",
   "metadata": {
    "colab_type": "text"
   },
   "source": [
    "**Listing 4.11: Loading the Reuters dataset**"
   ]
  },
  {
   "cell_type": "code",
   "execution_count": null,
   "metadata": {
    "colab_type": "code"
   },
   "outputs": [],
   "source": [
    "from tensorflow.keras.datasets import reuters\n",
    "(train_data, train_labels), (test_data, test_labels) = reuters.load_data(\n",
    "    num_words=10000)\n",
    "# More list arrays"
   ]
  },
  {
   "cell_type": "markdown",
   "metadata": {
    "colab_type": "text"
   },
   "source": [
    "**Listing 4.12: Decoding newswires back to text**"
   ]
  },
  {
   "cell_type": "code",
   "execution_count": null,
   "metadata": {
    "colab_type": "code"
   },
   "outputs": [],
   "source": [
    "word_index = reuters.get_word_index()\n",
    "reverse_word_index = dict([(value, key) for (key, value) in word_index.items()])\n",
    "decoded_newswire = \" \".join([reverse_word_index.get(i - 3, \"?\") for i in\n",
    "    train_data[0]])"
   ]
  },
  {
   "cell_type": "code",
   "execution_count": null,
   "metadata": {
    "colab_type": "code"
   },
   "outputs": [],
   "source": [
    "tensor_toolbox.tensor_info(train_labels, \"train_labels\", image=False)\n",
    "# Each category corresponds to a newswire topic."
   ]
  },
  {
   "cell_type": "markdown",
   "metadata": {
    "colab_type": "text"
   },
   "source": [
    "### Preparing the data"
   ]
  },
  {
   "cell_type": "markdown",
   "metadata": {
    "colab_type": "text"
   },
   "source": [
    "**Listing 4.13: Encoding the input data**"
   ]
  },
  {
   "cell_type": "code",
   "execution_count": null,
   "metadata": {
    "colab_type": "code"
   },
   "outputs": [],
   "source": [
    "x_train = vectorize_sequences(train_data)\n",
    "x_test = vectorize_sequences(test_data)\n",
    "tensor_toolbox.tensor_info(x_train, \"x_train\", image=False)\n",
    "tensor_toolbox.tensor_info(x_test, \"x_test\", image=False)\n",
    "# As in the previous case, the concept of order is lost."
   ]
  },
  {
   "cell_type": "markdown",
   "metadata": {
    "colab_type": "text"
   },
   "source": [
    "**Listing 4.14: Encoding the labels**"
   ]
  },
  {
   "cell_type": "code",
   "execution_count": null,
   "metadata": {
    "colab_type": "code"
   },
   "outputs": [],
   "source": [
    "def to_one_hot(labels, dimension=46): # 46 categories\n",
    "    results = np.zeros((len(labels), dimension))\n",
    "    for i, label in enumerate(labels):\n",
    "        results[i, label] = 1.\n",
    "    return results\n",
    "y_train = to_one_hot(train_labels)\n",
    "y_test = to_one_hot(test_labels)\n",
    "tensor_toolbox.tensor_info(y_train, \"y_train\", image=False)"
   ]
  },
  {
   "cell_type": "code",
   "execution_count": null,
   "metadata": {
    "colab_type": "code"
   },
   "outputs": [],
   "source": [
    "from tensorflow.keras.utils import to_categorical\n",
    "y_train = to_categorical(train_labels)\n",
    "y_test = to_categorical(test_labels)\n",
    "tensor_toolbox.tensor_info(y_train, \"y_train\", image=False)\n",
    "# Scikit-learn has a similar function called LabelEncoder"
   ]
  },
  {
   "cell_type": "markdown",
   "metadata": {
    "colab_type": "text"
   },
   "source": [
    "### Building your model"
   ]
  },
  {
   "cell_type": "markdown",
   "metadata": {
    "colab_type": "text"
   },
   "source": [
    "**Listing 4.15: Model definition**"
   ]
  },
  {
   "cell_type": "code",
   "execution_count": null,
   "metadata": {
    "colab_type": "code"
   },
   "outputs": [],
   "source": [
    "model = keras.Sequential([\n",
    "    layers.Dense(64, activation=\"relu\"),\n",
    "    layers.Dense(64, activation=\"relu\"),\n",
    "    layers.Dense(46, activation=\"softmax\")\n",
    "])\n",
    "model.build(input_shape=(512, 10000))\n",
    "model.summary()"
   ]
  },
  {
   "cell_type": "code",
   "execution_count": null,
   "metadata": {},
   "outputs": [],
   "source": [
    "from torch import nn\n",
    "import torch.nn.functional as F # Contains the softmax function\n",
    "\n",
    "class TorchModel (nn.Module):\n",
    "    def __init__(self):\n",
    "        super(TorchModel, self).__init__()\n",
    "        # Using LazyLinears again. I could explicitly define the size.\n",
    "        self.fc1 = nn.LazyLinear(64)\n",
    "        self.fc2 = nn.LazyLinear(64)\n",
    "        self.fc3 = nn.LazyLinear(46)\n",
    "\n",
    "    def forward(self, X):\n",
    "        X = torch.relu(self.fc1(X))\n",
    "        X = torch.relu(self.fc2(X))\n",
    "        return F.softmax(self.fc3(X), dim=1)\n"
   ]
  },
  {
   "cell_type": "code",
   "execution_count": null,
   "metadata": {},
   "outputs": [],
   "source": [
    "torchmodel = TorchModel()\n",
    "# This is pretty nice.\n",
    "from torchsummary import summary\n",
    "summary(torchmodel, input_size=(512, 10000))"
   ]
  },
  {
   "cell_type": "markdown",
   "metadata": {
    "colab_type": "text"
   },
   "source": [
    "**Listing 4.16: Compiling the model**"
   ]
  },
  {
   "cell_type": "code",
   "execution_count": null,
   "metadata": {
    "colab_type": "code"
   },
   "outputs": [],
   "source": [
    "model.compile(optimizer=\"rmsprop\",\n",
    "              loss=\"categorical_crossentropy\",\n",
    "              metrics=[\"accuracy\"])"
   ]
  },
  {
   "cell_type": "code",
   "execution_count": null,
   "metadata": {},
   "outputs": [],
   "source": [
    "import torch.optim as optim\n",
    "\n",
    "# RMSprop, as in Keras.\n",
    "# When you pass it model.parameters(), it gets the reference and knows\n",
    "# how to update them. It's very cool.\n",
    "optimizer = optim.RMSprop(torchmodel.parameters())\n",
    "loss_fn = nn.CrossEntropyLoss()\n",
    "\n",
    "def torchtrain(train_dataloader, model, loss_fn, optimizer):\n",
    "    model.train() # We're training you!\n",
    "    total_loss = 0.0\n",
    "    correct = 0\n",
    "    samples = 0\n",
    "\n",
    "    for X, y in train_dataloader:\n",
    "        y_hat = model(X)\n",
    "        loss = loss_fn(y_hat, y)\n",
    "\n",
    "        # Backprop\n",
    "        optimizer.zero_grad()\n",
    "        loss.backward()\n",
    "        optimizer.step()\n",
    "\n",
    "        total_loss += loss.item()\n",
    "        correct += (torch.argmax(y_hat, dim=1) == y).sum().item()\n",
    "        samples += len(y)\n",
    "    print(f\"correct {correct} samples {samples}\")\n",
    "    avg_loss = total_loss / len(train_dataloader.dataset)\n",
    "    return avg_loss, correct / samples\n",
    "\n",
    "def torchtest(test_dataloader, model, loss_fn):\n",
    "    model.eval()\n",
    "    total_loss = 0.0\n",
    "    correct = 0\n",
    "    samples = 0\n",
    "\n",
    "    with torch.no_grad():\n",
    "        for X, y in test_dataloader:\n",
    "            y_hat = model(X)\n",
    "            loss = loss_fn(y_hat, y)\n",
    "\n",
    "            total_loss += loss.item()\n",
    "            correct += (torch.argmax(y_hat) == y).sum().item()\n",
    "            samples += len(y)\n",
    "    avg_loss = total_loss / len(test_dataloader.dataset)\n",
    "    return avg_loss, correct / samples\n"
   ]
  },
  {
   "cell_type": "markdown",
   "metadata": {
    "colab_type": "text"
   },
   "source": [
    "### Validating your approach"
   ]
  },
  {
   "cell_type": "markdown",
   "metadata": {
    "colab_type": "text"
   },
   "source": [
    "**Listing 4.17: Setting aside a validation set**"
   ]
  },
  {
   "cell_type": "code",
   "execution_count": null,
   "metadata": {
    "colab_type": "code"
   },
   "outputs": [],
   "source": [
    "x_val = x_train[:1000]\n",
    "partial_x_train = x_train[1000:]\n",
    "y_val = y_train[:1000]\n",
    "partial_y_train = y_train[1000:]\n",
    "# With sklearn:\n",
    "partial_x_train, x_val, partial_y_train, y_val = train_test_split(x_train, y_train,\n",
    "                                                  test_size=1000)\n",
    "# I'm not a big fan of the names, but it's aight."
   ]
  },
  {
   "cell_type": "code",
   "execution_count": null,
   "metadata": {},
   "outputs": [],
   "source": [
    "# DataLoaders for torch:\n",
    "train_dataset = []\n",
    "val_dataset = []\n",
    "for i in range(len(partial_x_train)):\n",
    "    train_dataset.append([partial_x_train[i].astype(\"float32\"), partial_y_train[i].astype(\"float32\")])\n",
    "for i in range(len(x_val)):\n",
    "    val_dataset.append([x_val[i].astype(\"float32\"), y_val[i].astype(\"float32\")])\n",
    "\n",
    "train_dataloader = torch.utils.data.DataLoader(train_dataset, shuffle=True, batch_size=512)\n",
    "val_dataloader = torch.utils.data.DataLoader(val_dataset, shuffle=False, batch_size=512)"
   ]
  },
  {
   "cell_type": "markdown",
   "metadata": {
    "colab_type": "text"
   },
   "source": [
    "**Listing 4.18: Training the model**"
   ]
  },
  {
   "cell_type": "code",
   "execution_count": null,
   "metadata": {
    "colab_type": "code"
   },
   "outputs": [],
   "source": [
    "from tqdm.keras import TqdmCallback\n",
    "history = model.fit(partial_x_train,\n",
    "                    partial_y_train,\n",
    "                    epochs=20,\n",
    "                    batch_size=512,\n",
    "                    validation_data=(x_val, y_val),\n",
    "                    callbacks=[TqdmCallback(verbose=1)],\n",
    "                    verbose=0)"
   ]
  },
  {
   "cell_type": "code",
   "execution_count": null,
   "metadata": {},
   "outputs": [],
   "source": [
    "\n",
    "epochs = 20\n",
    "for epoch in range(1, epochs+1):\n",
    "    print(f\"Epoch {epoch}/{epochs}\")\n",
    "    loss, accu = torchtrain(train_dataloader, torchmodel, loss_fn, optimizer)\n",
    "    print(f\"Train -- Accuracy: {accu} | Loss: {loss}\")\n",
    "    loss, accu = torchtest(val_dataloader, torchmodel, loss_fn)\n",
    "    print(f\"Validation -- Accuracy: {accu} | Loss: {loss}\")\n"
   ]
  },
  {
   "cell_type": "markdown",
   "metadata": {
    "colab_type": "text"
   },
   "source": [
    "**Listing 4.19: Plotting the training and validation loss**"
   ]
  },
  {
   "cell_type": "code",
   "execution_count": null,
   "metadata": {},
   "outputs": [],
   "source": [
    "tensor_toolbox.draw_training_history(history=history)"
   ]
  },
  {
   "cell_type": "code",
   "execution_count": null,
   "metadata": {
    "colab_type": "code"
   },
   "outputs": [],
   "source": [
    "loss = history.history[\"loss\"]\n",
    "val_loss = history.history[\"val_loss\"]\n",
    "epochs = range(1, len(loss) + 1)\n",
    "plt.plot(epochs, loss, \"bo\", label=\"Training loss\")\n",
    "plt.plot(epochs, val_loss, \"b\", label=\"Validation loss\")\n",
    "plt.title(\"Training and validation loss\")\n",
    "plt.xlabel(\"Epochs\")\n",
    "plt.ylabel(\"Loss\")\n",
    "plt.legend()\n",
    "plt.show()"
   ]
  },
  {
   "cell_type": "markdown",
   "metadata": {
    "colab_type": "text"
   },
   "source": [
    "**Plotting the training and validation accuracy**"
   ]
  },
  {
   "cell_type": "code",
   "execution_count": null,
   "metadata": {
    "colab_type": "code"
   },
   "outputs": [],
   "source": [
    "plt.clf()\n",
    "acc = history.history[\"accuracy\"]\n",
    "val_acc = history.history[\"val_accuracy\"]\n",
    "plt.plot(epochs, acc, \"bo\", label=\"Training accuracy\")\n",
    "plt.plot(epochs, val_acc, \"b\", label=\"Validation accuracy\")\n",
    "plt.title(\"Training and validation accuracy\")\n",
    "plt.xlabel(\"Epochs\")\n",
    "plt.ylabel(\"Accuracy\")\n",
    "plt.legend()\n",
    "plt.show()"
   ]
  },
  {
   "cell_type": "markdown",
   "metadata": {
    "colab_type": "text"
   },
   "source": [
    "**Retraining a model from scratch**"
   ]
  },
  {
   "cell_type": "code",
   "execution_count": null,
   "metadata": {
    "colab_type": "code"
   },
   "outputs": [],
   "source": [
    "model = keras.Sequential([\n",
    "  layers.Dense(64, activation=\"relu\"),\n",
    "  layers.Dense(64, activation=\"relu\"),\n",
    "  layers.Dense(46, activation=\"softmax\")\n",
    "])\n",
    "model.compile(optimizer=\"rmsprop\",\n",
    "              loss=\"categorical_crossentropy\",\n",
    "              metrics=[\"accuracy\"])\n",
    "model.fit(x_train, # This x_train contains both the training and the validation sets. That's \n",
    "          # kind of annoying in my opinion.\n",
    "          y_train,\n",
    "          epochs=9,\n",
    "          batch_size=512)\n",
    "results = model.evaluate(x_test, y_test)"
   ]
  },
  {
   "cell_type": "code",
   "execution_count": null,
   "metadata": {
    "colab_type": "code"
   },
   "outputs": [],
   "source": [
    "results"
   ]
  },
  {
   "cell_type": "code",
   "execution_count": null,
   "metadata": {
    "colab_type": "code"
   },
   "outputs": [],
   "source": [
    "import copy\n",
    "test_labels_copy = copy.copy(test_labels)\n",
    "np.random.shuffle(test_labels_copy)\n",
    "hits_array = np.array(test_labels) == np.array(test_labels_copy)\n",
    "hits_array.mean()"
   ]
  },
  {
   "cell_type": "markdown",
   "metadata": {
    "colab_type": "text"
   },
   "source": [
    "### Generating predictions on new data"
   ]
  },
  {
   "cell_type": "code",
   "execution_count": null,
   "metadata": {
    "colab_type": "code"
   },
   "outputs": [],
   "source": [
    "predictions = model.predict(x_test)"
   ]
  },
  {
   "cell_type": "code",
   "execution_count": null,
   "metadata": {
    "colab_type": "code"
   },
   "outputs": [],
   "source": [
    "predictions[0].shape"
   ]
  },
  {
   "cell_type": "code",
   "execution_count": null,
   "metadata": {
    "colab_type": "code"
   },
   "outputs": [],
   "source": [
    "np.sum(predictions[0])"
   ]
  },
  {
   "cell_type": "code",
   "execution_count": null,
   "metadata": {
    "colab_type": "code"
   },
   "outputs": [],
   "source": [
    "np.argmax(predictions[0])"
   ]
  },
  {
   "cell_type": "markdown",
   "metadata": {
    "colab_type": "text"
   },
   "source": [
    "### A different way to handle the labels and the loss"
   ]
  },
  {
   "cell_type": "code",
   "execution_count": null,
   "metadata": {
    "colab_type": "code"
   },
   "outputs": [],
   "source": [
    "y_train = np.array(train_labels)\n",
    "y_test = np.array(test_labels)"
   ]
  },
  {
   "cell_type": "code",
   "execution_count": null,
   "metadata": {
    "colab_type": "code"
   },
   "outputs": [],
   "source": [
    "model.compile(optimizer=\"rmsprop\",\n",
    "              loss=\"sparse_categorical_crossentropy\",\n",
    "              metrics=[\"accuracy\"])"
   ]
  },
  {
   "cell_type": "markdown",
   "metadata": {
    "colab_type": "text"
   },
   "source": [
    "### The importance of having sufficiently large intermediate layers"
   ]
  },
  {
   "cell_type": "markdown",
   "metadata": {
    "colab_type": "text"
   },
   "source": [
    "**A model with an information bottleneck**"
   ]
  },
  {
   "cell_type": "code",
   "execution_count": null,
   "metadata": {
    "colab_type": "code"
   },
   "outputs": [],
   "source": [
    "model = keras.Sequential([\n",
    "    layers.Dense(64, activation=\"relu\"),\n",
    "    layers.Dense(4, activation=\"relu\"),\n",
    "    layers.Dense(46, activation=\"softmax\")\n",
    "])\n",
    "model.compile(optimizer=\"rmsprop\",\n",
    "              loss=\"categorical_crossentropy\",\n",
    "              metrics=[\"accuracy\"])\n",
    "model.fit(partial_x_train,\n",
    "          partial_y_train,\n",
    "          epochs=20,\n",
    "          batch_size=128,\n",
    "          validation_data=(x_val, y_val))"
   ]
  },
  {
   "cell_type": "markdown",
   "metadata": {
    "colab_type": "text"
   },
   "source": [
    "### Further experiments"
   ]
  },
  {
   "cell_type": "markdown",
   "metadata": {
    "colab_type": "text"
   },
   "source": [
    "### Wrapping up"
   ]
  },
  {
   "cell_type": "markdown",
   "metadata": {
    "colab_type": "text"
   },
   "source": [
    "## Predicting house prices: A regression example"
   ]
  },
  {
   "cell_type": "markdown",
   "metadata": {
    "colab_type": "text"
   },
   "source": [
    "### The Boston Housing Price dataset"
   ]
  },
  {
   "cell_type": "markdown",
   "metadata": {
    "colab_type": "text"
   },
   "source": [
    "**Loading the Boston housing dataset**"
   ]
  },
  {
   "cell_type": "code",
   "execution_count": null,
   "metadata": {
    "colab_type": "code"
   },
   "outputs": [],
   "source": [
    "from tensorflow.keras.datasets import boston_housing\n",
    "(train_data, train_targets), (test_data, test_targets) = boston_housing.load_data()"
   ]
  },
  {
   "cell_type": "code",
   "execution_count": null,
   "metadata": {
    "colab_type": "code"
   },
   "outputs": [],
   "source": [
    "train_data.shape"
   ]
  },
  {
   "cell_type": "code",
   "execution_count": null,
   "metadata": {
    "colab_type": "code"
   },
   "outputs": [],
   "source": [
    "test_data.shape"
   ]
  },
  {
   "cell_type": "code",
   "execution_count": null,
   "metadata": {
    "colab_type": "code"
   },
   "outputs": [],
   "source": [
    "train_targets"
   ]
  },
  {
   "cell_type": "markdown",
   "metadata": {
    "colab_type": "text"
   },
   "source": [
    "### Preparing the data"
   ]
  },
  {
   "cell_type": "markdown",
   "metadata": {
    "colab_type": "text"
   },
   "source": [
    "**Normalizing the data**"
   ]
  },
  {
   "cell_type": "code",
   "execution_count": null,
   "metadata": {
    "colab_type": "code"
   },
   "outputs": [],
   "source": [
    "mean = train_data.mean(axis=0)\n",
    "train_data -= mean\n",
    "std = train_data.std(axis=0)\n",
    "train_data /= std\n",
    "test_data -= mean\n",
    "test_data /= std"
   ]
  },
  {
   "cell_type": "markdown",
   "metadata": {
    "colab_type": "text"
   },
   "source": [
    "### Building your model"
   ]
  },
  {
   "cell_type": "markdown",
   "metadata": {
    "colab_type": "text"
   },
   "source": [
    "**Model definition**"
   ]
  },
  {
   "cell_type": "code",
   "execution_count": null,
   "metadata": {
    "colab_type": "code"
   },
   "outputs": [],
   "source": [
    "def build_model():\n",
    "    model = keras.Sequential([\n",
    "        layers.Dense(64, activation=\"relu\"),\n",
    "        layers.Dense(64, activation=\"relu\"),\n",
    "        layers.Dense(1)\n",
    "    ])\n",
    "    model.compile(optimizer=\"rmsprop\", loss=\"mse\", metrics=[\"mae\"])\n",
    "    return model"
   ]
  },
  {
   "cell_type": "markdown",
   "metadata": {
    "colab_type": "text"
   },
   "source": [
    "### Validating your approach using K-fold validation"
   ]
  },
  {
   "cell_type": "markdown",
   "metadata": {
    "colab_type": "text"
   },
   "source": [
    "**K-fold validation**"
   ]
  },
  {
   "cell_type": "code",
   "execution_count": null,
   "metadata": {
    "colab_type": "code"
   },
   "outputs": [],
   "source": [
    "k = 4\n",
    "num_val_samples = len(train_data) // k\n",
    "num_epochs = 100\n",
    "all_scores = []\n",
    "for i in range(k):\n",
    "    print(f\"Processing fold #{i}\")\n",
    "    val_data = train_data[i * num_val_samples: (i + 1) * num_val_samples]\n",
    "    val_targets = train_targets[i * num_val_samples: (i + 1) * num_val_samples]\n",
    "    partial_train_data = np.concatenate(\n",
    "        [train_data[:i * num_val_samples],\n",
    "         train_data[(i + 1) * num_val_samples:]],\n",
    "        axis=0)\n",
    "    partial_train_targets = np.concatenate(\n",
    "        [train_targets[:i * num_val_samples],\n",
    "         train_targets[(i + 1) * num_val_samples:]],\n",
    "        axis=0)\n",
    "    model = build_model()\n",
    "    model.fit(partial_train_data, partial_train_targets,\n",
    "              epochs=num_epochs, batch_size=16, verbose=0)\n",
    "    val_mse, val_mae = model.evaluate(val_data, val_targets, verbose=0)\n",
    "    all_scores.append(val_mae)"
   ]
  },
  {
   "cell_type": "code",
   "execution_count": null,
   "metadata": {
    "colab_type": "code"
   },
   "outputs": [],
   "source": [
    "all_scores"
   ]
  },
  {
   "cell_type": "code",
   "execution_count": null,
   "metadata": {
    "colab_type": "code"
   },
   "outputs": [],
   "source": [
    "np.mean(all_scores)"
   ]
  },
  {
   "cell_type": "markdown",
   "metadata": {
    "colab_type": "text"
   },
   "source": [
    "**Saving the validation logs at each fold**"
   ]
  },
  {
   "cell_type": "code",
   "execution_count": null,
   "metadata": {
    "colab_type": "code"
   },
   "outputs": [],
   "source": [
    "num_epochs = 500\n",
    "all_mae_histories = []\n",
    "for i in range(k):\n",
    "    print(f\"Processing fold #{i}\")\n",
    "    val_data = train_data[i * num_val_samples: (i + 1) * num_val_samples]\n",
    "    val_targets = train_targets[i * num_val_samples: (i + 1) * num_val_samples]\n",
    "    partial_train_data = np.concatenate(\n",
    "        [train_data[:i * num_val_samples],\n",
    "         train_data[(i + 1) * num_val_samples:]],\n",
    "        axis=0)\n",
    "    partial_train_targets = np.concatenate(\n",
    "        [train_targets[:i * num_val_samples],\n",
    "         train_targets[(i + 1) * num_val_samples:]],\n",
    "        axis=0)\n",
    "    model = build_model()\n",
    "    history = model.fit(partial_train_data, partial_train_targets,\n",
    "                        validation_data=(val_data, val_targets),\n",
    "                        epochs=num_epochs, batch_size=16, verbose=0)\n",
    "    mae_history = history.history[\"val_mae\"]\n",
    "    all_mae_histories.append(mae_history)"
   ]
  },
  {
   "cell_type": "markdown",
   "metadata": {
    "colab_type": "text"
   },
   "source": [
    "**Building the history of successive mean K-fold validation scores**"
   ]
  },
  {
   "cell_type": "code",
   "execution_count": null,
   "metadata": {
    "colab_type": "code"
   },
   "outputs": [],
   "source": [
    "average_mae_history = [\n",
    "    np.mean([x[i] for x in all_mae_histories]) for i in range(num_epochs)]"
   ]
  },
  {
   "cell_type": "markdown",
   "metadata": {
    "colab_type": "text"
   },
   "source": [
    "**Plotting validation scores**"
   ]
  },
  {
   "cell_type": "code",
   "execution_count": null,
   "metadata": {
    "colab_type": "code"
   },
   "outputs": [],
   "source": [
    "plt.plot(range(1, len(average_mae_history) + 1), average_mae_history)\n",
    "plt.xlabel(\"Epochs\")\n",
    "plt.ylabel(\"Validation MAE\")\n",
    "plt.show()"
   ]
  },
  {
   "cell_type": "markdown",
   "metadata": {
    "colab_type": "text"
   },
   "source": [
    "**Plotting validation scores, excluding the first 10 data points**"
   ]
  },
  {
   "cell_type": "code",
   "execution_count": null,
   "metadata": {
    "colab_type": "code"
   },
   "outputs": [],
   "source": [
    "truncated_mae_history = average_mae_history[10:]\n",
    "plt.plot(range(1, len(truncated_mae_history) + 1), truncated_mae_history)\n",
    "plt.xlabel(\"Epochs\")\n",
    "plt.ylabel(\"Validation MAE\")\n",
    "plt.show()"
   ]
  },
  {
   "cell_type": "markdown",
   "metadata": {
    "colab_type": "text"
   },
   "source": [
    "**Training the final model**"
   ]
  },
  {
   "cell_type": "code",
   "execution_count": null,
   "metadata": {
    "colab_type": "code"
   },
   "outputs": [],
   "source": [
    "model = build_model()\n",
    "model.fit(train_data, train_targets,\n",
    "          epochs=130, batch_size=16, verbose=0)\n",
    "test_mse_score, test_mae_score = model.evaluate(test_data, test_targets)"
   ]
  },
  {
   "cell_type": "code",
   "execution_count": null,
   "metadata": {
    "colab_type": "code"
   },
   "outputs": [],
   "source": [
    "test_mae_score"
   ]
  },
  {
   "cell_type": "markdown",
   "metadata": {
    "colab_type": "text"
   },
   "source": [
    "### Generating predictions on new data"
   ]
  },
  {
   "cell_type": "code",
   "execution_count": null,
   "metadata": {
    "colab_type": "code"
   },
   "outputs": [],
   "source": [
    "predictions = model.predict(test_data)\n",
    "predictions[0]"
   ]
  },
  {
   "cell_type": "markdown",
   "metadata": {
    "colab_type": "text"
   },
   "source": [
    "### Wrapping up"
   ]
  },
  {
   "cell_type": "markdown",
   "metadata": {
    "colab_type": "text"
   },
   "source": [
    "## Summary"
   ]
  }
 ],
 "metadata": {
  "colab": {
   "collapsed_sections": [],
   "name": "chapter04_getting-started-with-neural-networks.i",
   "private_outputs": false,
   "provenance": [],
   "toc_visible": true
  },
  "kernelspec": {
   "display_name": "Python 3",
   "language": "python",
   "name": "python3"
  },
  "language_info": {
   "codemirror_mode": {
    "name": "ipython",
    "version": 3
   },
   "file_extension": ".py",
   "mimetype": "text/x-python",
   "name": "python",
   "nbconvert_exporter": "python",
   "pygments_lexer": "ipython3",
   "version": "3.11.5"
  }
 },
 "nbformat": 4,
 "nbformat_minor": 0
}
