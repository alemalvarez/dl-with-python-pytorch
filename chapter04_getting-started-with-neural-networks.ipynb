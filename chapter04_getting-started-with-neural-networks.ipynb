{
 "cells": [
  {
   "cell_type": "code",
   "execution_count": 1,
   "metadata": {},
   "outputs": [],
   "source": [
    "%load_ext autoreload\n",
    "%aimport tensor_toolbox\n",
    "%autoreload 1"
   ]
  },
  {
   "cell_type": "markdown",
   "metadata": {
    "colab_type": "text"
   },
   "source": [
    "# Getting started with neural networks: Classification and regression"
   ]
  },
  {
   "cell_type": "markdown",
   "metadata": {
    "colab_type": "text"
   },
   "source": [
    "## Classifying movie reviews: A binary classification example"
   ]
  },
  {
   "cell_type": "markdown",
   "metadata": {
    "colab_type": "text"
   },
   "source": [
    "### The IMDB dataset"
   ]
  },
  {
   "cell_type": "markdown",
   "metadata": {
    "colab_type": "text"
   },
   "source": [
    "**Listing 4.1: Loading the IMDB dataset**"
   ]
  },
  {
   "cell_type": "code",
   "execution_count": 2,
   "metadata": {
    "colab_type": "code"
   },
   "outputs": [],
   "source": [
    "from tensorflow.keras.datasets import imdb\n",
    "(train_data, train_labels), (test_data, test_labels) = imdb.load_data(\n",
    "    num_words=10000)\n",
    "# These are arrays of lists! Ugh"
   ]
  },
  {
   "cell_type": "markdown",
   "metadata": {
    "colab_type": "text"
   },
   "source": [
    "**Listing 4.2: Decoding reviews back to text**"
   ]
  },
  {
   "cell_type": "code",
   "execution_count": 3,
   "metadata": {
    "colab_type": "code"
   },
   "outputs": [
    {
     "data": {
      "text/plain": [
       "\"? big hair big boobs bad music and a giant safety pin these are the words to best describe this terrible movie i love cheesy horror movies and i've seen hundreds but this had got to be on of the worst ever made the plot is paper thin and ridiculous the acting is an abomination the script is completely laughable the best is the end showdown with the cop and how he worked out who the killer is it's just so damn terribly written the clothes are sickening and funny in equal ? the hair is big lots of boobs ? men wear those cut ? shirts that show off their ? sickening that men actually wore them and the music is just ? trash that plays over and over again in almost every scene there is trashy music boobs and ? taking away bodies and the gym still doesn't close for ? all joking aside this is a truly bad film whose only charm is to look back on the disaster that was the 80's and have a good old laugh at how bad everything was back then\""
      ]
     },
     "execution_count": 3,
     "metadata": {},
     "output_type": "execute_result"
    }
   ],
   "source": [
    "word_index = imdb.get_word_index()\n",
    "def read_review (review, word_index):\n",
    "    reverse_word_index = dict(\n",
    "        [(value, key) for (key, value) in word_index.items()])\n",
    "    return \" \".join(\n",
    "        [reverse_word_index.get(i - 3, \"?\") for i in review])\n",
    "read_review(train_data[1], word_index) # Interesting review"
   ]
  },
  {
   "cell_type": "markdown",
   "metadata": {
    "colab_type": "text"
   },
   "source": [
    "### Preparing the data"
   ]
  },
  {
   "cell_type": "markdown",
   "metadata": {
    "colab_type": "text"
   },
   "source": [
    "**Listing 4.3: Encoding the integer sequences via multi-hot encoding**"
   ]
  },
  {
   "cell_type": "code",
   "execution_count": 4,
   "metadata": {
    "colab_type": "code"
   },
   "outputs": [],
   "source": [
    "import numpy as np\n",
    "# It's important to note that by doing this, the concept of order is lost. The list previously had added meaning by\n",
    "# containing the order of the words. The vectorized interpretation only contains the presence of the word.\n",
    "# Therefore, it is impossible to get the sentence again from the vectorized form!\n",
    "def vectorize_sequences(sequences, dimension=10000):\n",
    "    results = np.zeros((len(sequences), dimension))\n",
    "    for i, sequence in enumerate(sequences):\n",
    "        for j in sequence:\n",
    "            results[i, j] = 1. # Sparse representation of the data\n",
    "            # For each entry, we will obtain a 10000-dimensional vector with 1s and 0s\n",
    "    return results\n",
    "x_train = vectorize_sequences(train_data)\n",
    "x_test = vectorize_sequences(test_data)\n",
    "\n",
    "y_train = np.asarray(train_labels).astype(\"float32\")\n",
    "y_test = np.asarray(test_labels).astype(\"float32\")"
   ]
  },
  {
   "cell_type": "code",
   "execution_count": 5,
   "metadata": {
    "colab_type": "code"
   },
   "outputs": [
    {
     "name": "stdout",
     "output_type": "stream",
     "text": [
      "==================== x_train | tensor_info ====================\n",
      "Type: <class 'numpy.ndarray'>\n",
      "Shape: (25000, 10000) | nDims: 2 | dtype: float64\n",
      "x_train[0]: [0. 1. 1. 0. 1. 1. 1. 1. 1. 1. 0. 0. 1. 1. 1. 1. 1. 1. 1. 1.]\n",
      "... (showing only the first 20 elements)\n",
      "\n",
      "==================== train_labels | tensor_info ====================\n",
      "Type: <class 'numpy.ndarray'>\n",
      "Shape: (25000,) | nDims: 1 | dtype: int64\n",
      "Content: [1 0 0 1 0 0 1 0 1 0 1 0 0 0 0 0 1 1 0 1]\n",
      "... (showing only the first 20 elements)\n",
      "\n"
     ]
    }
   ],
   "source": [
    "tensor_toolbox.tensor_info(x_train, \"x_train\", image=False)\n",
    "tensor_toolbox.tensor_info(train_labels, \"train_labels\")"
   ]
  },
  {
   "cell_type": "markdown",
   "metadata": {
    "colab_type": "text"
   },
   "source": [
    "### Building your model"
   ]
  },
  {
   "cell_type": "markdown",
   "metadata": {
    "colab_type": "text"
   },
   "source": [
    "**Listing 4.4: Model definition**"
   ]
  },
  {
   "cell_type": "code",
   "execution_count": 6,
   "metadata": {
    "colab_type": "code"
   },
   "outputs": [],
   "source": [
    "from tensorflow import keras\n",
    "from tensorflow.keras import layers\n",
    "\n",
    "model = keras.Sequential([\n",
    "    layers.Dense(16, activation=\"relu\"),\n",
    "    layers.Dense(16, activation=\"relu\"),\n",
    "    layers.Dense(1, activation=\"sigmoid\")\n",
    "])"
   ]
  },
  {
   "cell_type": "code",
   "execution_count": 7,
   "metadata": {},
   "outputs": [
    {
     "name": "stderr",
     "output_type": "stream",
     "text": [
      "/Users/alemalvarez/.pyenv/versions/3.11.5/lib/python3.11/site-packages/torch/nn/modules/lazy.py:181: UserWarning: Lazy modules are a new feature under heavy development so changes to the API or functionality can happen at any moment.\n",
      "  warnings.warn('Lazy modules are a new feature under heavy development '\n"
     ]
    }
   ],
   "source": [
    "# PyTorch:\n",
    "import torch\n",
    "class TorchModel (torch.nn.Module):\n",
    "    def __init__(self):\n",
    "        super().__init__()\n",
    "        # This layer is lazy, it will only be created when the model is\n",
    "        # first run. Kind of similar to how Keras works.\n",
    "        self.fc1 = torch.nn.LazyLinear(16)\n",
    "        self.fc2 = torch.nn.Linear(16, 16)\n",
    "        self.fc3 = torch.nn.Linear(16, 1)\n",
    "    def forward(self, x):\n",
    "        x = torch.relu(self.fc1(x))\n",
    "        x = torch.relu(self.fc2(x))\n",
    "        return self.fc3(x)\n",
    "\n",
    "torchmodel = TorchModel()"
   ]
  },
  {
   "cell_type": "markdown",
   "metadata": {
    "colab_type": "text"
   },
   "source": [
    "**Listing 4.5: Compiling the model**"
   ]
  },
  {
   "cell_type": "code",
   "execution_count": 7,
   "metadata": {
    "colab_type": "code"
   },
   "outputs": [],
   "source": [
    "model.compile(optimizer=\"rmsprop\", # rmsprop is a good default optimizer\n",
    "              loss=\"binary_crossentropy\", # binary_crossentropy is a good default loss function for binary classification\n",
    "              metrics=[\"accuracy\"])"
   ]
  },
  {
   "cell_type": "code",
   "execution_count": 9,
   "metadata": {},
   "outputs": [],
   "source": [
    "optimizer = torch.optim.RMSprop(torchmodel.parameters())\n",
    "loss_fn = torch.nn.BCEWithLogitsLoss() # Binary Cross-Entropy Loss from raw logits. Better for numerical stability.\n",
    "# For computing the loss, we are in a conundrum:\n",
    "# It gets reduced to a scalar by computing the batch average.\n",
    "# However, to be able to compute the average epoch loss, we need to\n",
    "# accumulate the loss without averaging it.\n",
    "# There are two options: either we multiply it back by the batch size\n",
    "# before accumulating it and after updating the weights,\n",
    "# or we keep it from reducing using 'reduction=none'. Then, we would\n",
    "# have to manually divide it by the batch size while computing the\n",
    "# gradient! I prefer approach 1.\n",
    "\n",
    "def torchtrain (model, train_dataloader, optimizer, loss_fn):\n",
    "    model.train() # Set training mode for the model\n",
    "    # Initialize metrics\n",
    "    total_loss = 0.0\n",
    "    correct = 0\n",
    "    samples = 0\n",
    "\n",
    "    for X, y in train_dataloader: # Iterate over the batches\n",
    "        # Forward pass\n",
    "        y_hat = torch.flatten(model(X)) # I flatten it because the output has shape (batch_size, 1)\n",
    "        # You can also use unsqueeze to add a dimension to the targets.\n",
    "\n",
    "        loss = loss_fn(y_hat, y) # Calculate the loss\n",
    "\n",
    "        # Backprop\n",
    "        optimizer.zero_grad() # Zero the gradients\n",
    "        loss.backward() # Calculate the gradients\n",
    "        optimizer.step() # Update the weights\n",
    "\n",
    "        # Metrics\n",
    "        total_loss += loss.item()*len(X) # Loss value!\n",
    "        # The expression y_hat.round() == y returns a tensor with shape\n",
    "        # 512x1 with True/False values. sum() will sum the True values.\n",
    "        # item() will convert the tensor to a Python number.\n",
    "\n",
    "        # Keep in mind that, using BCEwithLogitsLoss, the output is not a probability!\n",
    "        # To be able to compute accuracy, we will need to run it through a sigmoid and then\n",
    "        # round it.\n",
    "        correct += ((torch.sigmoid(y_hat).round()) == y).sum().item()\n",
    "        samples += len(y) # Items in the batch\n",
    "\n",
    "    avg_loss = total_loss / len(train_dataloader.dataset)\n",
    "    return avg_loss, correct / samples # Accuracy and loss\n",
    "\n",
    "def torchtest (model, test_dataloader, loss_fn):\n",
    "    model.eval() # Set evaluation mode\n",
    "    # Initialize metrics\n",
    "    total_loss = 0.0\n",
    "    correct = 0\n",
    "    samples = 0\n",
    "\n",
    "    with torch.no_grad(): # Disable gradient calculation\n",
    "        for X, y in test_dataloader: # Iterate over the batches\n",
    "            y_hat = torch.flatten(model(X)) # Forward pass. Flatten to get shape (512)\n",
    "            loss = loss_fn(y_hat, y) # Calculate the loss\n",
    "            # Metrics\n",
    "            total_loss += loss.item()*len(X) # Loss value\n",
    "            correct += (torch.sigmoid(y_hat.round()) == y).sum().item() # Correct count (with sigmoid)\n",
    "            samples += len(y) # Items in the batch\n",
    "    avg_loss = total_loss / len(test_dataloader.dataset)\n",
    "    return avg_loss, correct / samples"
   ]
  },
  {
   "cell_type": "markdown",
   "metadata": {
    "colab_type": "text"
   },
   "source": [
    "### Validating your approach"
   ]
  },
  {
   "cell_type": "markdown",
   "metadata": {
    "colab_type": "text"
   },
   "source": [
    "**Listing 4.6: Setting aside a validation set**"
   ]
  },
  {
   "cell_type": "code",
   "execution_count": 8,
   "metadata": {
    "colab_type": "code"
   },
   "outputs": [],
   "source": [
    "x_val = x_train[:10000]\n",
    "partial_x_train = x_train[10000:]\n",
    "y_val = y_train[:10000]\n",
    "partial_y_train = y_train[10000:]\n",
    "\n",
    "# Or, in scikit:\n",
    "from sklearn.model_selection import train_test_split\n",
    "x_train, x_val, y_train, y_val = train_test_split(x_train, y_train,\n",
    "                                                  test_size=10000)"
   ]
  },
  {
   "cell_type": "code",
   "execution_count": 11,
   "metadata": {},
   "outputs": [
    {
     "name": "stdout",
     "output_type": "stream",
     "text": [
      "==================== train_dataloader | tensor_info ====================\n",
      "Type: <class 'torch.utils.data.dataloader.DataLoader'>\n",
      "Batch size: 512 | N batches: 30 \n",
      "-- First batch of features\n",
      "Type: <class 'torch.Tensor'>\n",
      "Shape: torch.Size([512, 10000]) | nDims: 2 | dtype: torch.float32\n",
      "features[0]: tensor([0., 1., 1., 0., 1., 1., 1., 1., 1., 1., 0., 1., 1., 1., 1., 0., 0., 0.,\n",
      "        1., 1.])\n",
      "... (showing only the first 20 elements)\n",
      "\n",
      "-- First batch of labels\n",
      "Type: <class 'torch.Tensor'>\n",
      "Shape: torch.Size([512]) | nDims: 1 | dtype: torch.float32\n",
      "Content: tensor([1., 0., 1., 0., 0., 0., 1., 1., 0., 0., 0., 0., 1., 1., 1., 0., 0., 1.,\n",
      "        1., 1.])\n",
      "... (showing only the first 20 elements)\n",
      "\n",
      "\n",
      "==================== val_dataloader | tensor_info ====================\n",
      "Type: <class 'torch.utils.data.dataloader.DataLoader'>\n",
      "Batch size: 512 | N batches: 20 \n",
      "-- First batch of features\n",
      "Type: <class 'torch.Tensor'>\n",
      "Shape: torch.Size([512, 10000]) | nDims: 2 | dtype: torch.float32\n",
      "features[0]: tensor([0., 1., 1., 0., 1., 1., 1., 1., 1., 1., 1., 1., 1., 1., 0., 1., 1., 1.,\n",
      "        1., 1.])\n",
      "... (showing only the first 20 elements)\n",
      "\n",
      "-- First batch of labels\n",
      "Type: <class 'torch.Tensor'>\n",
      "Shape: torch.Size([512]) | nDims: 1 | dtype: torch.float32\n",
      "Content: tensor([0., 1., 0., 0., 1., 1., 0., 0., 1., 0., 0., 1., 0., 0., 1., 0., 1., 0.,\n",
      "        0., 0.])\n",
      "... (showing only the first 20 elements)\n",
      "\n",
      "\n"
     ]
    }
   ],
   "source": [
    "# Let's build two PyTorch dataloaders to hold the data\n",
    "train_dataloader = tensor_toolbox.make_dataloader([x_train], [y_train], batch_size=512, shuffle=False)\n",
    "val_dataloader = tensor_toolbox.make_dataloader([x_val], [y_val], batch_size=512, shuffle=False)\n",
    "tensor_toolbox.tensor_info(train_dataloader, \"train_dataloader\", image=False)\n",
    "tensor_toolbox.tensor_info(val_dataloader, \"val_dataloader\", image=False)"
   ]
  },
  {
   "cell_type": "markdown",
   "metadata": {},
   "source": [
    "**Annex: Propagations in PyTorch, Binary Cross Entropy**"
   ]
  },
  {
   "cell_type": "code",
   "execution_count": 12,
   "metadata": {},
   "outputs": [
    {
     "name": "stdout",
     "output_type": "stream",
     "text": [
      "==================== first_batch_input | tensor_info ====================\n",
      "Type: <class 'torch.Tensor'>\n",
      "Shape: torch.Size([512, 10000]) | nDims: 2 | dtype: torch.float32\n",
      "first_batch_input[0]: tensor([0., 1., 1., 0., 1., 1., 1., 1., 1., 1., 0., 1., 1., 1., 1., 0., 0., 0.,\n",
      "        1., 1.])\n",
      "... (showing only the first 20 elements)\n",
      "\n",
      "==================== first_batch_labels | tensor_info ====================\n",
      "Type: <class 'torch.Tensor'>\n",
      "Shape: torch.Size([512]) | nDims: 1 | dtype: torch.float32\n",
      "Content: tensor([1., 0., 1., 0., 0., 0., 1., 1., 0., 0., 0., 0., 1., 1., 1., 0., 0., 1.,\n",
      "        1., 1.])\n",
      "... (showing only the first 20 elements)\n",
      "\n"
     ]
    }
   ],
   "source": [
    "# The moment has come to look into the shapes of the info flow in PyTorch. \n",
    "# Let's select a single sample, and propagate it through the model.\n",
    "first_batch = next(iter(train_dataloader))\n",
    "first_batch_input = first_batch[0]\n",
    "first_batch_labels = first_batch[1]\n",
    "tensor_toolbox.tensor_info(first_batch_input, \"first_batch_input\", image=False)\n",
    "tensor_toolbox.tensor_info(first_batch_labels, \"first_batch_labels\", image=False)"
   ]
  },
  {
   "cell_type": "code",
   "execution_count": 13,
   "metadata": {},
   "outputs": [
    {
     "name": "stdout",
     "output_type": "stream",
     "text": [
      "==================== first_batch_output | tensor_info ====================\n",
      "Type: <class 'torch.Tensor'>\n",
      "Shape: torch.Size([512, 1]) | nDims: 2 | dtype: torch.float32\n",
      "Content: tensor([0.4942, 0.4971, 0.4973, 0.4998, 0.4956, 0.4976, 0.4961, 0.4960, 0.4954,\n",
      "        0.4968, 0.4982, 0.4940, 0.4968, 0.4972, 0.4949, 0.4955, 0.4949, 0.4944,\n",
      "        0.4951, 0.4941], grad_fn=<ViewBackward0>)\n",
      "... (showing only the first 20 elements)\n",
      "\n",
      "==================== first_batch_label unsqueezed | tensor_info ====================\n",
      "Type: <class 'torch.Tensor'>\n",
      "Shape: torch.Size([512, 1]) | nDims: 2 | dtype: torch.float32\n",
      "Content: tensor([1., 0., 1., 0., 0., 0., 1., 1., 0., 0., 0., 0., 1., 1., 1., 0., 0., 1.,\n",
      "        1., 1.])\n",
      "... (showing only the first 20 elements)\n",
      "\n",
      "==================== first_batch_loss | tensor_info ====================\n",
      "Type: <class 'torch.Tensor'>\n",
      "Shape: torch.Size([]) | nDims: 0 | dtype: torch.float32\n",
      "Content: 0.692478597164154\n",
      "\n"
     ]
    },
    {
     "name": "stderr",
     "output_type": "stream",
     "text": [
      "/Users/alemalvarez/code-workspace/dl-with-python-pytorch/tensor_toolbox.py:89: UserWarning: The .grad attribute of a Tensor that is not a leaf Tensor is being accessed. Its .grad attribute won't be populated during autograd.backward(). If you indeed want the .grad field to be populated for a non-leaf Tensor, use .retain_grad() on the non-leaf Tensor. If you access the non-leaf Tensor by mistake, make sure you access the leaf Tensor instead. See github.com/pytorch/pytorch/pull/30531 for more informations. (Triggered internally at /Users/runner/work/pytorch/pytorch/pytorch/build/aten/src/ATen/core/TensorBody.h:494.)\n",
      "  if(tensor.requires_grad and tensor.grad is not None):\n"
     ]
    }
   ],
   "source": [
    "# It's key to see that even though a batch consists of 512 samples, it is only\n",
    "# one tensor! This is because the model is designed to handle batches, and\n",
    "# the operations get vectorized. \n",
    "first_batch_output = torchmodel(first_batch_input)\n",
    "tensor_toolbox.tensor_info(first_batch_output, \"first_batch_output\", image=False)\n",
    "# The shapes are different! Y is 512 Sized and yhat is 512x1 sized. \n",
    "# Let's fix it.\n",
    "first_batch_labels_expanded = first_batch_labels.unsqueeze(1)\n",
    "tensor_toolbox.tensor_info(first_batch_labels_expanded, \"first_batch_label unsqueezed\", image=False)\n",
    "\n",
    "first_batch_loss = loss_fn(first_batch_output, first_batch_labels_expanded) # If reduction is 'mean'\n",
    "# (which is default), the loss is averaged over the batch. Therefore, the loss is a scalar tensor!\n",
    "\n",
    "tensor_toolbox.tensor_info(first_batch_loss, \"first_batch_loss\", image=False)"
   ]
  },
  {
   "cell_type": "code",
   "execution_count": 14,
   "metadata": {},
   "outputs": [
    {
     "name": "stdout",
     "output_type": "stream",
     "text": [
      "==================== first_batch_correct raw | tensor_info ====================\n",
      "Type: <class 'torch.Tensor'>\n",
      "Shape: torch.Size([512, 1]) | nDims: 2 | dtype: torch.bool\n",
      "Content: tensor([False,  True, False,  True,  True,  True, False, False,  True,  True,\n",
      "         True,  True, False, False, False,  True,  True, False, False, False])\n",
      "... (showing only the first 20 elements)\n",
      "\n",
      "==================== first_batch_correct | tensor_info ====================\n",
      "Type: <class 'torch.Tensor'>\n",
      "Shape: torch.Size([]) | nDims: 0 | dtype: torch.int64\n",
      "Content: 277\n",
      "\n"
     ]
    }
   ],
   "source": [
    "# Let's compute the number of correct labels for accuracy calculations:\n",
    "# In this case, as y is a 512x1 tensor, it is easier to sum the correct guesses by\n",
    "# comparing element-wise and adding the results.\n",
    "first_batch_correct = ((first_batch_output.round()) == first_batch_labels_expanded)\n",
    "tensor_toolbox.tensor_info(first_batch_correct, \"first_batch_correct raw\", image=False)\n",
    "first_batch_correct = first_batch_correct.sum()\n",
    "tensor_toolbox.tensor_info(first_batch_correct, \"first_batch_correct\", image=False)\n"
   ]
  },
  {
   "cell_type": "markdown",
   "metadata": {
    "colab_type": "text"
   },
   "source": [
    "**Listing 4.7: Training your model**"
   ]
  },
  {
   "cell_type": "code",
   "execution_count": 9,
   "metadata": {
    "colab_type": "code"
   },
   "outputs": [
    {
     "data": {
      "application/vnd.jupyter.widget-view+json": {
       "model_id": "da37ed430ea443a48458f51c2c58dba8",
       "version_major": 2,
       "version_minor": 0
      },
      "text/plain": [
       "0epoch [00:00, ?epoch/s]"
      ]
     },
     "metadata": {},
     "output_type": "display_data"
    },
    {
     "data": {
      "application/vnd.jupyter.widget-view+json": {
       "model_id": "363577351a144a09bdbbbf831c0f4b91",
       "version_major": 2,
       "version_minor": 0
      },
      "text/plain": [
       "0batch [00:00, ?batch/s]"
      ]
     },
     "metadata": {},
     "output_type": "display_data"
    }
   ],
   "source": [
    "from tqdm.keras import TqdmCallback\n",
    "from tensorflow.keras.callbacks import TensorBoard\n",
    "\n",
    "history = model.fit(partial_x_train,\n",
    "                    partial_y_train,\n",
    "                    epochs=20,\n",
    "                    batch_size=512,\n",
    "                    validation_data=(x_val, y_val),\n",
    "                    verbose=0,\n",
    "                    callbacks=[TqdmCallback(verbose=1), \n",
    "                               TensorBoard(log_dir=\"logs\")])"
   ]
  },
  {
   "cell_type": "code",
   "execution_count": 16,
   "metadata": {
    "colab_type": "code"
   },
   "outputs": [
    {
     "data": {
      "image/png": "[encoded data removed]",
      "text/plain": [
       "<Figure size 2000x500 with 4 Axes>"
      ]
     },
     "metadata": {},
     "output_type": "display_data"
    }
   ],
   "source": [
    "tensor_toolbox.draw_training_history(history=history)\n"
   ]
  },
  {
   "cell_type": "code",
   "execution_count": 17,
   "metadata": {},
   "outputs": [
    {
     "name": "stdout",
     "output_type": "stream",
     "text": [
      "Epoch 1/20\n",
      "Train -- Accuracy: 0.7370666666666666 | Loss: 0.6112157995700837\n",
      "Validation -- Accuracy: 0.8711 | Loss: 0.3175922405719757\n",
      "Epoch 2/20\n",
      "Train -- Accuracy: 0.9016666666666666 | Loss: 0.24886251456737518\n",
      "Validation -- Accuracy: 0.8823 | Loss: 0.2861351694583893\n",
      "Epoch 3/20\n",
      "Train -- Accuracy: 0.9368666666666666 | Loss: 0.17713230335911115\n",
      "Validation -- Accuracy: 0.8806 | Loss: 0.29858031578063965\n",
      "Epoch 4/20\n",
      "Train -- Accuracy: 0.9638666666666666 | Loss: 0.10141454988519351\n",
      "Validation -- Accuracy: 0.8799 | Loss: 0.348565754365921\n",
      "Epoch 5/20\n",
      "Train -- Accuracy: 0.9764 | Loss: 0.07045509678423405\n",
      "Validation -- Accuracy: 0.8791 | Loss: 0.39972504620552063\n",
      "Epoch 6/20\n",
      "Train -- Accuracy: 0.9854 | Loss: 0.046886634885768094\n",
      "Validation -- Accuracy: 0.8738 | Loss: 0.4621594308853149\n",
      "Epoch 7/20\n",
      "Train -- Accuracy: 0.9656 | Loss: 0.1739605342487494\n",
      "Validation -- Accuracy: 0.8792 | Loss: 0.38217355394363406\n",
      "Epoch 8/20\n",
      "Train -- Accuracy: 0.9906 | Loss: 0.03506569293687741\n",
      "Validation -- Accuracy: 0.8769 | Loss: 0.4572056742191315\n",
      "Epoch 9/20\n",
      "Train -- Accuracy: 0.9938 | Loss: 0.021389941010872524\n",
      "Validation -- Accuracy: 0.8751 | Loss: 0.5291803965091705\n",
      "Epoch 10/20\n",
      "Train -- Accuracy: 0.9952 | Loss: 0.01368978699296713\n",
      "Validation -- Accuracy: 0.8748 | Loss: 0.6381984724521637\n",
      "Epoch 11/20\n",
      "Train -- Accuracy: 0.9958 | Loss: 0.009597467208902042\n",
      "Validation -- Accuracy: 0.8741 | Loss: 0.7307847456932068\n",
      "Epoch 12/20\n",
      "Train -- Accuracy: 0.996 | Loss: 0.007428438745687405\n",
      "Validation -- Accuracy: 0.8743 | Loss: 0.8033297063827515\n",
      "Epoch 13/20\n",
      "Train -- Accuracy: 0.9960666666666667 | Loss: 0.006148105746259292\n",
      "Validation -- Accuracy: 0.873 | Loss: 0.8387202603340149\n",
      "Epoch 14/20\n",
      "Train -- Accuracy: 0.9961333333333333 | Loss: 0.005319858650366465\n",
      "Validation -- Accuracy: 0.8729 | Loss: 0.9117776210784913\n",
      "Epoch 15/20\n",
      "Train -- Accuracy: 0.9980666666666667 | Loss: 0.004587269838899374\n",
      "Validation -- Accuracy: 0.871 | Loss: 0.9800881030082703\n",
      "Epoch 16/20\n",
      "Train -- Accuracy: 0.9988666666666667 | Loss: 0.004027209304769834\n",
      "Validation -- Accuracy: 0.8707 | Loss: 1.058175837993622\n",
      "Epoch 17/20\n",
      "Train -- Accuracy: 0.9988 | Loss: 0.0036757373301933207\n",
      "Validation -- Accuracy: 0.8706 | Loss: 1.1109545124053954\n",
      "Epoch 18/20\n",
      "Train -- Accuracy: 0.9988666666666667 | Loss: 0.0033864851510773102\n",
      "Validation -- Accuracy: 0.8704 | Loss: 1.1967171928405762\n",
      "Epoch 19/20\n",
      "Train -- Accuracy: 0.9989333333333333 | Loss: 0.0030857775337994097\n",
      "Validation -- Accuracy: 0.8693 | Loss: 1.3076483810424804\n",
      "Epoch 20/20\n",
      "Train -- Accuracy: 0.999 | Loss: 0.002870709237580498\n",
      "Validation -- Accuracy: 0.8703 | Loss: 1.3434219375610352\n"
     ]
    }
   ],
   "source": [
    "epochs = 20\n",
    "for epoch in range(1, epochs+1):\n",
    "    print(f\"Epoch {epoch}/{epochs}\")\n",
    "    loss, accu = torchtrain(torchmodel, train_dataloader, optimizer, loss_fn)\n",
    "    print(f\"Train -- Accuracy: {accu} | Loss: {loss}\")\n",
    "    loss, accu = torchtest(torchmodel, val_dataloader, loss_fn)\n",
    "    print(f\"Validation -- Accuracy: {accu} | Loss: {loss}\")\n",
    "\n",
    "#TODO: Find a way to print more interesting output that takes less space."
   ]
  },
  {
   "cell_type": "markdown",
   "metadata": {
    "colab_type": "text"
   },
   "source": [
    "**Listing 4.8: Plotting the training and validation loss**"
   ]
  },
  {
   "cell_type": "code",
   "execution_count": 18,
   "metadata": {
    "colab_type": "code"
   },
   "outputs": [
    {
     "data": {
      "image/png": "[encoded data removed]",
      "text/plain": [
       "<Figure size 640x480 with 1 Axes>"
      ]
     },
     "metadata": {},
     "output_type": "display_data"
    }
   ],
   "source": [
    "import matplotlib.pyplot as plt\n",
    "history_dict = history.history\n",
    "loss_values = history_dict[\"loss\"]\n",
    "val_loss_values = history_dict[\"val_loss\"]\n",
    "epochs = range(1, len(loss_values) + 1)\n",
    "plt.plot(epochs, loss_values, \"bo\", label=\"Training loss\")\n",
    "plt.plot(epochs, val_loss_values, \"b\", label=\"Validation loss\")\n",
    "plt.title(\"Training and validation loss\")\n",
    "plt.xlabel(\"Epochs\")\n",
    "plt.ylabel(\"Loss\")\n",
    "plt.legend()\n",
    "plt.show()"
   ]
  },
  {
   "cell_type": "markdown",
   "metadata": {
    "colab_type": "text"
   },
   "source": [
    "**Listing 4.9: Plotting the training and validation accuracy**"
   ]
  },
  {
   "cell_type": "code",
   "execution_count": 19,
   "metadata": {
    "colab_type": "code"
   },
   "outputs": [
    {
     "data": {
      "image/png": "[encoded data removed]",
      "text/plain": [
       "<Figure size 640x480 with 1 Axes>"
      ]
     },
     "metadata": {},
     "output_type": "display_data"
    }
   ],
   "source": [
    "plt.clf()\n",
    "acc = history_dict[\"accuracy\"]\n",
    "val_acc = history_dict[\"val_accuracy\"]\n",
    "plt.plot(epochs, acc, \"bo\", label=\"Training acc\")\n",
    "plt.plot(epochs, val_acc, \"b\", label=\"Validation acc\")\n",
    "plt.title(\"Training and validation accuracy\")\n",
    "plt.xlabel(\"Epochs\")\n",
    "plt.ylabel(\"Accuracy\")\n",
    "plt.legend()\n",
    "plt.show()"
   ]
  },
  {
   "cell_type": "markdown",
   "metadata": {
    "colab_type": "text"
   },
   "source": [
    "**Listing 4.10: Retraining a model from scratch**"
   ]
  },
  {
   "cell_type": "code",
   "execution_count": 20,
   "metadata": {
    "colab_type": "code"
   },
   "outputs": [
    {
     "data": {
      "application/vnd.jupyter.widget-view+json": {
       "model_id": "7ea370dc5d24455b95dc50d4ba7c686f",
       "version_major": 2,
       "version_minor": 0
      },
      "text/plain": [
       "0epoch [00:00, ?epoch/s]"
      ]
     },
     "metadata": {},
     "output_type": "display_data"
    },
    {
     "data": {
      "application/vnd.jupyter.widget-view+json": {
       "model_id": "752c1f3016c1443981798a368f90b529",
       "version_major": 2,
       "version_minor": 0
      },
      "text/plain": [
       "0batch [00:00, ?batch/s]"
      ]
     },
     "metadata": {},
     "output_type": "display_data"
    },
    {
     "name": "stdout",
     "output_type": "stream",
     "text": [
      "782/782 [==============================] - 0s 541us/step - loss: 0.3186 - accuracy: 0.8744\n"
     ]
    }
   ],
   "source": [
    "model = keras.Sequential([\n",
    "    layers.Dense(16, activation=\"relu\"),\n",
    "    layers.Dense(16, activation=\"relu\"),\n",
    "    layers.Dense(1, activation=\"sigmoid\")\n",
    "])\n",
    "model.compile(optimizer=\"rmsprop\",\n",
    "              loss=\"binary_crossentropy\",\n",
    "              metrics=[\"accuracy\"])\n",
    "\n",
    "model.fit(np.concatenate((x_train, x_val)), np.concatenate((y_train, y_val)), epochs=4, batch_size=512,\n",
    "          callbacks=[TqdmCallback(verbose=1)], verbose=0)\n",
    "results = model.evaluate(x_test, y_test)"
   ]
  },
  {
   "cell_type": "code",
   "execution_count": 21,
   "metadata": {},
   "outputs": [
    {
     "name": "stderr",
     "output_type": "stream",
     "text": [
      "/Users/alemalvarez/.pyenv/versions/3.11.5/lib/python3.11/site-packages/torch/nn/modules/lazy.py:181: UserWarning: Lazy modules are a new feature under heavy development so changes to the API or functionality can happen at any moment.\n",
      "  warnings.warn('Lazy modules are a new feature under heavy development '\n"
     ]
    },
    {
     "name": "stdout",
     "output_type": "stream",
     "text": [
      "Epoch 1/2\n",
      "Train -- Accuracy: 0.5062 | Loss: 1.0495133726119996\n",
      "Epoch 2/2\n",
      "Train -- Accuracy: 0.5686 | Loss: 0.6886625045776367\n",
      "Test -- Accuracy: 0.7764 | Loss: 0.5789848280334473\n"
     ]
    }
   ],
   "source": [
    "# Let's create a new dataloader to iterate over the whole training data (training+val) and\n",
    "# another to iterate over the test data.\n",
    "train_dataloader = tensor_toolbox.make_dataloader([x_train, x_val], [y_train, y_val], batch_size=512, shuffle=False)\n",
    "test_dataloader = tensor_toolbox.make_dataloader([x_test], [y_test], batch_size=512, shuffle=False)\n",
    "# The torch model peaks in validation metrics at the second iteration! That's actually crazy.\n",
    "epochs = 2\n",
    "# Re-initialize the model, optimizer and loss object:\n",
    "torchmodel = TorchModel()\n",
    "optimizer = torch.optim.RMSprop(torchmodel.parameters())\n",
    "loss_fn = torch.nn.BCELoss() \n",
    "\n",
    "for epoch in range(1, epochs+1):\n",
    "    print(f\"Epoch {epoch}/{epochs}\")\n",
    "    loss, accu = torchtrain(torchmodel, train_dataloader, optimizer, loss_fn)\n",
    "    print(f\"Train -- Accuracy: {accu} | Loss: {loss}\")\n",
    "\n",
    "loss, accu = torchtest(torchmodel, test_dataloader, loss_fn)\n",
    "print(f\"Test -- Accuracy: {accu} | Loss: {loss}\") # Hell yeah! We happy"
   ]
  },
  {
   "cell_type": "markdown",
   "metadata": {
    "colab_type": "text"
   },
   "source": [
    "### Using a trained model to generate predictions on new data"
   ]
  },
  {
   "cell_type": "code",
   "execution_count": 22,
   "metadata": {
    "colab_type": "code"
   },
   "outputs": [
    {
     "name": "stdout",
     "output_type": "stream",
     "text": [
      "782/782 [==============================] - 0s 437us/step\n",
      "==================== Keras predictions | tensor_info ====================\n",
      "Type: <class 'numpy.ndarray'>\n",
      "Shape: (25000, 1) | nDims: 2 | dtype: float32\n",
      "Content: [1.3077712e-01 9.9908990e-01 6.7013836e-01 6.2095636e-01 9.3199962e-01\n",
      " 6.2911880e-01 9.9857688e-01 2.9880223e-03 9.3209517e-01 9.6303332e-01\n",
      " 8.9919835e-01 3.7891800e-03 3.8891074e-05 1.1317553e-02 9.8426348e-01\n",
      " 2.7555038e-06 8.1941819e-01 6.3465476e-01 1.0759056e-03 2.9207967e-02]\n",
      "... (showing only the first 20 elements)\n",
      "\n"
     ]
    }
   ],
   "source": [
    "tensor_toolbox.tensor_info(model.predict(x_test), \"Keras predictions\")"
   ]
  },
  {
   "cell_type": "code",
   "execution_count": 23,
   "metadata": {},
   "outputs": [
    {
     "name": "stdout",
     "output_type": "stream",
     "text": [
      "? this is jackie chan's best film and my personal favourite after the disappointing u s made 'the ? directed by james ? jackie took the concept and placed it slap bang into hong kong this is also probably ? most violent movie with the audience cringing at the bone breaking stunts br br the action is fast and furious jackie and his crew really did put max effort into the fight design bones were broken and blood ? in the process of making this film as you'll see in the credits br br the script is a simple cops and robbers affair nothing special after all it was written around the action i must say that the english version has some dodgy dubbing but it shouldn't put you off too much br br so get the ? round crack open the beers and enjoy by the way the film was ? ? ? by the stunt crew why i'll let you find out for yourself\n",
      "1/1 [==============================] - 0s 10ms/step\n",
      "Prediction: Positive | Confidence: [0.93385845]\n"
     ]
    }
   ],
   "source": [
    "index = 751\n",
    "print(read_review(train_data[index], word_index))\n",
    "x = vectorize_sequences([test_data[index]])\n",
    "yhat = model.predict(x)\n",
    "print(f\"Prediction: {'Positive'if yhat[0] > 0.5 else 'Negative'} | Confidence: {yhat[0]}\")"
   ]
  },
  {
   "cell_type": "markdown",
   "metadata": {
    "colab_type": "text"
   },
   "source": [
    "### Further experiments"
   ]
  },
  {
   "cell_type": "code",
   "execution_count": 24,
   "metadata": {},
   "outputs": [],
   "source": [
    "# TODO: I would love to streamline this kind of network development. It gets kind of crammed..."
   ]
  },
  {
   "cell_type": "code",
   "execution_count": 25,
   "metadata": {},
   "outputs": [],
   "source": [
    "model1 = keras.Sequential([\n",
    "    layers.Dense(16, activation=\"relu\"),\n",
    "    layers.Dense(16, activation=\"relu\"),\n",
    "    layers.Dense(1, activation=\"sigmoid\")\n",
    "], name=\"model1\")\n",
    "model1.compile(optimizer=\"rmsprop\",\n",
    "              loss=\"binary_crossentropy\",\n",
    "              metrics=[\"accuracy\"])\n",
    "\n",
    "model2 = keras.Sequential([\n",
    "    layers.Dense(32, activation=\"relu\"),\n",
    "    layers.Dense(1, activation=\"sigmoid\")\n",
    "], name=\"model2\")\n",
    "model2.compile(optimizer=\"rmsprop\",\n",
    "              loss=\"mse\",\n",
    "              metrics=[\"accuracy\"])\n",
    "\n",
    "model3 = keras.Sequential([\n",
    "    layers.Dense(16, activation=\"tanh\"),\n",
    "    layers.Dense(1, activation=\"sigmoid\")\n",
    "], name=\"model3\")\n",
    "model3.compile(optimizer=\"rmsprop\",\n",
    "              loss=\"mse\",\n",
    "              metrics=[\"accuracy\"])\n",
    "model4 = keras.Sequential([\n",
    "    layers.Dense(16, activation=\"relu\"),\n",
    "    layers.Dense(16, activation=\"relu\"),\n",
    "    layers.Dense(1, activation=\"sigmoid\")\n",
    "], name=\"model4\")\n",
    "model4.compile(optimizer=\"rmsprop\",\n",
    "              loss=\"mse\",\n",
    "              metrics=[\"accuracy\"])\n",
    "\n",
    "model5 = keras.Sequential([\n",
    "    layers.Dense(32, activation=\"tanh\"),\n",
    "    layers.Dense(1, activation=\"sigmoid\")\n",
    "], name=\"model5\")\n",
    "model5.compile(optimizer=\"rmsprop\",\n",
    "              loss=\"mse\",\n",
    "              metrics=[\"accuracy\"])\n",
    "\n",
    "model6 = keras.Sequential([\n",
    "    layers.Dense(16, activation=\"relu\"),\n",
    "    layers.Dense(16, activation=\"tanh\"),\n",
    "    layers.Dense(1, activation=\"sigmoid\")\n",
    "], name=\"model6\")\n",
    "model6.compile(optimizer=\"rmsprop\",\n",
    "              loss=\"binary_crossentropy\",\n",
    "              metrics=[\"accuracy\"])\n"
   ]
  },
  {
   "cell_type": "code",
   "execution_count": 26,
   "metadata": {},
   "outputs": [],
   "source": [
    "# This function is kind of cool tho.\n",
    "#tensor_toolbox.keras_comparer([model1, model2, model3, model4, model5, model6], X_train=x_train, y_train=y_train, X_test=x_test, y_test=y_test, val_data=(x_val, y_val), epochs=10, batch_size=512)"
   ]
  },
  {
   "cell_type": "markdown",
   "metadata": {
    "colab_type": "text"
   },
   "source": [
    "### Wrapping up"
   ]
  },
  {
   "cell_type": "markdown",
   "metadata": {
    "colab_type": "text"
   },
   "source": [
    "## Classifying newswires: A multiclass classification example"
   ]
  },
  {
   "cell_type": "markdown",
   "metadata": {
    "colab_type": "text"
   },
   "source": [
    "### The Reuters dataset"
   ]
  },
  {
   "cell_type": "markdown",
   "metadata": {
    "colab_type": "text"
   },
   "source": [
    "**Listing 4.11: Loading the Reuters dataset**"
   ]
  },
  {
   "cell_type": "code",
   "execution_count": 27,
   "metadata": {
    "colab_type": "code"
   },
   "outputs": [],
   "source": [
    "from tensorflow.keras.datasets import reuters\n",
    "(train_data, train_labels), (test_data, test_labels) = reuters.load_data(\n",
    "    num_words=10000)\n",
    "# More list arrays. Ugh"
   ]
  },
  {
   "cell_type": "markdown",
   "metadata": {
    "colab_type": "text"
   },
   "source": [
    "**Listing 4.12: Decoding newswires back to text**"
   ]
  },
  {
   "cell_type": "code",
   "execution_count": 28,
   "metadata": {
    "colab_type": "code"
   },
   "outputs": [
    {
     "name": "stdout",
     "output_type": "stream",
     "text": [
      "? ? ? said as a result of its december acquisition of space co it expects earnings per share in 1987 of 1 15 to 1 30 dlrs per share up from 70 cts in 1986 the company said pretax net should rise to nine to 10 mln dlrs from six mln dlrs in 1986 and rental operation revenues to 19 to 22 mln dlrs from 12 5 mln dlrs it said cash flow per share this year should be 2 50 to three dlrs reuter 3\n"
     ]
    }
   ],
   "source": [
    "word_index = reuters.get_word_index()\n",
    "reverse_word_index = dict([(value, key) for (key, value) in word_index.items()])\n",
    "decoded_newswire = \" \".join([reverse_word_index.get(i - 3, \"?\") for i in\n",
    "    train_data[0]])\n",
    "print(decoded_newswire)"
   ]
  },
  {
   "cell_type": "code",
   "execution_count": 29,
   "metadata": {
    "colab_type": "code"
   },
   "outputs": [
    {
     "name": "stdout",
     "output_type": "stream",
     "text": [
      "==================== train_labels | tensor_info ====================\n",
      "Type: <class 'numpy.ndarray'>\n",
      "Shape: (8982,) | nDims: 1 | dtype: int64\n",
      "Content: [ 3  4  3  4  4  4  4  3  3 16  3  3  4  4 19  8 16  3  3 21]\n",
      "... (showing only the first 20 elements)\n",
      "\n"
     ]
    }
   ],
   "source": [
    "tensor_toolbox.tensor_info(train_labels, \"train_labels\", image=False)\n",
    "# Each category corresponds to a newswire topic."
   ]
  },
  {
   "cell_type": "markdown",
   "metadata": {
    "colab_type": "text"
   },
   "source": [
    "### Preparing the data"
   ]
  },
  {
   "cell_type": "markdown",
   "metadata": {
    "colab_type": "text"
   },
   "source": [
    "**Listing 4.13: Encoding the input data**"
   ]
  },
  {
   "cell_type": "code",
   "execution_count": 30,
   "metadata": {
    "colab_type": "code"
   },
   "outputs": [
    {
     "name": "stdout",
     "output_type": "stream",
     "text": [
      "==================== x_train | tensor_info ====================\n",
      "Type: <class 'numpy.ndarray'>\n",
      "Shape: (8982, 10000) | nDims: 2 | dtype: float64\n",
      "x_train[0]: [0. 1. 1. 0. 1. 1. 1. 1. 1. 1. 1. 1. 1. 0. 0. 1. 1. 1. 0. 1.]\n",
      "... (showing only the first 20 elements)\n",
      "\n",
      "==================== x_test | tensor_info ====================\n",
      "Type: <class 'numpy.ndarray'>\n",
      "Shape: (2246, 10000) | nDims: 2 | dtype: float64\n",
      "x_test[0]: [0. 1. 1. 0. 1. 1. 1. 1. 1. 1. 1. 1. 1. 1. 0. 1. 1. 1. 0. 1.]\n",
      "... (showing only the first 20 elements)\n",
      "\n"
     ]
    }
   ],
   "source": [
    "x_train = vectorize_sequences(train_data) # Same function as we used in the previous case\n",
    "x_test = vectorize_sequences(test_data)\n",
    "tensor_toolbox.tensor_info(x_train, \"x_train\", image=False)\n",
    "tensor_toolbox.tensor_info(x_test, \"x_test\", image=False)\n",
    "# As in the previous case, the concept of order is lost."
   ]
  },
  {
   "cell_type": "markdown",
   "metadata": {
    "colab_type": "text"
   },
   "source": [
    "**Listing 4.14: Encoding the labels**"
   ]
  },
  {
   "cell_type": "code",
   "execution_count": 31,
   "metadata": {
    "colab_type": "code"
   },
   "outputs": [
    {
     "name": "stdout",
     "output_type": "stream",
     "text": [
      "==================== y_train | tensor_info ====================\n",
      "Type: <class 'numpy.ndarray'>\n",
      "Shape: (8982, 46) | nDims: 2 | dtype: float64\n",
      "y_train[0]: [0. 0. 0. 1. 0. 0. 0. 0. 0. 0. 0. 0. 0. 0. 0. 0. 0. 0. 0. 0.]\n",
      "... (showing only the first 20 elements)\n",
      "\n"
     ]
    }
   ],
   "source": [
    "def to_one_hot(labels, dimension=46): # 46 categories\n",
    "    results = np.zeros((len(labels), dimension))\n",
    "    for i, label in enumerate(labels):\n",
    "        results[i, label] = 1.\n",
    "    return results\n",
    "y_train = to_one_hot(train_labels)\n",
    "y_test = to_one_hot(test_labels)\n",
    "# Gets encoded into a 46-dimensional vector\n",
    "tensor_toolbox.tensor_info(y_train, \"y_train\", image=False)"
   ]
  },
  {
   "cell_type": "code",
   "execution_count": 32,
   "metadata": {
    "colab_type": "code"
   },
   "outputs": [
    {
     "name": "stdout",
     "output_type": "stream",
     "text": [
      "==================== y_train | tensor_info ====================\n",
      "Type: <class 'numpy.ndarray'>\n",
      "Shape: (8982, 46) | nDims: 2 | dtype: float32\n",
      "y_train[0]: [0. 0. 0. 1. 0. 0. 0. 0. 0. 0. 0. 0. 0. 0. 0. 0. 0. 0. 0. 0.]\n",
      "... (showing only the first 20 elements)\n",
      "\n",
      "==================== y_test | tensor_info ====================\n",
      "Type: <class 'numpy.ndarray'>\n",
      "Shape: (2246, 46) | nDims: 2 | dtype: float32\n",
      "y_test[0]: [0. 0. 0. 1. 0. 0. 0. 0. 0. 0. 0. 0. 0. 0. 0. 0. 0. 0. 0. 0.]\n",
      "... (showing only the first 20 elements)\n",
      "\n"
     ]
    }
   ],
   "source": [
    "from tensorflow.keras.utils import to_categorical\n",
    "y_train = to_categorical(train_labels)\n",
    "y_test = to_categorical(test_labels)\n",
    "tensor_toolbox.tensor_info(y_train, \"y_train\", image=False)\n",
    "tensor_toolbox.tensor_info(y_test, \"y_test\", image=False)\n",
    "# Scikit-learn has a similar function called LabelEncoder"
   ]
  },
  {
   "cell_type": "markdown",
   "metadata": {
    "colab_type": "text"
   },
   "source": [
    "### Building your model"
   ]
  },
  {
   "cell_type": "markdown",
   "metadata": {
    "colab_type": "text"
   },
   "source": [
    "**Listing 4.15: Model definition**"
   ]
  },
  {
   "cell_type": "code",
   "execution_count": 33,
   "metadata": {
    "colab_type": "code"
   },
   "outputs": [
    {
     "name": "stdout",
     "output_type": "stream",
     "text": [
      "Model: \"sequential_2\"\n",
      "_________________________________________________________________\n",
      " Layer (type)                Output Shape              Param #   \n",
      "=================================================================\n",
      " dense_21 (Dense)            (512, 64)                 640064    \n",
      "                                                                 \n",
      " dense_22 (Dense)            (512, 64)                 4160      \n",
      "                                                                 \n",
      " dense_23 (Dense)            (512, 46)                 2990      \n",
      "                                                                 \n",
      "=================================================================\n",
      "Total params: 647214 (2.47 MB)\n",
      "Trainable params: 647214 (2.47 MB)\n",
      "Non-trainable params: 0 (0.00 Byte)\n",
      "_________________________________________________________________\n"
     ]
    }
   ],
   "source": [
    "model = keras.Sequential([\n",
    "    layers.Dense(64, activation=\"relu\"),\n",
    "    layers.Dense(64, activation=\"relu\"),\n",
    "    layers.Dense(46, activation=\"softmax\")\n",
    "])\n",
    "model.build(input_shape=(512, 10000))\n",
    "model.summary() # That's some parameters"
   ]
  },
  {
   "cell_type": "code",
   "execution_count": 34,
   "metadata": {},
   "outputs": [],
   "source": [
    "from torch import nn\n",
    "import torch.nn.functional as F # Contains the softmax function\n",
    "\n",
    "class TorchModel (nn.Module):\n",
    "    def __init__(self):\n",
    "        super(TorchModel, self).__init__()\n",
    "        # Using LazyLinears again. I could explicitly define the size.\n",
    "        self.fc1 = nn.LazyLinear(64)\n",
    "        self.fc2 = nn.Linear(64, 64)\n",
    "        self.fc3 = nn.Linear(64, 46)\n",
    "\n",
    "    def forward(self, X):\n",
    "        X = torch.relu(self.fc1(X))\n",
    "        X = torch.relu(self.fc2(X))\n",
    "        return self.fc3(X) # No activation function here!\n",
    "        # CrossEntropyLoss in PyTorch expects raw logits, not probabilities.\n",
    "    \n"
   ]
  },
  {
   "cell_type": "code",
   "execution_count": 35,
   "metadata": {},
   "outputs": [
    {
     "name": "stdout",
     "output_type": "stream",
     "text": [
      "----------------------------------------------------------------\n",
      "        Layer (type)               Output Shape         Param #\n",
      "================================================================\n",
      "            Linear-1              [-1, 512, 64]         640,064\n",
      "            Linear-2              [-1, 512, 64]           4,160\n",
      "            Linear-3              [-1, 512, 46]           2,990\n",
      "================================================================\n",
      "Total params: 647,214\n",
      "Trainable params: 647,214\n",
      "Non-trainable params: 0\n",
      "----------------------------------------------------------------\n",
      "Input size (MB): 19.53\n",
      "Forward/backward pass size (MB): 0.68\n",
      "Params size (MB): 2.47\n",
      "Estimated Total Size (MB): 22.68\n",
      "----------------------------------------------------------------\n"
     ]
    }
   ],
   "source": [
    "torchmodel = TorchModel()\n",
    "# This is pretty nice.\n",
    "from torchsummary import summary\n",
    "summary(torchmodel, input_size=(512, 10000))"
   ]
  },
  {
   "cell_type": "markdown",
   "metadata": {
    "colab_type": "text"
   },
   "source": [
    "**Listing 4.16: Compiling the model**"
   ]
  },
  {
   "cell_type": "code",
   "execution_count": 36,
   "metadata": {
    "colab_type": "code"
   },
   "outputs": [],
   "source": [
    "model.compile(optimizer=\"rmsprop\",\n",
    "              loss=\"categorical_crossentropy\",\n",
    "              metrics=[\"accuracy\"])"
   ]
  },
  {
   "cell_type": "code",
   "execution_count": 37,
   "metadata": {},
   "outputs": [],
   "source": [
    "# RMSprop, as in Keras.\n",
    "# When you pass it model.parameters(), it gets the reference and knows\n",
    "# how to update them. It's very cool. I'm such a fan of PyTorch.\n",
    "\n",
    "optimizer = torch.optim.RMSprop(torchmodel.parameters())\n",
    "loss_fn = torch.nn.CrossEntropyLoss()\n",
    "\n",
    "def torchtrain(train_dataloader, model, loss_fn, optimizer):\n",
    "    model.train() # We're training you!\n",
    "    total_loss = 0.0\n",
    "    correct = 0\n",
    "    samples = 0\n",
    "\n",
    "    for X, y in train_dataloader:\n",
    "        y_hat = model(X)\n",
    "        loss = loss_fn(y_hat, y)\n",
    "\n",
    "        # Backprop\n",
    "        optimizer.zero_grad()\n",
    "        loss.backward()\n",
    "        optimizer.step()\n",
    "\n",
    "        # Multiply by the batch size to get the total loss\n",
    "        total_loss += loss.item()*len(y)\n",
    "\n",
    "        predicted_labels = torch.argmax(y_hat, dim=1)\n",
    "        true_labels = torch.argmax(y, dim=1)\n",
    "        correct += (predicted_labels == true_labels).sum().item()\n",
    "        samples += len(y)\n",
    "\n",
    "    avg_loss = total_loss / len(train_dataloader.dataset)\n",
    "    return avg_loss, correct / samples\n",
    "\n",
    "def torchtest(test_dataloader, model, loss_fn):\n",
    "    model.eval()\n",
    "    total_loss = 0.0\n",
    "    correct = 0\n",
    "    samples = 0\n",
    "\n",
    "    with torch.no_grad():\n",
    "        for X, y in test_dataloader:\n",
    "            y_hat = model(X)\n",
    "            loss = loss_fn(y_hat, y)\n",
    "\n",
    "            total_loss += loss.item()*len(y)\n",
    "\n",
    "            predicted_labels = torch.argmax(y_hat, dim=1)\n",
    "            true_labels = torch.argmax(y, dim=1)\n",
    "            correct += (predicted_labels == true_labels).sum().item()\n",
    "            samples += len(y)\n",
    "            \n",
    "    avg_loss = total_loss / len(test_dataloader.dataset)\n",
    "    return avg_loss, correct / samples\n"
   ]
  },
  {
   "cell_type": "markdown",
   "metadata": {
    "colab_type": "text"
   },
   "source": [
    "### Validating your approach"
   ]
  },
  {
   "cell_type": "markdown",
   "metadata": {
    "colab_type": "text"
   },
   "source": [
    "**Listing 4.17: Setting aside a validation set**"
   ]
  },
  {
   "cell_type": "code",
   "execution_count": 38,
   "metadata": {
    "colab_type": "code"
   },
   "outputs": [],
   "source": [
    "x_val = x_train[:1000]\n",
    "partial_x_train = x_train[1000:]\n",
    "y_val = y_train[:1000]\n",
    "partial_y_train = y_train[1000:]\n",
    "# With sklearn:\n",
    "partial_x_train, x_val, partial_y_train, y_val = train_test_split(x_train, y_train,\n",
    "                                                  test_size=1000)\n",
    "# I'm not a big fan of the names, but it's aight."
   ]
  },
  {
   "cell_type": "code",
   "execution_count": 39,
   "metadata": {},
   "outputs": [],
   "source": [
    "# DataLoaders for torch:\n",
    "train_dataloader = tensor_toolbox.make_dataloader([partial_x_train], [partial_y_train], batch_size=512, shuffle=False)\n",
    "val_dataloader = tensor_toolbox.make_dataloader([x_val], [y_val], batch_size=512, shuffle=False)"
   ]
  },
  {
   "cell_type": "markdown",
   "metadata": {},
   "source": [
    "**Annex: Propagations in PyTorch, Categorical Cross Entropy**"
   ]
  },
  {
   "cell_type": "code",
   "execution_count": 40,
   "metadata": {},
   "outputs": [
    {
     "name": "stdout",
     "output_type": "stream",
     "text": [
      "==================== first_batch_input | tensor_info ====================\n",
      "Type: <class 'torch.Tensor'>\n",
      "Shape: torch.Size([512, 10000]) | nDims: 2 | dtype: torch.float32\n",
      "first_batch_input[0]: tensor([0., 1., 1., 0., 1., 1., 1., 1., 1., 1., 1., 0., 1., 0., 0., 1., 1., 1.,\n",
      "        0., 1.])\n",
      "... (showing only the first 20 elements)\n",
      "\n",
      "==================== first_batch_labels | tensor_info ====================\n",
      "Type: <class 'torch.Tensor'>\n",
      "Shape: torch.Size([512, 46]) | nDims: 2 | dtype: torch.float32\n",
      "first_batch_labels[0]: tensor([0., 0., 0., 0., 0., 0., 0., 0., 0., 0., 0., 1., 0., 0., 0., 0., 0., 0.,\n",
      "        0., 0.])\n",
      "... (showing only the first 20 elements)\n",
      "\n"
     ]
    }
   ],
   "source": [
    "first_batch = next(iter(train_dataloader))\n",
    "first_batch_input = first_batch[0]\n",
    "first_batch_labels = first_batch[1]\n",
    "tensor_toolbox.tensor_info(first_batch_input, \"first_batch_input\", image=False)\n",
    "tensor_toolbox.tensor_info(first_batch_labels, \"first_batch_labels\", image=False)"
   ]
  },
  {
   "cell_type": "code",
   "execution_count": 41,
   "metadata": {},
   "outputs": [
    {
     "name": "stdout",
     "output_type": "stream",
     "text": [
      "==================== first_batch_output | tensor_info ====================\n",
      "Type: <class 'torch.Tensor'>\n",
      "Shape: torch.Size([512, 46]) | nDims: 2 | dtype: torch.float32\n",
      "first_batch_output[0]: tensor([-0.0330,  0.0141, -0.0363, -0.0935,  0.0777,  0.0345, -0.1060,  0.0954,\n",
      "         0.0395, -0.0352, -0.0505, -0.0564,  0.0986, -0.0312,  0.1129, -0.0201,\n",
      "        -0.0483, -0.0628, -0.0662, -0.0592], grad_fn=<SliceBackward0>)\n",
      "... (showing only the first 20 elements)\n",
      "\n",
      "==================== first_batch_loss | tensor_info ====================\n",
      "Type: <class 'torch.Tensor'>\n",
      "Shape: torch.Size([]) | nDims: 0 | dtype: torch.float32\n",
      "Content: 3.8667898178100586\n",
      "\n"
     ]
    },
    {
     "name": "stderr",
     "output_type": "stream",
     "text": [
      "/Users/alemalvarez/code-workspace/dl-with-python-pytorch/tensor_toolbox.py:89: UserWarning: The .grad attribute of a Tensor that is not a leaf Tensor is being accessed. Its .grad attribute won't be populated during autograd.backward(). If you indeed want the .grad field to be populated for a non-leaf Tensor, use .retain_grad() on the non-leaf Tensor. If you access the non-leaf Tensor by mistake, make sure you access the leaf Tensor instead. See github.com/pytorch/pytorch/pull/30531 for more informations. (Triggered internally at /Users/runner/work/pytorch/pytorch/pytorch/build/aten/src/ATen/core/TensorBody.h:494.)\n",
      "  if(tensor.requires_grad and tensor.grad is not None):\n"
     ]
    }
   ],
   "source": [
    "first_batch_output = torchmodel(first_batch_input)\n",
    "tensor_toolbox.tensor_info(first_batch_output, \"first_batch_output\", image=False)\n",
    "first_batch_loss = loss_fn(first_batch_output, first_batch_labels)\n",
    "# Average loss over the batch\n",
    "tensor_toolbox.tensor_info(first_batch_loss, \"first_batch_loss\", image=False)"
   ]
  },
  {
   "cell_type": "code",
   "execution_count": 42,
   "metadata": {},
   "outputs": [
    {
     "name": "stdout",
     "output_type": "stream",
     "text": [
      "==================== first_batch_predictions | tensor_info ====================\n",
      "Type: <class 'torch.Tensor'>\n",
      "Shape: torch.Size([512]) | nDims: 1 | dtype: torch.int64\n",
      "Content: tensor([24, 24, 24, 24, 24, 24, 24, 24, 24, 24, 24, 24, 24, 24, 24, 24, 24, 24,\n",
      "        24, 24])\n",
      "... (showing only the first 20 elements)\n",
      "\n",
      "==================== first_batch_true | tensor_info ====================\n",
      "Type: <class 'torch.Tensor'>\n",
      "Shape: torch.Size([512]) | nDims: 1 | dtype: torch.int64\n",
      "Content: tensor([11,  3,  9, 20, 30,  4,  3,  3,  6, 11,  3, 19,  4,  4,  0,  4, 16,  3,\n",
      "         3,  4])\n",
      "... (showing only the first 20 elements)\n",
      "\n",
      "==================== first_batch_correct | tensor_info ====================\n",
      "Type: <class 'torch.Tensor'>\n",
      "Shape: torch.Size([]) | nDims: 0 | dtype: torch.int64\n",
      "Content: 1\n",
      "\n"
     ]
    }
   ],
   "source": [
    "# Let's compute the predictions to get the accuracy\n",
    "first_batch_predictions = torch.argmax(first_batch_output, dim=1)\n",
    "first_batch_true = torch.argmax(first_batch_labels, dim=1)\n",
    "tensor_toolbox.tensor_info(first_batch_predictions, \"first_batch_predictions\", image=False)\n",
    "tensor_toolbox.tensor_info(first_batch_true, \"first_batch_true\", image=False)\n",
    "first_batch_correct = (first_batch_predictions == first_batch_true).sum()\n",
    "tensor_toolbox.tensor_info(first_batch_correct, \"first_batch_correct\", image=False)\n"
   ]
  },
  {
   "cell_type": "markdown",
   "metadata": {
    "colab_type": "text"
   },
   "source": [
    "**Listing 4.18: Training the model**"
   ]
  },
  {
   "cell_type": "code",
   "execution_count": 43,
   "metadata": {
    "colab_type": "code"
   },
   "outputs": [
    {
     "data": {
      "application/vnd.jupyter.widget-view+json": {
       "model_id": "48d7c98adb0646138f3ab4058627caab",
       "version_major": 2,
       "version_minor": 0
      },
      "text/plain": [
       "0epoch [00:00, ?epoch/s]"
      ]
     },
     "metadata": {},
     "output_type": "display_data"
    },
    {
     "data": {
      "application/vnd.jupyter.widget-view+json": {
       "model_id": "0cc9550aed594ff39ca8a7423bc7fbfc",
       "version_major": 2,
       "version_minor": 0
      },
      "text/plain": [
       "0batch [00:00, ?batch/s]"
      ]
     },
     "metadata": {},
     "output_type": "display_data"
    }
   ],
   "source": [
    "from tqdm.keras import TqdmCallback\n",
    "history = model.fit(partial_x_train,\n",
    "                    partial_y_train,\n",
    "                    epochs=20,\n",
    "                    batch_size=512,\n",
    "                    validation_data=(x_val, y_val),\n",
    "                    callbacks=[TqdmCallback(verbose=1)],\n",
    "                    verbose=0)"
   ]
  },
  {
   "cell_type": "code",
   "execution_count": 44,
   "metadata": {},
   "outputs": [
    {
     "name": "stdout",
     "output_type": "stream",
     "text": [
      "Epoch 1/30\n",
      "Train -- Accuracy: 0.45088950137810074 | Loss: 3.2757529844409747\n",
      "Validation -- Accuracy: 0.616 | Loss: 1.5371240644454955\n",
      "Epoch 2/30\n",
      "Train -- Accuracy: 0.6738912553244801 | Loss: 1.3459112854178343\n",
      "Validation -- Accuracy: 0.718 | Loss: 1.159098328590393\n",
      "Epoch 3/30\n",
      "Train -- Accuracy: 0.7562014532698572 | Loss: 0.9194483238932065\n",
      "Validation -- Accuracy: 0.752 | Loss: 1.031409791469574\n",
      "Epoch 4/30\n",
      "Train -- Accuracy: 0.8074417439238286 | Loss: 0.6809300561352679\n",
      "Validation -- Accuracy: 0.761 | Loss: 0.9957971019744873\n",
      "Epoch 5/30\n",
      "Train -- Accuracy: 0.8480330744174392 | Loss: 0.5343751083098984\n",
      "Validation -- Accuracy: 0.775 | Loss: 1.0000587120056152\n",
      "Epoch 6/30\n",
      "Train -- Accuracy: 0.8833625657729892 | Loss: 0.4113566933553997\n",
      "Validation -- Accuracy: 0.773 | Loss: 1.0378781266212462\n",
      "Epoch 7/30\n",
      "Train -- Accuracy: 0.9041593585567527 | Loss: 0.33147905753149304\n",
      "Validation -- Accuracy: 0.784 | Loss: 1.0778305649757385\n",
      "Epoch 8/30\n",
      "Train -- Accuracy: 0.9183162114758205 | Loss: 0.28117660756951673\n",
      "Validation -- Accuracy: 0.777 | Loss: 1.1365433311462403\n",
      "Epoch 9/30\n",
      "Train -- Accuracy: 0.9259584064144325 | Loss: 0.2420561331438857\n",
      "Validation -- Accuracy: 0.778 | Loss: 1.1745179920196533\n",
      "Epoch 10/30\n",
      "Train -- Accuracy: 0.9348534201954397 | Loss: 0.2148882062609588\n",
      "Validation -- Accuracy: 0.772 | Loss: 1.2570673456192016\n",
      "Epoch 11/30\n",
      "Train -- Accuracy: 0.9386118767226259 | Loss: 0.18964001272584047\n",
      "Validation -- Accuracy: 0.773 | Loss: 1.2591029014587403\n",
      "Epoch 12/30\n",
      "Train -- Accuracy: 0.9416186419443748 | Loss: 0.17846623571802875\n",
      "Validation -- Accuracy: 0.766 | Loss: 1.3049712009429932\n",
      "Epoch 13/30\n",
      "Train -- Accuracy: 0.9424956151340517 | Loss: 0.17089994864240082\n",
      "Validation -- Accuracy: 0.764 | Loss: 1.3462838821411134\n",
      "Epoch 14/30\n",
      "Train -- Accuracy: 0.9432473064394888 | Loss: 0.16133201213199314\n",
      "Validation -- Accuracy: 0.762 | Loss: 1.3499713153839112\n",
      "Epoch 15/30\n",
      "Train -- Accuracy: 0.9457529441242797 | Loss: 0.14920375175798367\n",
      "Validation -- Accuracy: 0.767 | Loss: 1.4100292835235595\n",
      "Epoch 16/30\n",
      "Train -- Accuracy: 0.9466299173139564 | Loss: 0.1455953541598921\n",
      "Validation -- Accuracy: 0.762 | Loss: 1.4403559818267822\n",
      "Epoch 17/30\n",
      "Train -- Accuracy: 0.947005762966675 | Loss: 0.1398484362408321\n",
      "Validation -- Accuracy: 0.761 | Loss: 1.4474716863632202\n",
      "Epoch 18/30\n",
      "Train -- Accuracy: 0.9477574542721122 | Loss: 0.13269238547704118\n",
      "Validation -- Accuracy: 0.761 | Loss: 1.4996321382522584\n",
      "Epoch 19/30\n",
      "Train -- Accuracy: 0.9507642194938611 | Loss: 0.1315322524621295\n",
      "Validation -- Accuracy: 0.767 | Loss: 1.4743233423233033\n",
      "Epoch 20/30\n",
      "Train -- Accuracy: 0.9502630919569031 | Loss: 0.124235130428327\n",
      "Validation -- Accuracy: 0.753 | Loss: 1.5869171695709228\n",
      "Epoch 21/30\n",
      "Train -- Accuracy: 0.9501378100726635 | Loss: 0.12592791680613427\n",
      "Validation -- Accuracy: 0.765 | Loss: 1.527007019996643\n",
      "Epoch 22/30\n",
      "Train -- Accuracy: 0.9507642194938611 | Loss: 0.11779000159643312\n",
      "Validation -- Accuracy: 0.763 | Loss: 1.5676482915878296\n",
      "Epoch 23/30\n",
      "Train -- Accuracy: 0.951641192683538 | Loss: 0.11672341703166343\n",
      "Validation -- Accuracy: 0.755 | Loss: 1.6372773571014405\n",
      "Epoch 24/30\n",
      "Train -- Accuracy: 0.9505136557253822 | Loss: 0.12390478802329166\n",
      "Validation -- Accuracy: 0.755 | Loss: 1.6583565893173218\n",
      "Epoch 25/30\n",
      "Train -- Accuracy: 0.9506389376096217 | Loss: 0.119169109863346\n",
      "Validation -- Accuracy: 0.757 | Loss: 1.6326056747436524\n",
      "Epoch 26/30\n",
      "Train -- Accuracy: 0.950012528188424 | Loss: 0.11725323316642319\n",
      "Validation -- Accuracy: 0.762 | Loss: 1.6316089992523193\n",
      "Epoch 27/30\n",
      "Train -- Accuracy: 0.9493861187672262 | Loss: 0.11431924778659133\n",
      "Validation -- Accuracy: 0.758 | Loss: 1.6812825756072998\n",
      "Epoch 28/30\n",
      "Train -- Accuracy: 0.9505136557253822 | Loss: 0.11208645964894967\n",
      "Validation -- Accuracy: 0.758 | Loss: 1.6615186805725097\n",
      "Epoch 29/30\n",
      "Train -- Accuracy: 0.9506389376096217 | Loss: 0.11546635008140543\n",
      "Validation -- Accuracy: 0.756 | Loss: 1.6844655961990356\n",
      "Epoch 30/30\n",
      "Train -- Accuracy: 0.9507642194938611 | Loss: 0.11499383771174596\n",
      "Validation -- Accuracy: 0.759 | Loss: 1.8689655342102052\n"
     ]
    }
   ],
   "source": [
    "epochs = 30\n",
    "for epoch in range(1, epochs+1):\n",
    "    print(f\"Epoch {epoch}/{epochs}\")\n",
    "    loss, accu = torchtrain(train_dataloader, torchmodel, loss_fn, optimizer)\n",
    "    print(f\"Train -- Accuracy: {accu} | Loss: {loss}\")\n",
    "    loss, accu = torchtest(val_dataloader, torchmodel, loss_fn)\n",
    "    print(f\"Validation -- Accuracy: {accu} | Loss: {loss}\")\n"
   ]
  },
  {
   "cell_type": "markdown",
   "metadata": {
    "colab_type": "text"
   },
   "source": [
    "**Listing 4.19: Plotting the training and validation loss**"
   ]
  },
  {
   "cell_type": "code",
   "execution_count": 45,
   "metadata": {},
   "outputs": [
    {
     "data": {
      "image/png": "[encoded data removed]",
      "text/plain": [
       "<Figure size 2000x500 with 4 Axes>"
      ]
     },
     "metadata": {},
     "output_type": "display_data"
    }
   ],
   "source": [
    "tensor_toolbox.draw_training_history(history=history)"
   ]
  },
  {
   "cell_type": "code",
   "execution_count": 46,
   "metadata": {
    "colab_type": "code"
   },
   "outputs": [
    {
     "data": {
      "image/png": "[encoded data removed]",
      "text/plain": [
       "<Figure size 640x480 with 1 Axes>"
      ]
     },
     "metadata": {},
     "output_type": "display_data"
    }
   ],
   "source": [
    "loss = history.history[\"loss\"]\n",
    "val_loss = history.history[\"val_loss\"]\n",
    "epochs = range(1, len(loss) + 1)\n",
    "plt.plot(epochs, loss, \"bo\", label=\"Training loss\")\n",
    "plt.plot(epochs, val_loss, \"b\", label=\"Validation loss\")\n",
    "plt.title(\"Training and validation loss\")\n",
    "plt.xlabel(\"Epochs\")\n",
    "plt.ylabel(\"Loss\")\n",
    "plt.legend()\n",
    "plt.show()"
   ]
  },
  {
   "cell_type": "markdown",
   "metadata": {
    "colab_type": "text"
   },
   "source": [
    "**Listing 4.20: Plotting the training and validation accuracy**"
   ]
  },
  {
   "cell_type": "code",
   "execution_count": 47,
   "metadata": {
    "colab_type": "code"
   },
   "outputs": [
    {
     "data": {
      "image/png": "[encoded data removed]",
      "text/plain": [
       "<Figure size 640x480 with 1 Axes>"
      ]
     },
     "metadata": {},
     "output_type": "display_data"
    }
   ],
   "source": [
    "plt.clf()\n",
    "acc = history.history[\"accuracy\"]\n",
    "val_acc = history.history[\"val_accuracy\"]\n",
    "plt.plot(epochs, acc, \"bo\", label=\"Training accuracy\")\n",
    "plt.plot(epochs, val_acc, \"b\", label=\"Validation accuracy\")\n",
    "plt.title(\"Training and validation accuracy\")\n",
    "plt.xlabel(\"Epochs\")\n",
    "plt.ylabel(\"Accuracy\")\n",
    "plt.legend()\n",
    "plt.show()"
   ]
  },
  {
   "cell_type": "markdown",
   "metadata": {
    "colab_type": "text"
   },
   "source": [
    "**Listing 4.21: Retraining a model from scratch**"
   ]
  },
  {
   "cell_type": "code",
   "execution_count": 48,
   "metadata": {
    "colab_type": "code"
   },
   "outputs": [
    {
     "data": {
      "application/vnd.jupyter.widget-view+json": {
       "model_id": "3425f3948141472c9fad63aaffbc9a76",
       "version_major": 2,
       "version_minor": 0
      },
      "text/plain": [
       "0epoch [00:00, ?epoch/s]"
      ]
     },
     "metadata": {},
     "output_type": "display_data"
    },
    {
     "data": {
      "application/vnd.jupyter.widget-view+json": {
       "model_id": "3aab9f4cb4014ccd94f75bfc8d0997ae",
       "version_major": 2,
       "version_minor": 0
      },
      "text/plain": [
       "0batch [00:00, ?batch/s]"
      ]
     },
     "metadata": {},
     "output_type": "display_data"
    },
    {
     "name": "stdout",
     "output_type": "stream",
     "text": [
      "71/71 [==============================] - 0s 689us/step - loss: 0.9499 - accuracy: 0.7921\n"
     ]
    }
   ],
   "source": [
    "model = keras.Sequential([\n",
    "  layers.Dense(64, activation=\"relu\"),\n",
    "  layers.Dense(64, activation=\"relu\"),\n",
    "  layers.Dense(46, activation=\"softmax\")\n",
    "])\n",
    "model.compile(optimizer=\"rmsprop\",\n",
    "              loss=\"categorical_crossentropy\",\n",
    "              metrics=[\"accuracy\"])\n",
    "model.fit(x_train, # This x_train contains both the training and the validation sets. That's \n",
    "          # kind of annoying in my opinion.\n",
    "          y_train,\n",
    "          epochs=9,\n",
    "          batch_size=512,\n",
    "          callbacks=[TqdmCallback(verbose=1)],\n",
    "          verbose=0)\n",
    "results = model.evaluate(x_test, y_test)"
   ]
  },
  {
   "cell_type": "code",
   "execution_count": 49,
   "metadata": {},
   "outputs": [
    {
     "name": "stdout",
     "output_type": "stream",
     "text": [
      "Epoch 1/29\n",
      "Train -- Accuracy: 0.4704965486528613 | Loss: 3.156462012354448\n",
      "Epoch 2/29\n",
      "Train -- Accuracy: 0.6490759296370519 | Loss: 1.4295636198882191\n",
      "Epoch 3/29\n",
      "Train -- Accuracy: 0.7302382542863505 | Loss: 1.0435373346329373\n",
      "Epoch 4/29\n",
      "Train -- Accuracy: 0.7822311289245157 | Loss: 0.788783430044488\n",
      "Epoch 5/29\n",
      "Train -- Accuracy: 0.8217546203518148 | Loss: 0.6262870995073588\n",
      "Epoch 6/29\n",
      "Train -- Accuracy: 0.8482520596749054 | Loss: 0.518345636179813\n",
      "Epoch 7/29\n",
      "Train -- Accuracy: 0.8712981518592741 | Loss: 0.43397038373403524\n",
      "Epoch 8/29\n",
      "Train -- Accuracy: 0.8950122467156535 | Loss: 0.36147702219384836\n",
      "Epoch 9/29\n",
      "Train -- Accuracy: 0.9092629703852149 | Loss: 0.3067728398378961\n",
      "Epoch 10/29\n",
      "Train -- Accuracy: 0.9209530171454019 | Loss: 0.2680167863918981\n",
      "Epoch 11/29\n",
      "Train -- Accuracy: 0.9269650411934981 | Loss: 0.23946823856594887\n",
      "Epoch 12/29\n",
      "Train -- Accuracy: 0.9295257181028724 | Loss: 0.22125512987965865\n",
      "Epoch 13/29\n",
      "Train -- Accuracy: 0.9343130705856156 | Loss: 0.2049239412882471\n",
      "Epoch 14/29\n",
      "Train -- Accuracy: 0.93687374749499 | Loss: 0.19412451504373623\n",
      "Epoch 15/29\n",
      "Train -- Accuracy: 0.9387664217323536 | Loss: 0.18668415044369874\n",
      "Epoch 16/29\n",
      "Train -- Accuracy: 0.9406590959697172 | Loss: 0.1728259964257751\n",
      "Epoch 17/29\n",
      "Train -- Accuracy: 0.9441104431084391 | Loss: 0.16398812522869072\n",
      "Epoch 18/29\n",
      "Train -- Accuracy: 0.9442217768871075 | Loss: 0.15231644494267832\n",
      "Epoch 19/29\n",
      "Train -- Accuracy: 0.9448897795591182 | Loss: 0.14636751738476664\n",
      "Epoch 20/29\n",
      "Train -- Accuracy: 0.9460031173458027 | Loss: 0.14181582677128107\n",
      "Epoch 21/29\n",
      "Train -- Accuracy: 0.94978846582053 | Loss: 0.1335599577272955\n",
      "Epoch 22/29\n",
      "Train -- Accuracy: 0.9472277889111557 | Loss: 0.1378383017633466\n",
      "Epoch 23/29\n",
      "Train -- Accuracy: 0.948563794255177 | Loss: 0.13617574766716242\n",
      "Epoch 24/29\n",
      "Train -- Accuracy: 0.9482297929191716 | Loss: 0.13240363534296895\n",
      "Epoch 25/29\n",
      "Train -- Accuracy: 0.9474504564684926 | Loss: 0.12773349653722926\n",
      "Epoch 26/29\n",
      "Train -- Accuracy: 0.8910042306835894 | Loss: 0.4479529707545534\n",
      "Epoch 27/29\n",
      "Train -- Accuracy: 0.9425517702070808 | Loss: 0.17717275868888105\n",
      "Epoch 28/29\n",
      "Train -- Accuracy: 0.9487864618125139 | Loss: 0.13176558256909116\n",
      "Epoch 29/29\n",
      "Train -- Accuracy: 0.9483411266978401 | Loss: 0.11753940489371247\n",
      "Test -- Accuracy: 0.7724844167408726 | Loss: 1.8727452016152766\n"
     ]
    }
   ],
   "source": [
    "test_dataloader = tensor_toolbox.make_dataloader([x_test], [y_test], batch_size=512, shuffle=False)\n",
    "train_dataloader = tensor_toolbox.make_dataloader([x_train], [y_train], batch_size=512, shuffle=False)\n",
    "\n",
    "epochs = 29\n",
    "\n",
    "torchmodel = TorchModel()\n",
    "optimizer = torch.optim.RMSprop(torchmodel.parameters())\n",
    "loss_fn = torch.nn.CrossEntropyLoss()\n",
    "\n",
    "for epoch in range(1, epochs+1):\n",
    "    print(f\"Epoch {epoch}/{epochs}\")\n",
    "    loss, accu = torchtrain(train_dataloader, torchmodel, loss_fn, optimizer)\n",
    "    print(f\"Train -- Accuracy: {accu} | Loss: {loss}\")\n",
    "\n",
    "loss, accu = torchtest(test_dataloader, torchmodel, loss_fn)\n",
    "print(f\"Test -- Accuracy: {accu} | Loss: {loss}\")\n",
    "# This time is slightly worse than in Keras. That bugs me, to be honest."
   ]
  },
  {
   "cell_type": "code",
   "execution_count": 50,
   "metadata": {
    "colab_type": "code"
   },
   "outputs": [
    {
     "data": {
      "text/plain": [
       "0.20391807658058772"
      ]
     },
     "execution_count": 50,
     "metadata": {},
     "output_type": "execute_result"
    }
   ],
   "source": [
    "# Random classifier. What he doesn't take into account is that a dummy classifier would\n",
    "# pick the most common class!\n",
    "import copy\n",
    "test_labels_copy = copy.copy(test_labels)\n",
    "np.random.shuffle(test_labels_copy)\n",
    "hits_array = np.array(test_labels) == np.array(test_labels_copy)\n",
    "hits_array.mean()"
   ]
  },
  {
   "cell_type": "code",
   "execution_count": 51,
   "metadata": {},
   "outputs": [
    {
     "data": {
      "text/plain": [
       "0.3619768477292965"
      ]
     },
     "execution_count": 51,
     "metadata": {},
     "output_type": "execute_result"
    }
   ],
   "source": [
    "# Count the appearances of each category in test_labels\n",
    "from collections import Counter\n",
    "counter = Counter(test_labels)\n",
    "# Get the most common category\n",
    "most_common = counter.most_common(1)[0][0]\n",
    "# Get the accuracy of the dummy classifier\n",
    "accuracy = counter[most_common] / len(test_labels)\n",
    "accuracy\n",
    "# Yea, that's the true baseline"
   ]
  },
  {
   "cell_type": "markdown",
   "metadata": {
    "colab_type": "text"
   },
   "source": [
    "### Generating predictions on new data"
   ]
  },
  {
   "cell_type": "code",
   "execution_count": 52,
   "metadata": {
    "colab_type": "code"
   },
   "outputs": [
    {
     "name": "stdout",
     "output_type": "stream",
     "text": [
      "71/71 [==============================] - 0s 674us/step\n"
     ]
    }
   ],
   "source": [
    "keras_predictions = model.predict(x_test)\n",
    "# Outputs have to be manually softmaxed in PyTorch if we want probabilities!\n",
    "torch_predictions = F.softmax(torchmodel(torch.Tensor(x_test)), dim=1)"
   ]
  },
  {
   "cell_type": "code",
   "execution_count": 53,
   "metadata": {
    "colab_type": "code"
   },
   "outputs": [
    {
     "name": "stdout",
     "output_type": "stream",
     "text": [
      "==================== Keras predictions | tensor_info ====================\n",
      "Type: <class 'numpy.ndarray'>\n",
      "Shape: (2246, 46) | nDims: 2 | dtype: float32\n",
      "Keras predictions[0]: [3.05482332e-04 8.83252709e-04 3.83642793e-04 5.06331503e-01\n",
      " 4.17933196e-01 1.64827972e-04 7.35281676e-04 5.84057489e-05\n",
      " 1.78112090e-02 7.95358937e-05 1.20434415e-04 2.63445615e-03\n",
      " 1.13746864e-04 4.77247231e-04 1.93948654e-04 6.60627629e-05\n",
      " 5.66274254e-03 7.06405437e-04 1.19955512e-03 1.48347870e-03]\n",
      "... (showing only the first 20 elements)\n",
      "\n",
      "==================== Torch predictions | tensor_info ====================\n",
      "Type: <class 'torch.Tensor'>\n",
      "Shape: torch.Size([2246, 46]) | nDims: 2 | dtype: torch.float32\n",
      "Torch predictions[0]: tensor([1.6485e-08, 1.4096e-08, 5.1989e-23, 9.9924e-01, 1.5010e-04, 9.3706e-20,\n",
      "        4.4912e-07, 1.5329e-08, 2.0549e-04, 4.6941e-08, 8.0897e-09, 2.7036e-05,\n",
      "        5.5732e-06, 1.2307e-10, 4.9102e-18, 3.1651e-19, 1.1472e-07, 1.3769e-13,\n",
      "        3.1764e-09, 1.9321e-06], grad_fn=<SliceBackward0>)\n",
      "... (showing only the first 20 elements)\n",
      "\n"
     ]
    }
   ],
   "source": [
    "tensor_toolbox.tensor_info(keras_predictions, \"Keras predictions\", image=False)\n",
    "tensor_toolbox.tensor_info(torch_predictions, \"Torch predictions\", image=False)"
   ]
  },
  {
   "cell_type": "code",
   "execution_count": 54,
   "metadata": {
    "colab_type": "code"
   },
   "outputs": [
    {
     "data": {
      "text/plain": [
       "1.0"
      ]
     },
     "execution_count": 54,
     "metadata": {},
     "output_type": "execute_result"
    }
   ],
   "source": [
    "np.sum(keras_predictions[0])"
   ]
  },
  {
   "cell_type": "code",
   "execution_count": 55,
   "metadata": {},
   "outputs": [
    {
     "data": {
      "text/plain": [
       "1.0000001"
      ]
     },
     "execution_count": 55,
     "metadata": {},
     "output_type": "execute_result"
    }
   ],
   "source": [
    "# As expected, the sum of the probabilities is 1.\n",
    "np.sum(torch_predictions[0].detach().numpy())   "
   ]
  },
  {
   "cell_type": "code",
   "execution_count": 56,
   "metadata": {},
   "outputs": [],
   "source": [
    "newswire_index = 789"
   ]
  },
  {
   "cell_type": "code",
   "execution_count": 57,
   "metadata": {},
   "outputs": [
    {
     "data": {
      "text/plain": [
       "'? control data corp the computer concern is introducing its first department computer the ? 180 model 930 which will integrate a computer network starting with ? computers through its mainframe line to the supercomputer for control data it signals our intent to compete in our marketplace more completely than ever before said ? williams control ? vice president of computer systems one of six business units the large minneapolis based computer concern hit hard after two years of huge losses has said it anticipates a profitable year ahead but ? computer business has not been profitable since 1983 last year the company lost 264 5 mln dlrs including a fourth quarter restructuring charge of 139 9 mln dlrs and a one time loss of 69 mln dlrs we will use the 930 ? not only to ? and expand relationships with existing ? customers but also to create new sales opportunities for the corporation with businesses large and small said williams reuter 3'"
      ]
     },
     "execution_count": 57,
     "metadata": {},
     "output_type": "execute_result"
    }
   ],
   "source": [
    "label_names = keras.datasets.reuters.get_label_names()\n",
    "decoded_newswire = \" \".join([reverse_word_index.get(i - 3, \"?\") for i in\n",
    "    test_data[newswire_index]])\n",
    "decoded_newswire"
   ]
  },
  {
   "cell_type": "code",
   "execution_count": 58,
   "metadata": {},
   "outputs": [
    {
     "name": "stdout",
     "output_type": "stream",
     "text": [
      "Keras prediction: earn\n",
      "Torch prediction: earn\n",
      "True label: earn\n"
     ]
    }
   ],
   "source": [
    "print(f\"Keras prediction: {label_names[np.argmax(keras_predictions[newswire_index])]}\")\n",
    "print(f\"Torch prediction: {label_names[torch.argmax(torch_predictions[newswire_index])]}\")\n",
    "print(f\"True label: {label_names[np.argmax(y_test[newswire_index])]}\")"
   ]
  },
  {
   "cell_type": "markdown",
   "metadata": {
    "colab_type": "text"
   },
   "source": [
    "### A different way to handle the labels and the loss"
   ]
  },
  {
   "cell_type": "code",
   "execution_count": 59,
   "metadata": {
    "colab_type": "code"
   },
   "outputs": [],
   "source": [
    "model.compile(optimizer=\"rmsprop\",\n",
    "              loss=\"sparse_categorical_crossentropy\",\n",
    "              metrics=[\"accuracy\"])\n",
    "# PyTorch CrossEntropyLoss already acceps the labels as integers. \n",
    "# I could make a PyTorch model that accepts the one-hot encoded labels, but\n",
    "# I would have to redo the training function and I don't have time. Let's move forward."
   ]
  },
  {
   "cell_type": "code",
   "execution_count": 60,
   "metadata": {},
   "outputs": [
    {
     "name": "stdout",
     "output_type": "stream",
     "text": [
      "==================== train labels | tensor_info ====================\n",
      "Type: <class 'numpy.ndarray'>\n",
      "Shape: (8982,) | nDims: 1 | dtype: int64\n",
      "Content: [ 3  4  3  4  4  4  4  3  3 16  3  3  4  4 19  8 16  3  3 21]\n",
      "... (showing only the first 20 elements)\n",
      "\n",
      "==================== test labels | tensor_info ====================\n",
      "Type: <class 'numpy.ndarray'>\n",
      "Shape: (2246,) | nDims: 1 | dtype: int64\n",
      "Content: [ 3 10  1  4  4  3  3  3  3  3  5  4  1  3  1 11 23  3 19  3]\n",
      "... (showing only the first 20 elements)\n",
      "\n"
     ]
    }
   ],
   "source": [
    "tensor_toolbox.tensor_info(train_labels, \"train labels\")\n",
    "tensor_toolbox.tensor_info(test_labels, \"test labels\")"
   ]
  },
  {
   "cell_type": "markdown",
   "metadata": {
    "colab_type": "text"
   },
   "source": [
    "### The importance of having sufficiently large intermediate layers"
   ]
  },
  {
   "cell_type": "markdown",
   "metadata": {
    "colab_type": "text"
   },
   "source": [
    "**A model with an information bottleneck**"
   ]
  },
  {
   "cell_type": "code",
   "execution_count": 61,
   "metadata": {
    "colab_type": "code"
   },
   "outputs": [
    {
     "name": "stdout",
     "output_type": "stream",
     "text": [
      "Epoch 1/20\n",
      "63/63 [==============================] - 1s 6ms/step - loss: 3.4940 - accuracy: 0.3280 - val_loss: 3.0917 - val_accuracy: 0.2980\n",
      "Epoch 2/20\n",
      "63/63 [==============================] - 0s 4ms/step - loss: 2.8205 - accuracy: 0.2985 - val_loss: 2.6995 - val_accuracy: 0.2910\n",
      "Epoch 3/20\n",
      "63/63 [==============================] - 0s 4ms/step - loss: 2.4419 - accuracy: 0.3125 - val_loss: 2.3954 - val_accuracy: 0.3020\n",
      "Epoch 4/20\n",
      "63/63 [==============================] - 0s 4ms/step - loss: 2.0553 - accuracy: 0.3369 - val_loss: 1.9594 - val_accuracy: 0.5110\n",
      "Epoch 5/20\n",
      "63/63 [==============================] - 0s 4ms/step - loss: 1.5134 - accuracy: 0.6581 - val_loss: 1.4850 - val_accuracy: 0.6420\n",
      "Epoch 6/20\n",
      "63/63 [==============================] - 0s 4ms/step - loss: 1.1994 - accuracy: 0.7020 - val_loss: 1.3604 - val_accuracy: 0.6800\n",
      "Epoch 7/20\n",
      "63/63 [==============================] - 0s 4ms/step - loss: 1.0624 - accuracy: 0.7383 - val_loss: 1.2987 - val_accuracy: 0.6980\n",
      "Epoch 8/20\n",
      "63/63 [==============================] - 0s 4ms/step - loss: 0.9569 - accuracy: 0.7577 - val_loss: 1.2676 - val_accuracy: 0.7070\n",
      "Epoch 9/20\n",
      "63/63 [==============================] - 0s 4ms/step - loss: 0.8727 - accuracy: 0.7750 - val_loss: 1.2576 - val_accuracy: 0.7120\n",
      "Epoch 10/20\n",
      "63/63 [==============================] - 0s 4ms/step - loss: 0.8047 - accuracy: 0.7914 - val_loss: 1.2987 - val_accuracy: 0.7070\n",
      "Epoch 11/20\n",
      "63/63 [==============================] - 0s 4ms/step - loss: 0.7461 - accuracy: 0.8061 - val_loss: 1.2892 - val_accuracy: 0.7120\n",
      "Epoch 12/20\n",
      "63/63 [==============================] - 0s 4ms/step - loss: 0.6976 - accuracy: 0.8175 - val_loss: 1.3081 - val_accuracy: 0.7010\n",
      "Epoch 13/20\n",
      "63/63 [==============================] - 0s 4ms/step - loss: 0.6531 - accuracy: 0.8262 - val_loss: 1.3908 - val_accuracy: 0.7090\n",
      "Epoch 14/20\n",
      "63/63 [==============================] - 0s 4ms/step - loss: 0.6143 - accuracy: 0.8373 - val_loss: 1.3607 - val_accuracy: 0.7100\n",
      "Epoch 15/20\n",
      "63/63 [==============================] - 0s 4ms/step - loss: 0.5840 - accuracy: 0.8394 - val_loss: 1.4076 - val_accuracy: 0.7210\n",
      "Epoch 16/20\n",
      "63/63 [==============================] - 0s 4ms/step - loss: 0.5533 - accuracy: 0.8478 - val_loss: 1.4607 - val_accuracy: 0.7130\n",
      "Epoch 17/20\n",
      "63/63 [==============================] - 0s 4ms/step - loss: 0.5271 - accuracy: 0.8543 - val_loss: 1.4725 - val_accuracy: 0.7150\n",
      "Epoch 18/20\n",
      "63/63 [==============================] - 0s 4ms/step - loss: 0.4998 - accuracy: 0.8576 - val_loss: 1.5295 - val_accuracy: 0.7120\n",
      "Epoch 19/20\n",
      "63/63 [==============================] - 0s 4ms/step - loss: 0.4814 - accuracy: 0.8653 - val_loss: 1.5574 - val_accuracy: 0.7070\n",
      "Epoch 20/20\n",
      "63/63 [==============================] - 0s 4ms/step - loss: 0.4602 - accuracy: 0.8732 - val_loss: 1.5976 - val_accuracy: 0.7120\n"
     ]
    },
    {
     "data": {
      "text/plain": [
       "<keras.src.callbacks.History at 0x3567bd9d0>"
      ]
     },
     "execution_count": 61,
     "metadata": {},
     "output_type": "execute_result"
    }
   ],
   "source": [
    "model = keras.Sequential([\n",
    "    layers.Dense(64, activation=\"relu\"),\n",
    "    layers.Dense(4, activation=\"relu\"),\n",
    "    layers.Dense(46, activation=\"softmax\")\n",
    "])\n",
    "model.compile(optimizer=\"rmsprop\",\n",
    "              loss=\"categorical_crossentropy\",\n",
    "              metrics=[\"accuracy\"])\n",
    "model.fit(partial_x_train,\n",
    "          partial_y_train,\n",
    "          epochs=20,\n",
    "          batch_size=128,\n",
    "          validation_data=(x_val, y_val))"
   ]
  },
  {
   "cell_type": "markdown",
   "metadata": {
    "colab_type": "text"
   },
   "source": [
    "### Further experiments"
   ]
  },
  {
   "cell_type": "markdown",
   "metadata": {
    "colab_type": "text"
   },
   "source": [
    "### Wrapping up"
   ]
  },
  {
   "cell_type": "markdown",
   "metadata": {
    "colab_type": "text"
   },
   "source": [
    "## Predicting house prices: A regression example"
   ]
  },
  {
   "cell_type": "markdown",
   "metadata": {
    "colab_type": "text"
   },
   "source": [
    "### The Boston Housing Price dataset"
   ]
  },
  {
   "cell_type": "markdown",
   "metadata": {
    "colab_type": "text"
   },
   "source": [
    "**Listing 4.23: Loading the Boston housing dataset**"
   ]
  },
  {
   "cell_type": "code",
   "execution_count": 62,
   "metadata": {
    "colab_type": "code"
   },
   "outputs": [],
   "source": [
    "from tensorflow.keras.datasets import boston_housing\n",
    "(train_data, train_targets), (test_data, test_targets) = boston_housing.load_data()"
   ]
  },
  {
   "cell_type": "code",
   "execution_count": 63,
   "metadata": {},
   "outputs": [
    {
     "name": "stdout",
     "output_type": "stream",
     "text": [
      "==================== train_data | tensor_info ====================\n",
      "Type: <class 'numpy.ndarray'>\n",
      "Shape: (404, 13) | nDims: 2 | dtype: float64\n",
      "train_data[0]: [  1.23247   0.        8.14      0.        0.538     6.142    91.7\n",
      "   3.9769    4.      307.       21.      396.9      18.72   ]\n",
      "\n",
      "==================== train_targets | tensor_info ====================\n",
      "Type: <class 'numpy.ndarray'>\n",
      "Shape: (404,) | nDims: 1 | dtype: float64\n",
      "Content: [15.2 42.3 50.  21.1 17.7 18.5 11.3 15.6 15.6 14.4 12.1 17.9 23.1 19.9\n",
      " 15.7  8.8 50.  22.5 24.1 27.5]\n",
      "... (showing only the first 20 elements)\n",
      "\n",
      "==================== test_data | tensor_info ====================\n",
      "Type: <class 'numpy.ndarray'>\n",
      "Shape: (102, 13) | nDims: 2 | dtype: float64\n",
      "test_data[0]: [ 18.0846   0.      18.1      0.       0.679    6.434  100.       1.8347\n",
      "  24.     666.      20.2     27.25    29.05  ]\n",
      "\n",
      "==================== test_targets | tensor_info ====================\n",
      "Type: <class 'numpy.ndarray'>\n",
      "Shape: (102,) | nDims: 1 | dtype: float64\n",
      "Content: [ 7.2 18.8 19.  27.  22.2 24.5 31.2 22.9 20.5 23.2 18.6 14.5 17.8 50.\n",
      " 20.8 24.3 24.2 19.8 19.1 22.7]\n",
      "... (showing only the first 20 elements)\n",
      "\n"
     ]
    }
   ],
   "source": [
    "tensor_toolbox.tensor_info(train_data, \"train_data\", image=False)\n",
    "tensor_toolbox.tensor_info(train_targets, \"train_targets\", image=False)\n",
    "tensor_toolbox.tensor_info(test_data, \"test_data\", image=False)\n",
    "tensor_toolbox.tensor_info(test_targets, \"test_targets\", image=False)"
   ]
  },
  {
   "cell_type": "markdown",
   "metadata": {
    "colab_type": "text"
   },
   "source": [
    "### Preparing the data"
   ]
  },
  {
   "cell_type": "markdown",
   "metadata": {
    "colab_type": "text"
   },
   "source": [
    "**Listing 4.24: Normalizing the data**"
   ]
  },
  {
   "cell_type": "code",
   "execution_count": 64,
   "metadata": {
    "colab_type": "code"
   },
   "outputs": [],
   "source": [
    "mean = train_data.mean(axis=0)\n",
    "train_data -= mean\n",
    "std = train_data.std(axis=0)\n",
    "train_data /= std\n",
    "test_data -= mean\n",
    "test_data /= std\n",
    "\n",
    "# Or, in scikit:\n",
    "# from sklearn.preprocessing import StandardScaler\n",
    "# scaler = StandardScaler()\n",
    "# train_data = scaler.fit_transform(train_data)\n",
    "# test_data = scaler.transform(test_data)"
   ]
  },
  {
   "cell_type": "markdown",
   "metadata": {
    "colab_type": "text"
   },
   "source": [
    "### Building your model"
   ]
  },
  {
   "cell_type": "markdown",
   "metadata": {
    "colab_type": "text"
   },
   "source": [
    "**Listing 4.25: Model definition**"
   ]
  },
  {
   "cell_type": "code",
   "execution_count": 65,
   "metadata": {
    "colab_type": "code"
   },
   "outputs": [],
   "source": [
    "def build_model():\n",
    "    model = keras.Sequential([\n",
    "        layers.Dense(64, activation=\"relu\"),\n",
    "        layers.Dense(64, activation=\"relu\"),\n",
    "        layers.Dense(1)\n",
    "    ])\n",
    "    model.compile(optimizer=\"rmsprop\", loss=\"mse\", metrics=[\"mae\"])\n",
    "    return model"
   ]
  },
  {
   "cell_type": "code",
   "execution_count": 66,
   "metadata": {},
   "outputs": [],
   "source": [
    "# If you think about it, the class-oriented approach of PyTorch has already\n",
    "# the 'model builder' mechanic into it. That's good.\n",
    "class TorchModel(nn.Module):\n",
    "    def __init__(self):\n",
    "        super(TorchModel, self).__init__()\n",
    "        self.fc1 = nn.LazyLinear(64)\n",
    "        self.fc2 = nn.Linear(64, 64)\n",
    "        self.fc3 = nn.Linear(64, 1)\n",
    "    def forward(self, X):\n",
    "        X = torch.relu(self.fc1(X))\n",
    "        X = torch.relu(self.fc2(X))\n",
    "        return self.fc3(X)"
   ]
  },
  {
   "cell_type": "code",
   "execution_count": 73,
   "metadata": {},
   "outputs": [],
   "source": [
    "# I'm getting tired of always typing the same thing. I understand why they made Keras.\n",
    "def torchtrain(train_dataloader, model, loss_fn, optimizer):\n",
    "    model.train()\n",
    "    total_loss = 0.0\n",
    "    total_mae = 0.0\n",
    "    samples = 0\n",
    "    for X, y in train_dataloader:\n",
    "        yhat = torch.flatten(model(X))\n",
    "        loss = loss_fn(yhat, y)\n",
    "        optimizer.zero_grad()\n",
    "        loss.backward()\n",
    "        optimizer.step()\n",
    "        total_loss += loss.item()*len(y)\n",
    "        total_mae += torch.abs(yhat - y).sum().item()\n",
    "        samples += len(y)\n",
    "    avg_loss = total_loss / len(train_dataloader.dataset)\n",
    "    avg_mae = total_mae / len(train_dataloader.dataset)\n",
    "    return avg_loss, avg_mae\n",
    "\n",
    "def torchtest(test_dataloader, model, loss_fn):\n",
    "    model.eval()\n",
    "    total_loss = 0.0\n",
    "    total_mae = 0.0\n",
    "    samples = 0\n",
    "    with torch.no_grad():\n",
    "        for X, y in test_dataloader:\n",
    "            yhat = torch.flatten(model(X))\n",
    "            loss = loss_fn(yhat, y)\n",
    "            total_loss += loss.item()*len(y)\n",
    "            total_mae += torch.abs(yhat - y).sum().item()\n",
    "            samples += len(y)\n",
    "    avg_loss = total_loss / len(test_dataloader.dataset)\n",
    "    avg_mae = total_mae / len(test_dataloader.dataset)\n",
    "    return avg_loss, avg_mae"
   ]
  },
  {
   "cell_type": "markdown",
   "metadata": {
    "colab_type": "text"
   },
   "source": [
    "### Validating your approach using K-fold validation"
   ]
  },
  {
   "cell_type": "markdown",
   "metadata": {
    "colab_type": "text"
   },
   "source": [
    "**Listing 4.26: K-fold validation**"
   ]
  },
  {
   "cell_type": "code",
   "execution_count": 76,
   "metadata": {
    "colab_type": "code"
   },
   "outputs": [
    {
     "name": "stdout",
     "output_type": "stream",
     "text": [
      "Processing fold #0\n",
      "Processing fold #1\n",
      "Processing fold #2\n",
      "Processing fold #3\n"
     ]
    }
   ],
   "source": [
    "k = 4\n",
    "num_val_samples = len(train_data) // k\n",
    "num_epochs = 100\n",
    "all_scores = {\n",
    "    \"keras\": [],\n",
    "    \"torch\": []\n",
    "}\n",
    "\n",
    "for i in range(k):\n",
    "    print(f\"Processing fold #{i}\")\n",
    "    val_data = train_data[i * num_val_samples: (i + 1) * num_val_samples]\n",
    "    val_targets = train_targets[i * num_val_samples: (i + 1) * num_val_samples]\n",
    "    partial_train_data = np.concatenate(\n",
    "        [train_data[:i * num_val_samples],\n",
    "         train_data[(i + 1) * num_val_samples:]],\n",
    "        axis=0)\n",
    "    partial_train_targets = np.concatenate(\n",
    "        [train_targets[:i * num_val_samples],\n",
    "         train_targets[(i + 1) * num_val_samples:]],\n",
    "        axis=0)\n",
    "    \n",
    "    train_dataloader = tensor_toolbox.make_dataloader([partial_train_data], [partial_train_targets], batch_size=16, shuffle=False)\n",
    "    val_dataloader = tensor_toolbox.make_dataloader([val_data], [val_targets], batch_size=16, shuffle=False)\n",
    "\n",
    "    model = build_model()\n",
    "    torchmodel = TorchModel()\n",
    "    optimizer = torch.optim.RMSprop(torchmodel.parameters())\n",
    "    loss_fn = torch.nn.MSELoss()\n",
    "\n",
    "    model.fit(partial_train_data, partial_train_targets,\n",
    "              epochs=num_epochs, batch_size=16, verbose=0)\n",
    "    \n",
    "    for epoch in range(1, num_epochs+1):\n",
    "        torchtrain(train_dataloader, torchmodel, loss_fn, optimizer)\n",
    "\n",
    "    val_mse, val_mae = model.evaluate(val_data, val_targets, verbose=0)\n",
    "    all_scores['keras'].append(val_mae)\n",
    "    val_mse, val_mae = torchtest(val_dataloader, torchmodel, loss_fn)\n",
    "    all_scores['torch'].append(val_mae)"
   ]
  },
  {
   "cell_type": "code",
   "execution_count": 77,
   "metadata": {
    "colab_type": "code"
   },
   "outputs": [
    {
     "data": {
      "text/plain": [
       "{'keras': [1.970288872718811,\n",
       "  2.541607618331909,\n",
       "  2.445826768875122,\n",
       "  2.3189613819122314],\n",
       " 'torch': [2.6588436542171063,\n",
       "  2.596504060348662,\n",
       "  2.6117576750198213,\n",
       "  2.520821996254496]}"
      ]
     },
     "execution_count": 77,
     "metadata": {},
     "output_type": "execute_result"
    }
   ],
   "source": [
    "all_scores"
   ]
  },
  {
   "cell_type": "code",
   "execution_count": 78,
   "metadata": {
    "colab_type": "code"
   },
   "outputs": [
    {
     "name": "stdout",
     "output_type": "stream",
     "text": [
      "Keras score: 2.3191711604595184 PyTorch score: 2.5969818464600216\n"
     ]
    }
   ],
   "source": [
    "print(f\"Keras score: {np.mean(all_scores['keras'])} PyTorch score: {np.mean(all_scores['torch'])}\")\n",
    "# I'm so mad that the scores in PyTorch are always slightly worse. What am I missing?"
   ]
  },
  {
   "cell_type": "markdown",
   "metadata": {
    "colab_type": "text"
   },
   "source": [
    "**Listing 4.27: Saving the validation logs at each fold**"
   ]
  },
  {
   "cell_type": "code",
   "execution_count": 79,
   "metadata": {
    "colab_type": "code"
   },
   "outputs": [
    {
     "name": "stdout",
     "output_type": "stream",
     "text": [
      "Processing fold #0\n",
      "Processing fold #1\n",
      "Processing fold #2\n",
      "Processing fold #3\n"
     ]
    }
   ],
   "source": [
    "# This would be a pain in the ass to do in PyTorch, as it lacks the history object. I will eventually try to build\n",
    "# something similar, but my god I don't feel like it.\n",
    "num_epochs = 500\n",
    "all_mae_histories = []\n",
    "for i in range(k):\n",
    "    print(f\"Processing fold #{i}\")\n",
    "    val_data = train_data[i * num_val_samples: (i + 1) * num_val_samples]\n",
    "    val_targets = train_targets[i * num_val_samples: (i + 1) * num_val_samples]\n",
    "    partial_train_data = np.concatenate(\n",
    "        [train_data[:i * num_val_samples],\n",
    "         train_data[(i + 1) * num_val_samples:]],\n",
    "        axis=0)\n",
    "    partial_train_targets = np.concatenate(\n",
    "        [train_targets[:i * num_val_samples],\n",
    "         train_targets[(i + 1) * num_val_samples:]],\n",
    "        axis=0)\n",
    "    model = build_model()\n",
    "    history = model.fit(partial_train_data, partial_train_targets,\n",
    "                        validation_data=(val_data, val_targets),\n",
    "                        epochs=num_epochs, batch_size=16, verbose=0)\n",
    "    mae_history = history.history[\"val_mae\"]\n",
    "    all_mae_histories.append(mae_history)"
   ]
  },
  {
   "cell_type": "markdown",
   "metadata": {
    "colab_type": "text"
   },
   "source": [
    "**Listing 4.28: Building the history of successive mean K-fold validation scores**"
   ]
  },
  {
   "cell_type": "code",
   "execution_count": null,
   "metadata": {
    "colab_type": "code"
   },
   "outputs": [],
   "source": [
    "average_mae_history = [\n",
    "    np.mean([x[i] for x in all_mae_histories]) for i in range(num_epochs)]"
   ]
  },
  {
   "cell_type": "markdown",
   "metadata": {
    "colab_type": "text"
   },
   "source": [
    "**Listing 4.29: Plotting validation scores**"
   ]
  },
  {
   "cell_type": "code",
   "execution_count": null,
   "metadata": {
    "colab_type": "code"
   },
   "outputs": [],
   "source": [
    "plt.plot(range(1, len(average_mae_history) + 1), average_mae_history)\n",
    "plt.xlabel(\"Epochs\")\n",
    "plt.ylabel(\"Validation MAE\")\n",
    "plt.show()"
   ]
  },
  {
   "cell_type": "markdown",
   "metadata": {
    "colab_type": "text"
   },
   "source": [
    "**Listing 4.30: Plotting validation scores, excluding the first 10 data points**"
   ]
  },
  {
   "cell_type": "code",
   "execution_count": null,
   "metadata": {
    "colab_type": "code"
   },
   "outputs": [],
   "source": [
    "truncated_mae_history = average_mae_history[10:]\n",
    "plt.plot(range(1, len(truncated_mae_history) + 1), truncated_mae_history)\n",
    "plt.xlabel(\"Epochs\")\n",
    "plt.ylabel(\"Validation MAE\")\n",
    "plt.show()"
   ]
  },
  {
   "cell_type": "markdown",
   "metadata": {
    "colab_type": "text"
   },
   "source": [
    "**Listing 4.31: Training the final model**"
   ]
  },
  {
   "cell_type": "code",
   "execution_count": null,
   "metadata": {
    "colab_type": "code"
   },
   "outputs": [],
   "source": [
    "model = build_model()\n",
    "model.fit(train_data, train_targets,\n",
    "          epochs=130, batch_size=16, verbose=0)\n",
    "test_mse_score, test_mae_score = model.evaluate(test_data, test_targets)"
   ]
  },
  {
   "cell_type": "code",
   "execution_count": null,
   "metadata": {
    "colab_type": "code"
   },
   "outputs": [],
   "source": [
    "test_mae_score"
   ]
  },
  {
   "cell_type": "markdown",
   "metadata": {
    "colab_type": "text"
   },
   "source": [
    "### Generating predictions on new data"
   ]
  },
  {
   "cell_type": "code",
   "execution_count": null,
   "metadata": {
    "colab_type": "code"
   },
   "outputs": [],
   "source": [
    "predictions = model.predict(test_data)\n",
    "predictions[0]"
   ]
  },
  {
   "cell_type": "markdown",
   "metadata": {
    "colab_type": "text"
   },
   "source": [
    "### Wrapping up"
   ]
  },
  {
   "cell_type": "markdown",
   "metadata": {
    "colab_type": "text"
   },
   "source": [
    "## Summary"
   ]
  }
 ],
 "metadata": {
  "colab": {
   "collapsed_sections": [],
   "name": "chapter04_getting-started-with-neural-networks.i",
   "private_outputs": false,
   "provenance": [],
   "toc_visible": true
  },
  "kernelspec": {
   "display_name": "Python 3",
   "language": "python",
   "name": "python3"
  },
  "language_info": {
   "codemirror_mode": {
    "name": "ipython",
    "version": 3
   },
   "file_extension": ".py",
   "mimetype": "text/x-python",
   "name": "python",
   "nbconvert_exporter": "python",
   "pygments_lexer": "ipython3",
   "version": "3.11.5"
  }
 },
 "nbformat": 4,
 "nbformat_minor": 0
}
