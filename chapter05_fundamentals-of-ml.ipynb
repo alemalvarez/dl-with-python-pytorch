{
 "cells": [
  {
   "cell_type": "code",
   "execution_count": 2,
   "metadata": {},
   "outputs": [],
   "source": [
    "%load_ext autoreload\n",
    "%aimport tensor_toolbox\n",
    "%autoreload 1"
   ]
  },
  {
   "cell_type": "markdown",
   "metadata": {
    "colab_type": "text"
   },
   "source": [
    "# Fundamentals of machine learning"
   ]
  },
  {
   "cell_type": "markdown",
   "metadata": {
    "colab_type": "text"
   },
   "source": [
    "## Generalization: The goal of machine learning"
   ]
  },
  {
   "cell_type": "markdown",
   "metadata": {
    "colab_type": "text"
   },
   "source": [
    "**Listing 5.1: Adding white-noise channels or all-zeros channels to MNIST**"
   ]
  },
  {
   "cell_type": "code",
   "execution_count": 3,
   "metadata": {
    "colab_type": "code"
   },
   "outputs": [
    {
     "name": "stdout",
     "output_type": "stream",
     "text": [
      "==================== image with noise | tensor_info ====================\n",
      "Type: <class 'numpy.ndarray'>\n",
      "Shape: (60000, 1568) | nDims: 2 | dtype: float64\n",
      "image with noise[0]: [0. 0. 0. 0. 0. 0. 0. 0. 0. 0. 0. 0. 0. 0. 0. 0. 0. 0. 0. 0.]\n",
      "... (showing only the first 20 elements)\n",
      "\n",
      "==================== image with 0s | tensor_info ====================\n",
      "Type: <class 'numpy.ndarray'>\n",
      "Shape: (60000, 1568) | nDims: 2 | dtype: float64\n",
      "image with 0s[0]: [0. 0. 0. 0. 0. 0. 0. 0. 0. 0. 0. 0. 0. 0. 0. 0. 0. 0. 0. 0.]\n",
      "... (showing only the first 20 elements)\n",
      "\n",
      "==================== image with noise | tensor_info ====================\n",
      "Type: <class 'numpy.ndarray'>\n",
      "Shape: (56, 28) | nDims: 2 | dtype: float64\n",
      "image with noise[0]: [0. 0. 0. 0. 0. 0. 0. 0. 0. 0. 0. 0. 0. 0. 0. 0. 0. 0. 0. 0.]\n",
      "... (showing only the first 20 elements)\n"
     ]
    },
    {
     "data": {
      "image/png": "[encoded data removed]",
      "text/plain": [
       "<Figure size 100x100 with 1 Axes>"
      ]
     },
     "metadata": {},
     "output_type": "display_data"
    },
    {
     "name": "stdout",
     "output_type": "stream",
     "text": [
      "\n",
      "==================== image with 0s | tensor_info ====================\n",
      "Type: <class 'numpy.ndarray'>\n",
      "Shape: (56, 28) | nDims: 2 | dtype: float64\n",
      "image with 0s[0]: [0. 0. 0. 0. 0. 0. 0. 0. 0. 0. 0. 0. 0. 0. 0. 0. 0. 0. 0. 0.]\n",
      "... (showing only the first 20 elements)\n"
     ]
    },
    {
     "data": {
      "image/png": "[encoded data removed]",
      "text/plain": [
       "<Figure size 100x100 with 1 Axes>"
      ]
     },
     "metadata": {},
     "output_type": "display_data"
    },
    {
     "name": "stdout",
     "output_type": "stream",
     "text": [
      "\n"
     ]
    }
   ],
   "source": [
    "from tensorflow.keras.datasets import mnist\n",
    "import numpy as np\n",
    "\n",
    "(train_images, train_labels), _ = mnist.load_data()\n",
    "train_images = train_images.reshape((60000, 28 * 28))\n",
    "train_images = train_images.astype(\"float32\") / 255\n",
    "\n",
    "train_images_with_noise_channels = np.concatenate(\n",
    "    [train_images, np.random.random((len(train_images), 784))], axis=1)\n",
    "\n",
    "train_images_with_zeros_channels = np.concatenate(\n",
    "    [train_images, np.zeros((len(train_images), 784))], axis=1)\n",
    "\n",
    "tensor_toolbox.tensor_info(train_images_with_noise_channels, \"image with noise\", image=False)\n",
    "tensor_toolbox.tensor_info(train_images_with_zeros_channels, \"image with 0s\", image=False)\n",
    "\n",
    "# Let's pick a sample of each and display them\n",
    "image_with_noise = train_images_with_noise_channels[0]\n",
    "image_with_zeros = train_images_with_zeros_channels[0]\n",
    "image_with_noise = image_with_noise.reshape((-1, 28))\n",
    "image_with_zeros = image_with_zeros.reshape((-1, 28))\n",
    "tensor_toolbox.tensor_info(image_with_noise, \"image with noise\", image=True)\n",
    "tensor_toolbox.tensor_info(image_with_zeros, \"image with 0s\", image=True)"
   ]
  },
  {
   "cell_type": "markdown",
   "metadata": {
    "colab_type": "text"
   },
   "source": [
    "**Listing 5.2: Training the same model on MNIST data with noise channels or all-zero channels**"
   ]
  },
  {
   "cell_type": "code",
   "execution_count": 4,
   "metadata": {
    "colab_type": "code"
   },
   "outputs": [
    {
     "data": {
      "application/vnd.jupyter.widget-view+json": {
       "model_id": "65ffb6f4948443459dbe71310e289df2",
       "version_major": 2,
       "version_minor": 0
      },
      "text/plain": [
       "0epoch [00:00, ?epoch/s]"
      ]
     },
     "metadata": {},
     "output_type": "display_data"
    },
    {
     "data": {
      "application/vnd.jupyter.widget-view+json": {
       "model_id": "fd3f91cee2e84459ae2ffe31bd1fee44",
       "version_major": 2,
       "version_minor": 0
      },
      "text/plain": [
       "0batch [00:00, ?batch/s]"
      ]
     },
     "metadata": {},
     "output_type": "display_data"
    },
    {
     "data": {
      "application/vnd.jupyter.widget-view+json": {
       "model_id": "b92eee2d04174c8bbdf172530a22faf5",
       "version_major": 2,
       "version_minor": 0
      },
      "text/plain": [
       "0epoch [00:00, ?epoch/s]"
      ]
     },
     "metadata": {},
     "output_type": "display_data"
    },
    {
     "data": {
      "application/vnd.jupyter.widget-view+json": {
       "model_id": "780ff817e4f4442f88ad8ab773003b6e",
       "version_major": 2,
       "version_minor": 0
      },
      "text/plain": [
       "0batch [00:00, ?batch/s]"
      ]
     },
     "metadata": {},
     "output_type": "display_data"
    }
   ],
   "source": [
    "from tensorflow import keras\n",
    "from tensorflow.keras import layers\n",
    "from tqdm.keras import TqdmCallback\n",
    "\n",
    "def get_model():\n",
    "    model = keras.Sequential([\n",
    "        layers.Dense(512, activation=\"relu\"),\n",
    "        layers.Dense(10, activation=\"softmax\")\n",
    "    ])\n",
    "    model.compile(optimizer=\"rmsprop\",\n",
    "                  loss=\"sparse_categorical_crossentropy\",\n",
    "                  metrics=[\"accuracy\"])\n",
    "    return model\n",
    "\n",
    "model = get_model()\n",
    "history_noise = model.fit(\n",
    "    train_images_with_noise_channels, train_labels,\n",
    "    epochs=10,\n",
    "    batch_size=128,\n",
    "    validation_split=0.2,\n",
    "    callbacks=[TqdmCallback()],\n",
    "    verbose=0)\n",
    "\n",
    "model = get_model()\n",
    "history_zeros = model.fit(\n",
    "    train_images_with_zeros_channels, train_labels,\n",
    "    epochs=10,\n",
    "    batch_size=128,\n",
    "    validation_split=0.2,\n",
    "    callbacks=[TqdmCallback()],\n",
    "    verbose=0)"
   ]
  },
  {
   "cell_type": "markdown",
   "metadata": {
    "colab_type": "text"
   },
   "source": [
    "**Listing 5.3: Plotting a validation accuracy comparison**"
   ]
  },
  {
   "cell_type": "code",
   "execution_count": 5,
   "metadata": {
    "colab_type": "code"
   },
   "outputs": [
    {
     "data": {
      "text/plain": [
       "<matplotlib.legend.Legend at 0x317ee8d50>"
      ]
     },
     "execution_count": 5,
     "metadata": {},
     "output_type": "execute_result"
    },
    {
     "data": {
      "image/png": "[encoded data removed]",
      "text/plain": [
       "<Figure size 640x480 with 1 Axes>"
      ]
     },
     "metadata": {},
     "output_type": "display_data"
    }
   ],
   "source": [
    "import matplotlib.pyplot as plt\n",
    "val_acc_noise = history_noise.history[\"val_accuracy\"]\n",
    "val_acc_zeros = history_zeros.history[\"val_accuracy\"]\n",
    "epochs = range(1, 11)\n",
    "plt.plot(epochs, val_acc_noise, \"b-\",\n",
    "         label=\"Validation accuracy with noise channels\")\n",
    "plt.plot(epochs, val_acc_zeros, \"b--\",\n",
    "         label=\"Validation accuracy with zeros channels\")\n",
    "plt.title(\"Effect of noise channels on validation accuracy\")\n",
    "plt.xlabel(\"Epochs\")\n",
    "plt.ylabel(\"Accuracy\")\n",
    "plt.legend()"
   ]
  },
  {
   "cell_type": "markdown",
   "metadata": {
    "colab_type": "text"
   },
   "source": [
    "### The nature of generalization in deep learning"
   ]
  },
  {
   "cell_type": "markdown",
   "metadata": {
    "colab_type": "text"
   },
   "source": [
    "**Listing 5.4: Fitting a MNIST model with randomly shuffled labels**"
   ]
  },
  {
   "cell_type": "code",
   "execution_count": 6,
   "metadata": {
    "colab_type": "code"
   },
   "outputs": [
    {
     "data": {
      "application/vnd.jupyter.widget-view+json": {
       "model_id": "f34b9067726e41c681cf6a885ddf702f",
       "version_major": 2,
       "version_minor": 0
      },
      "text/plain": [
       "0epoch [00:00, ?epoch/s]"
      ]
     },
     "metadata": {},
     "output_type": "display_data"
    },
    {
     "data": {
      "application/vnd.jupyter.widget-view+json": {
       "model_id": "37fb74d0a75946f7903c086a3f2ec87a",
       "version_major": 2,
       "version_minor": 0
      },
      "text/plain": [
       "0batch [00:00, ?batch/s]"
      ]
     },
     "metadata": {},
     "output_type": "display_data"
    },
    {
     "data": {
      "text/plain": [
       "<keras.src.callbacks.History at 0x317e486d0>"
      ]
     },
     "execution_count": 6,
     "metadata": {},
     "output_type": "execute_result"
    }
   ],
   "source": [
    "(train_images, train_labels), _ = mnist.load_data()\n",
    "train_images = train_images.reshape((60000, 28 * 28))\n",
    "train_images = train_images.astype(\"float32\") / 255\n",
    "\n",
    "random_train_labels = train_labels[:]\n",
    "np.random.shuffle(random_train_labels)\n",
    "\n",
    "model = keras.Sequential([\n",
    "    layers.Dense(512, activation=\"relu\"),\n",
    "    layers.Dense(10, activation=\"softmax\")\n",
    "])\n",
    "model.compile(optimizer=\"rmsprop\",\n",
    "              loss=\"sparse_categorical_crossentropy\",\n",
    "              metrics=[\"accuracy\"])\n",
    "model.fit(train_images, random_train_labels,\n",
    "          epochs=100,\n",
    "          batch_size=128,\n",
    "          validation_split=0.2,\n",
    "          callbacks=[TqdmCallback()],\n",
    "          verbose=0)"
   ]
  },
  {
   "cell_type": "markdown",
   "metadata": {
    "colab_type": "text"
   },
   "source": [
    "## Improving model fit"
   ]
  },
  {
   "cell_type": "markdown",
   "metadata": {
    "colab_type": "text"
   },
   "source": [
    "### Tuning key gradient descent parameters"
   ]
  },
  {
   "cell_type": "markdown",
   "metadata": {
    "colab_type": "text"
   },
   "source": [
    "**Listing 5.5: Training a MNIST model with an incorrectly high learning rate**"
   ]
  },
  {
   "cell_type": "code",
   "execution_count": 7,
   "metadata": {
    "colab_type": "code"
   },
   "outputs": [
    {
     "data": {
      "application/vnd.jupyter.widget-view+json": {
       "model_id": "a096a022d99446dd84de0ebe1d8c8949",
       "version_major": 2,
       "version_minor": 0
      },
      "text/plain": [
       "0epoch [00:00, ?epoch/s]"
      ]
     },
     "metadata": {},
     "output_type": "display_data"
    },
    {
     "data": {
      "application/vnd.jupyter.widget-view+json": {
       "model_id": "a9fc5b7c20c14a4eaacc5cae33503b5e",
       "version_major": 2,
       "version_minor": 0
      },
      "text/plain": [
       "0batch [00:00, ?batch/s]"
      ]
     },
     "metadata": {},
     "output_type": "display_data"
    },
    {
     "data": {
      "text/plain": [
       "<keras.src.callbacks.History at 0x31a419590>"
      ]
     },
     "execution_count": 7,
     "metadata": {},
     "output_type": "execute_result"
    }
   ],
   "source": [
    "from tqdm.keras import TqdmCallback\n",
    "(train_images, train_labels), _ = mnist.load_data()\n",
    "train_images = train_images.reshape((60000, 28 * 28))\n",
    "train_images = train_images.astype(\"float32\") / 255\n",
    "\n",
    "model = keras.Sequential([\n",
    "    layers.Dense(512, activation=\"relu\"),\n",
    "    layers.Dense(10, activation=\"softmax\")\n",
    "])\n",
    "model.compile(optimizer=keras.optimizers.legacy.RMSprop(1.), # For Apple Silicon macs\n",
    "              loss=\"sparse_categorical_crossentropy\",\n",
    "              metrics=[\"accuracy\"])\n",
    "model.fit(train_images, train_labels,\n",
    "          epochs=10,\n",
    "          batch_size=128,\n",
    "          validation_split=0.2,\n",
    "          callbacks=[TqdmCallback()],\n",
    "            verbose=0)"
   ]
  },
  {
   "cell_type": "markdown",
   "metadata": {
    "colab_type": "text"
   },
   "source": [
    "**Listing 5.6: The same model with a more appropriate learning rate**"
   ]
  },
  {
   "cell_type": "code",
   "execution_count": 8,
   "metadata": {
    "colab_type": "code"
   },
   "outputs": [
    {
     "data": {
      "application/vnd.jupyter.widget-view+json": {
       "model_id": "d83b320af79d42e6af2fac8dcca267b5",
       "version_major": 2,
       "version_minor": 0
      },
      "text/plain": [
       "0epoch [00:00, ?epoch/s]"
      ]
     },
     "metadata": {},
     "output_type": "display_data"
    },
    {
     "data": {
      "application/vnd.jupyter.widget-view+json": {
       "model_id": "548320c25800439ca4fd40cfc0af8df5",
       "version_major": 2,
       "version_minor": 0
      },
      "text/plain": [
       "0batch [00:00, ?batch/s]"
      ]
     },
     "metadata": {},
     "output_type": "display_data"
    },
    {
     "data": {
      "text/plain": [
       "<keras.src.callbacks.History at 0x316db8e90>"
      ]
     },
     "execution_count": 8,
     "metadata": {},
     "output_type": "execute_result"
    }
   ],
   "source": [
    "from tqdm.keras import TqdmCallback\n",
    "\n",
    "model = keras.Sequential([\n",
    "    layers.Dense(512, activation=\"relu\"),\n",
    "    layers.Dense(10, activation=\"softmax\")\n",
    "])\n",
    "model.compile(optimizer=keras.optimizers.legacy.RMSprop(1e-2),\n",
    "              loss=\"sparse_categorical_crossentropy\",\n",
    "              metrics=[\"accuracy\"])\n",
    "model.fit(train_images, train_labels,\n",
    "          epochs=10,\n",
    "          batch_size=128,\n",
    "          validation_split=0.2,\n",
    "          callbacks=[TqdmCallback()],\n",
    "            verbose=0)"
   ]
  },
  {
   "cell_type": "markdown",
   "metadata": {
    "colab_type": "text"
   },
   "source": [
    "### Leveraging better architecture priors"
   ]
  },
  {
   "cell_type": "markdown",
   "metadata": {
    "colab_type": "text"
   },
   "source": [
    "### Increasing model capacity"
   ]
  },
  {
   "cell_type": "markdown",
   "metadata": {
    "colab_type": "text"
   },
   "source": [
    "**Listing 5.7: A simple logistic regression on MNIST**"
   ]
  },
  {
   "cell_type": "code",
   "execution_count": 9,
   "metadata": {
    "colab_type": "code"
   },
   "outputs": [
    {
     "data": {
      "application/vnd.jupyter.widget-view+json": {
       "model_id": "842929d8154d4f258494ee1299ca0ba0",
       "version_major": 2,
       "version_minor": 0
      },
      "text/plain": [
       "0epoch [00:00, ?epoch/s]"
      ]
     },
     "metadata": {},
     "output_type": "display_data"
    },
    {
     "data": {
      "application/vnd.jupyter.widget-view+json": {
       "model_id": "423194472fc448ed94e05b548c9e38db",
       "version_major": 2,
       "version_minor": 0
      },
      "text/plain": [
       "0batch [00:00, ?batch/s]"
      ]
     },
     "metadata": {},
     "output_type": "display_data"
    }
   ],
   "source": [
    "from tqdm.keras import TqdmCallback\n",
    "model = keras.Sequential([layers.Dense(10, activation=\"softmax\")])\n",
    "model.compile(optimizer=\"rmsprop\",\n",
    "              loss=\"sparse_categorical_crossentropy\",\n",
    "              metrics=[\"accuracy\"])\n",
    "history_small_model = model.fit(\n",
    "    train_images, train_labels,\n",
    "    epochs=20,\n",
    "    batch_size=128,\n",
    "    validation_split=0.2,\n",
    "    callbacks=[TqdmCallback()],\n",
    "    verbose=0)"
   ]
  },
  {
   "cell_type": "code",
   "execution_count": 10,
   "metadata": {
    "colab_type": "code"
   },
   "outputs": [
    {
     "data": {
      "text/plain": [
       "<matplotlib.legend.Legend at 0x315442990>"
      ]
     },
     "execution_count": 10,
     "metadata": {},
     "output_type": "execute_result"
    },
    {
     "data": {
      "image/png": "[encoded data removed]",
      "text/plain": [
       "<Figure size 640x480 with 1 Axes>"
      ]
     },
     "metadata": {},
     "output_type": "display_data"
    }
   ],
   "source": [
    "import matplotlib.pyplot as plt\n",
    "val_loss = history_small_model.history[\"val_loss\"]\n",
    "epochs = range(1, 21)\n",
    "plt.plot(epochs, val_loss, \"b--\",\n",
    "         label=\"Validation loss\")\n",
    "plt.title(\"Effect of insufficient model capacity on validation loss\")\n",
    "plt.xlabel(\"Epochs\")\n",
    "plt.ylabel(\"Loss\")\n",
    "plt.legend()"
   ]
  },
  {
   "cell_type": "code",
   "execution_count": 11,
   "metadata": {
    "colab_type": "code"
   },
   "outputs": [
    {
     "data": {
      "application/vnd.jupyter.widget-view+json": {
       "model_id": "23c17574f1314d2b9a176d9dc89ef1f6",
       "version_major": 2,
       "version_minor": 0
      },
      "text/plain": [
       "0epoch [00:00, ?epoch/s]"
      ]
     },
     "metadata": {},
     "output_type": "display_data"
    },
    {
     "data": {
      "application/vnd.jupyter.widget-view+json": {
       "model_id": "0c74d2f646e049f3b9547e55fd6f3a9a",
       "version_major": 2,
       "version_minor": 0
      },
      "text/plain": [
       "0batch [00:00, ?batch/s]"
      ]
     },
     "metadata": {},
     "output_type": "display_data"
    }
   ],
   "source": [
    "model = keras.Sequential([\n",
    "    layers.Dense(96, activation=\"relu\"),\n",
    "    layers.Dense(96, activation=\"relu\"),\n",
    "    layers.Dense(10, activation=\"softmax\"),\n",
    "])\n",
    "model.compile(optimizer=\"rmsprop\",\n",
    "              loss=\"sparse_categorical_crossentropy\",\n",
    "              metrics=[\"accuracy\"])\n",
    "history_large_model = model.fit(\n",
    "    train_images, train_labels,\n",
    "    epochs=20,\n",
    "    batch_size=128,\n",
    "    validation_split=0.2,\n",
    "    callbacks=[TqdmCallback()],\n",
    "    verbose=0)"
   ]
  },
  {
   "cell_type": "markdown",
   "metadata": {
    "colab_type": "text"
   },
   "source": [
    "## Improving generalization"
   ]
  },
  {
   "cell_type": "markdown",
   "metadata": {
    "colab_type": "text"
   },
   "source": [
    "**Original model**"
   ]
  },
  {
   "cell_type": "code",
   "execution_count": 24,
   "metadata": {
    "colab_type": "code"
   },
   "outputs": [
    {
     "data": {
      "application/vnd.jupyter.widget-view+json": {
       "model_id": "e1ace1a3a14248b988ebdd5f70464250",
       "version_major": 2,
       "version_minor": 0
      },
      "text/plain": [
       "0epoch [00:00, ?epoch/s]"
      ]
     },
     "metadata": {},
     "output_type": "display_data"
    },
    {
     "data": {
      "application/vnd.jupyter.widget-view+json": {
       "model_id": "7bdbab429c224ee4905a5e6e1006856a",
       "version_major": 2,
       "version_minor": 0
      },
      "text/plain": [
       "0batch [00:00, ?batch/s]"
      ]
     },
     "metadata": {},
     "output_type": "display_data"
    }
   ],
   "source": [
    "from tensorflow.keras.datasets import imdb\n",
    "(train_data, train_labels), _ = imdb.load_data(num_words=10000)\n",
    "\n",
    "def vectorize_sequences(sequences, dimension=10000):\n",
    "    results = np.zeros((len(sequences), dimension))\n",
    "    for i, sequence in enumerate(sequences):\n",
    "        results[i, sequence] = 1.\n",
    "    return results\n",
    "train_data = vectorize_sequences(train_data)\n",
    "\n",
    "model = keras.Sequential([\n",
    "    layers.Dense(16, activation=\"relu\"),\n",
    "    layers.Dense(16, activation=\"relu\"),\n",
    "    layers.Dense(1, activation=\"sigmoid\")\n",
    "])\n",
    "model.compile(optimizer=\"rmsprop\",\n",
    "              loss=\"binary_crossentropy\",\n",
    "              metrics=[\"accuracy\"])\n",
    "history_original = model.fit(train_data, train_labels,\n",
    "                             epochs=20, batch_size=512, validation_split=0.4,\n",
    "                             callbacks=[TqdmCallback()], verbose=0)"
   ]
  },
  {
   "cell_type": "code",
   "execution_count": 37,
   "metadata": {},
   "outputs": [
    {
     "name": "stdout",
     "output_type": "stream",
     "text": [
      "Epoch 1/20: train_loss=0.6230, train_acc=0.6645, val_loss=0.5206, val_acc=0.7573\n",
      "Epoch 2/20: train_loss=0.2954, train_acc=0.8828, val_loss=0.3090, val_acc=0.8775\n",
      "Epoch 3/20: train_loss=0.1772, train_acc=0.9311, val_loss=0.3119, val_acc=0.8847\n",
      "Epoch 4/20: train_loss=0.1156, train_acc=0.9558, val_loss=0.3502, val_acc=0.8823\n",
      "Epoch 5/20: train_loss=0.0661, train_acc=0.9756, val_loss=0.4063, val_acc=0.8791\n",
      "Epoch 6/20: train_loss=0.0402, train_acc=0.9853, val_loss=0.4671, val_acc=0.8790\n",
      "Epoch 7/20: train_loss=0.0257, train_acc=0.9894, val_loss=0.5340, val_acc=0.8783\n",
      "Epoch 8/20: train_loss=0.0173, train_acc=0.9907, val_loss=0.6006, val_acc=0.8767\n",
      "Epoch 9/20: train_loss=0.0120, train_acc=0.9953, val_loss=0.6549, val_acc=0.8762\n",
      "Epoch 10/20: train_loss=0.0087, train_acc=0.9974, val_loss=0.7312, val_acc=0.8726\n",
      "Epoch 11/20: train_loss=0.0068, train_acc=0.9979, val_loss=0.7994, val_acc=0.8728\n",
      "Epoch 12/20: train_loss=0.0052, train_acc=0.9986, val_loss=0.8752, val_acc=0.8742\n",
      "Epoch 13/20: train_loss=0.0042, train_acc=0.9989, val_loss=0.9267, val_acc=0.8702\n",
      "Epoch 14/20: train_loss=0.0033, train_acc=0.9991, val_loss=0.9804, val_acc=0.8719\n",
      "Epoch 15/20: train_loss=0.0023, train_acc=0.9995, val_loss=1.0107, val_acc=0.8690\n",
      "Epoch 16/20: train_loss=0.0019, train_acc=0.9996, val_loss=1.0764, val_acc=0.8727\n",
      "Epoch 17/20: train_loss=0.0015, train_acc=0.9997, val_loss=1.1189, val_acc=0.8729\n",
      "Epoch 18/20: train_loss=0.0009, train_acc=0.9999, val_loss=1.1731, val_acc=0.8723\n",
      "Epoch 19/20: train_loss=0.0009, train_acc=0.9999, val_loss=1.1995, val_acc=0.8736\n",
      "Epoch 20/20: train_loss=0.0008, train_acc=0.9999, val_loss=1.2353, val_acc=0.8728\n"
     ]
    }
   ],
   "source": [
    "# Let's do the equivalent steps in PyTorch\n",
    "import torch\n",
    "class TorchModel(torch.nn.Module):\n",
    "    def __init__(self):\n",
    "        super().__init__()\n",
    "        self.fc1 = torch.nn.LazyLinear(16)\n",
    "        self.fc2 = torch.nn.Linear(16, 16)\n",
    "        self.fc3 = torch.nn.Linear(16, 1)\n",
    "    def forward(self, x):\n",
    "        x = torch.relu(self.fc1(x))\n",
    "        x = torch.relu(self.fc2(x))\n",
    "        return self.fc3(x)\n",
    "torchmodel = TorchModel()\n",
    "criterion = torch.nn.BCEWithLogitsLoss()\n",
    "optimizer = torch.optim.RMSprop(torchmodel.parameters())\n",
    "def torchtrain(train_dataloader, model, criterion, optimizer):\n",
    "    model.train()\n",
    "    total_loss = 0\n",
    "    correct = 0\n",
    "    samples = 0\n",
    "    for X, y in train_dataloader:\n",
    "        y_pred = torch.flatten(model(X))\n",
    "        loss = criterion(y_pred, y)\n",
    "        optimizer.zero_grad()\n",
    "        loss.backward()\n",
    "        optimizer.step()\n",
    "        total_loss += loss.item()*len(y)\n",
    "        correct += (torch.sigmoid(y_pred).round() == y).sum().item()\n",
    "        samples += len(y)\n",
    "    return total_loss/samples, correct/samples\n",
    "def torcheval(val_dataloader, model, criterion):\n",
    "    model.eval()\n",
    "    total_loss = 0\n",
    "    correct = 0\n",
    "    samples = 0\n",
    "    with torch.no_grad():\n",
    "        for X, y in val_dataloader:\n",
    "            y_pred = torch.flatten(model(X))\n",
    "            loss = criterion(y_pred, y)\n",
    "            total_loss += loss.item()*len(y)\n",
    "            correct += (torch.sigmoid(y_pred).round() == y).sum().item()\n",
    "            samples += len(y)\n",
    "    return total_loss/samples, correct/samples\n",
    "from sklearn.model_selection import train_test_split\n",
    "X_train, X_val, y_train, y_val = train_test_split(train_data, train_labels, test_size=0.4)\n",
    "train_dataloader = tensor_toolbox.make_dataloader([X_train], [y_train], batch_size=512)\n",
    "val_dataloader = tensor_toolbox.make_dataloader([X_val], [y_val], batch_size=512)\n",
    "for epoch in range(20):\n",
    "    train_loss, train_acc = torchtrain(train_dataloader, torchmodel, criterion, optimizer)\n",
    "    val_loss, val_acc = torcheval(val_dataloader, torchmodel, criterion)\n",
    "    print(f\"Epoch {epoch+1}/{20}: train_loss={train_loss:.4f}, train_acc={train_acc:.4f}, val_loss={val_loss:.4f}, val_acc={val_acc:.4f}\")"
   ]
  },
  {
   "cell_type": "markdown",
   "metadata": {
    "colab_type": "text"
   },
   "source": [
    "**Version of the model with lower capacity**"
   ]
  },
  {
   "cell_type": "code",
   "execution_count": 38,
   "metadata": {
    "colab_type": "code"
   },
   "outputs": [
    {
     "data": {
      "application/vnd.jupyter.widget-view+json": {
       "model_id": "45e7bd7b552f45bc99be3d780d3ad1af",
       "version_major": 2,
       "version_minor": 0
      },
      "text/plain": [
       "0epoch [00:00, ?epoch/s]"
      ]
     },
     "metadata": {},
     "output_type": "display_data"
    },
    {
     "data": {
      "application/vnd.jupyter.widget-view+json": {
       "model_id": "a497ed4b364f43e4bc19c95aa8c26fc3",
       "version_major": 2,
       "version_minor": 0
      },
      "text/plain": [
       "0batch [00:00, ?batch/s]"
      ]
     },
     "metadata": {},
     "output_type": "display_data"
    }
   ],
   "source": [
    "model = keras.Sequential([\n",
    "    layers.Dense(4, activation=\"relu\"),\n",
    "    layers.Dense(4, activation=\"relu\"),\n",
    "    layers.Dense(1, activation=\"sigmoid\")\n",
    "])\n",
    "model.compile(optimizer=\"rmsprop\",\n",
    "              loss=\"binary_crossentropy\",\n",
    "              metrics=[\"accuracy\"])\n",
    "history_smaller_model = model.fit(\n",
    "    train_data, train_labels,\n",
    "    epochs=20, batch_size=512, validation_split=0.4,\n",
    "    callbacks=[TqdmCallback()], verbose=0)\n"
   ]
  },
  {
   "cell_type": "code",
   "execution_count": 43,
   "metadata": {},
   "outputs": [
    {
     "name": "stderr",
     "output_type": "stream",
     "text": [
      "/Users/alemalvarez/.pyenv/versions/3.11.5/lib/python3.11/site-packages/torch/nn/modules/lazy.py:181: UserWarning: Lazy modules are a new feature under heavy development so changes to the API or functionality can happen at any moment.\n",
      "  warnings.warn('Lazy modules are a new feature under heavy development '\n"
     ]
    },
    {
     "name": "stdout",
     "output_type": "stream",
     "text": [
      "Epoch 1/20: train_loss=0.5883, train_acc=0.6753, val_loss=0.3724, val_acc=0.8625\n",
      "Epoch 2/20: train_loss=0.2837, train_acc=0.8969, val_loss=0.3070, val_acc=0.8804\n",
      "Epoch 3/20: train_loss=0.1924, train_acc=0.9363, val_loss=0.3120, val_acc=0.8804\n",
      "Epoch 4/20: train_loss=0.1329, train_acc=0.9613, val_loss=0.3424, val_acc=0.8763\n",
      "Epoch 5/20: train_loss=0.1360, train_acc=0.9567, val_loss=0.3699, val_acc=0.8743\n",
      "Epoch 6/20: train_loss=0.0844, train_acc=0.9799, val_loss=0.4030, val_acc=0.8727\n",
      "Epoch 7/20: train_loss=0.0670, train_acc=0.9861, val_loss=0.4213, val_acc=0.8733\n",
      "Epoch 8/20: train_loss=0.0574, train_acc=0.9890, val_loss=0.4578, val_acc=0.8720\n",
      "Epoch 9/20: train_loss=0.0514, train_acc=0.9905, val_loss=0.4879, val_acc=0.8704\n",
      "Epoch 10/20: train_loss=0.0479, train_acc=0.9913, val_loss=0.5138, val_acc=0.8697\n",
      "Epoch 11/20: train_loss=0.0819, train_acc=0.9801, val_loss=0.4955, val_acc=0.8683\n",
      "Epoch 12/20: train_loss=0.0479, train_acc=0.9912, val_loss=0.5331, val_acc=0.8693\n",
      "Epoch 13/20: train_loss=0.0445, train_acc=0.9917, val_loss=0.5817, val_acc=0.8686\n",
      "Epoch 14/20: train_loss=0.0434, train_acc=0.9918, val_loss=0.6029, val_acc=0.8689\n",
      "Epoch 15/20: train_loss=0.0430, train_acc=0.9918, val_loss=0.6185, val_acc=0.8690\n",
      "Epoch 16/20: train_loss=0.0427, train_acc=0.9918, val_loss=0.6334, val_acc=0.8690\n",
      "Epoch 17/20: train_loss=0.0424, train_acc=0.9918, val_loss=0.6623, val_acc=0.8673\n",
      "Epoch 18/20: train_loss=0.0422, train_acc=0.9919, val_loss=0.6793, val_acc=0.8664\n",
      "Epoch 19/20: train_loss=0.1917, train_acc=0.9682, val_loss=0.5762, val_acc=0.8679\n",
      "Epoch 20/20: train_loss=0.0463, train_acc=0.9911, val_loss=0.6317, val_acc=0.8691\n"
     ]
    }
   ],
   "source": [
    "class TorchModelLowerCapacity(torch.nn.Module):\n",
    "    def __init__(self):\n",
    "        super().__init__()\n",
    "        self.fc1 = torch.nn.LazyLinear(4)\n",
    "        self.fc2 = torch.nn.Linear(4, 4)\n",
    "        self.fc3 = torch.nn.Linear(4, 1)\n",
    "    def forward(self, x):\n",
    "        x = torch.relu(self.fc1(x))\n",
    "        x = torch.relu(self.fc2(x))\n",
    "        return self.fc3(x)\n",
    "torchmodel_lower_capacity = TorchModelLowerCapacity()\n",
    "optimizer = torch.optim.RMSprop(torchmodel_lower_capacity.parameters())\n",
    "for epoch in range(20):\n",
    "    train_loss, train_acc = torchtrain(train_dataloader, torchmodel_lower_capacity, criterion, optimizer)\n",
    "    val_loss, val_acc = torcheval(val_dataloader, torchmodel_lower_capacity, criterion)\n",
    "    print(f\"Epoch {epoch+1}/{20}: train_loss={train_loss:.4f}, train_acc={train_acc:.4f}, val_loss={val_loss:.4f}, val_acc={val_acc:.4f}\")"
   ]
  },
  {
   "cell_type": "markdown",
   "metadata": {
    "colab_type": "text"
   },
   "source": [
    "**Version of the model with higher capacity**"
   ]
  },
  {
   "cell_type": "code",
   "execution_count": 44,
   "metadata": {
    "colab_type": "code"
   },
   "outputs": [
    {
     "data": {
      "application/vnd.jupyter.widget-view+json": {
       "model_id": "769800f2eb2e4e5d87bb2bd06a16336c",
       "version_major": 2,
       "version_minor": 0
      },
      "text/plain": [
       "0epoch [00:00, ?epoch/s]"
      ]
     },
     "metadata": {},
     "output_type": "display_data"
    },
    {
     "data": {
      "application/vnd.jupyter.widget-view+json": {
       "model_id": "b2343449872848d0838039eca968447c",
       "version_major": 2,
       "version_minor": 0
      },
      "text/plain": [
       "0batch [00:00, ?batch/s]"
      ]
     },
     "metadata": {},
     "output_type": "display_data"
    }
   ],
   "source": [
    "model = keras.Sequential([\n",
    "    layers.Dense(512, activation=\"relu\"),\n",
    "    layers.Dense(512, activation=\"relu\"),\n",
    "    layers.Dense(1, activation=\"sigmoid\")\n",
    "])\n",
    "model.compile(optimizer=\"rmsprop\",\n",
    "              loss=\"binary_crossentropy\",\n",
    "              metrics=[\"accuracy\"])\n",
    "history_larger_model = model.fit(\n",
    "    train_data, train_labels,\n",
    "    epochs=20, batch_size=512, validation_split=0.4,\n",
    "    callbacks=[TqdmCallback()], verbose=0)"
   ]
  },
  {
   "cell_type": "code",
   "execution_count": 45,
   "metadata": {},
   "outputs": [
    {
     "name": "stderr",
     "output_type": "stream",
     "text": [
      "/Users/alemalvarez/.pyenv/versions/3.11.5/lib/python3.11/site-packages/torch/nn/modules/lazy.py:181: UserWarning: Lazy modules are a new feature under heavy development so changes to the API or functionality can happen at any moment.\n",
      "  warnings.warn('Lazy modules are a new feature under heavy development '\n"
     ]
    },
    {
     "name": "stdout",
     "output_type": "stream",
     "text": [
      "Epoch 1/20: train_loss=62.9260, train_acc=0.5662, val_loss=2.8373, val_acc=0.5365\n",
      "Epoch 2/20: train_loss=1.3212, train_acc=0.7201, val_loss=0.3985, val_acc=0.8467\n",
      "Epoch 3/20: train_loss=0.2598, train_acc=0.8917, val_loss=0.3262, val_acc=0.8643\n",
      "Epoch 4/20: train_loss=0.1322, train_acc=0.9455, val_loss=0.4737, val_acc=0.8490\n",
      "Epoch 5/20: train_loss=0.0777, train_acc=0.9681, val_loss=0.5029, val_acc=0.8768\n",
      "Epoch 6/20: train_loss=0.0281, train_acc=0.9882, val_loss=0.7992, val_acc=0.8622\n",
      "Epoch 7/20: train_loss=0.0137, train_acc=0.9941, val_loss=0.8672, val_acc=0.8737\n",
      "Epoch 8/20: train_loss=0.0055, train_acc=0.9973, val_loss=1.0038, val_acc=0.8742\n",
      "Epoch 9/20: train_loss=0.0026, train_acc=0.9988, val_loss=1.1642, val_acc=0.8730\n",
      "Epoch 10/20: train_loss=0.0014, train_acc=0.9993, val_loss=1.2725, val_acc=0.8715\n",
      "Epoch 11/20: train_loss=0.0007, train_acc=0.9997, val_loss=1.3404, val_acc=0.8723\n",
      "Epoch 12/20: train_loss=0.0004, train_acc=0.9998, val_loss=1.3942, val_acc=0.8723\n",
      "Epoch 13/20: train_loss=0.0003, train_acc=0.9998, val_loss=1.4479, val_acc=0.8717\n",
      "Epoch 14/20: train_loss=0.0002, train_acc=0.9998, val_loss=1.4805, val_acc=0.8717\n",
      "Epoch 15/20: train_loss=0.0002, train_acc=0.9999, val_loss=1.5261, val_acc=0.8717\n",
      "Epoch 16/20: train_loss=0.0002, train_acc=0.9999, val_loss=1.5609, val_acc=0.8714\n",
      "Epoch 17/20: train_loss=0.0002, train_acc=0.9999, val_loss=1.6132, val_acc=0.8712\n",
      "Epoch 18/20: train_loss=0.0001, train_acc=0.9999, val_loss=1.6494, val_acc=0.8720\n",
      "Epoch 19/20: train_loss=0.0001, train_acc=0.9999, val_loss=1.6960, val_acc=0.8719\n",
      "Epoch 20/20: train_loss=0.0001, train_acc=0.9999, val_loss=1.7503, val_acc=0.8721\n"
     ]
    }
   ],
   "source": [
    "class TorchModelHigherCapacity(torch.nn.Module):\n",
    "    def __init__(self):\n",
    "        super().__init__()\n",
    "        self.fc1 = torch.nn.LazyLinear(512)\n",
    "        self.fc2 = torch.nn.Linear(512, 512)\n",
    "        self.fc3 = torch.nn.Linear(512, 1)\n",
    "    def forward(self, x):\n",
    "        x = torch.relu(self.fc1(x))\n",
    "        x = torch.relu(self.fc2(x))\n",
    "        return self.fc3(x)\n",
    "torch_higher_capacity = TorchModelHigherCapacity()\n",
    "optimizer = torch.optim.RMSprop(torch_higher_capacity.parameters())\n",
    "for epoch in range(20):\n",
    "    train_loss, train_acc = torchtrain(train_dataloader, torch_higher_capacity, criterion, optimizer)\n",
    "    val_loss, val_acc = torcheval(val_dataloader, torch_higher_capacity, criterion)\n",
    "    print(f\"Epoch {epoch+1}/{20}: train_loss={train_loss:.4f}, train_acc={train_acc:.4f}, val_loss={val_loss:.4f}, val_acc={val_acc:.4f}\")"
   ]
  },
  {
   "cell_type": "markdown",
   "metadata": {
    "colab_type": "text"
   },
   "source": [
    "#### Adding weight regularization"
   ]
  },
  {
   "cell_type": "markdown",
   "metadata": {
    "colab_type": "text"
   },
   "source": [
    "**Adding L2 weight regularization to the model**"
   ]
  },
  {
   "cell_type": "code",
   "execution_count": 46,
   "metadata": {
    "colab_type": "code"
   },
   "outputs": [
    {
     "data": {
      "application/vnd.jupyter.widget-view+json": {
       "model_id": "22f5b15e9aa94ed182c134d1f8ba275a",
       "version_major": 2,
       "version_minor": 0
      },
      "text/plain": [
       "0epoch [00:00, ?epoch/s]"
      ]
     },
     "metadata": {},
     "output_type": "display_data"
    },
    {
     "data": {
      "application/vnd.jupyter.widget-view+json": {
       "model_id": "b358eb017e8e475d89302f275d11a55f",
       "version_major": 2,
       "version_minor": 0
      },
      "text/plain": [
       "0batch [00:00, ?batch/s]"
      ]
     },
     "metadata": {},
     "output_type": "display_data"
    }
   ],
   "source": [
    "from tensorflow.keras import regularizers\n",
    "model = keras.Sequential([\n",
    "    layers.Dense(16,\n",
    "                 kernel_regularizer=regularizers.l2(0.002),\n",
    "                 activation=\"relu\"),\n",
    "    layers.Dense(16,\n",
    "                 kernel_regularizer=regularizers.l2(0.002),\n",
    "                 activation=\"relu\"),\n",
    "    layers.Dense(1, activation=\"sigmoid\")\n",
    "])\n",
    "model.compile(optimizer=\"rmsprop\",\n",
    "              loss=\"binary_crossentropy\",\n",
    "              metrics=[\"accuracy\"])\n",
    "history_l2_reg = model.fit(\n",
    "    train_data, train_labels,\n",
    "    epochs=20, batch_size=512, validation_split=0.4,\n",
    "    callbacks=[TqdmCallback()], verbose=0)"
   ]
  },
  {
   "cell_type": "code",
   "execution_count": 49,
   "metadata": {},
   "outputs": [
    {
     "name": "stdout",
     "output_type": "stream",
     "text": [
      "Epoch 1/20: train_loss=0.6851, train_acc=0.5907, val_loss=0.6393, val_acc=0.5598\n",
      "Epoch 2/20: train_loss=0.4984, train_acc=0.7881, val_loss=0.3633, val_acc=0.8656\n",
      "Epoch 3/20: train_loss=0.3473, train_acc=0.8649, val_loss=0.3162, val_acc=0.8713\n",
      "Epoch 4/20: train_loss=0.2957, train_acc=0.8841, val_loss=0.3066, val_acc=0.8747\n",
      "Epoch 5/20: train_loss=0.2882, train_acc=0.8880, val_loss=0.3075, val_acc=0.8736\n",
      "Epoch 6/20: train_loss=0.3050, train_acc=0.8895, val_loss=0.2996, val_acc=0.8791\n",
      "Epoch 7/20: train_loss=0.2078, train_acc=0.9265, val_loss=0.3115, val_acc=0.8746\n",
      "Epoch 8/20: train_loss=0.2521, train_acc=0.8997, val_loss=0.3177, val_acc=0.8729\n",
      "Epoch 9/20: train_loss=0.2108, train_acc=0.9225, val_loss=0.3365, val_acc=0.8707\n",
      "Epoch 10/20: train_loss=0.2430, train_acc=0.9050, val_loss=0.3977, val_acc=0.8368\n",
      "Epoch 11/20: train_loss=0.2489, train_acc=0.9117, val_loss=0.3018, val_acc=0.8786\n",
      "Epoch 12/20: train_loss=0.2324, train_acc=0.9234, val_loss=0.3107, val_acc=0.8735\n",
      "Epoch 13/20: train_loss=0.2036, train_acc=0.9244, val_loss=0.3225, val_acc=0.8706\n",
      "Epoch 14/20: train_loss=0.1992, train_acc=0.9257, val_loss=0.3103, val_acc=0.8783\n",
      "Epoch 15/20: train_loss=0.2045, train_acc=0.9237, val_loss=0.3684, val_acc=0.8611\n",
      "Epoch 16/20: train_loss=0.1925, train_acc=0.9277, val_loss=0.3731, val_acc=0.8531\n",
      "Epoch 17/20: train_loss=0.2138, train_acc=0.9176, val_loss=0.3449, val_acc=0.8664\n",
      "Epoch 18/20: train_loss=0.1916, train_acc=0.9320, val_loss=0.3852, val_acc=0.8590\n",
      "Epoch 19/20: train_loss=0.2104, train_acc=0.9239, val_loss=0.3111, val_acc=0.8774\n",
      "Epoch 20/20: train_loss=0.1985, train_acc=0.9240, val_loss=0.4266, val_acc=0.8425\n"
     ]
    }
   ],
   "source": [
    "# In PyTorch, l2 regularization is applied directly to the optimizer, like:\n",
    "torchmodel_l2 = TorchModel()\n",
    "optimizer = torch.optim.RMSprop(torchmodel_l2.parameters(), weight_decay=0.002)\n",
    "for epoch in range(20):\n",
    "    train_loss, train_acc = torchtrain(train_dataloader, torchmodel_l2, criterion, optimizer)\n",
    "    val_loss, val_acc = torcheval(val_dataloader, torchmodel_l2, criterion)\n",
    "    print(f\"Epoch {epoch+1}/{20}: train_loss={train_loss:.4f}, train_acc={train_acc:.4f}, val_loss={val_loss:.4f}, val_acc={val_acc:.4f}\")\n"
   ]
  },
  {
   "cell_type": "markdown",
   "metadata": {
    "colab_type": "text"
   },
   "source": [
    "**Different weight regularizers available in Keras**"
   ]
  },
  {
   "cell_type": "code",
   "execution_count": 27,
   "metadata": {
    "colab_type": "code"
   },
   "outputs": [
    {
     "data": {
      "text/plain": [
       "<keras.src.regularizers.L1L2 at 0x35cac3f50>"
      ]
     },
     "execution_count": 27,
     "metadata": {},
     "output_type": "execute_result"
    }
   ],
   "source": [
    "from tensorflow.keras import regularizers\n",
    "regularizers.l1(0.001)\n",
    "regularizers.l1_l2(l1=0.001, l2=0.001)"
   ]
  },
  {
   "cell_type": "code",
   "execution_count": 51,
   "metadata": {},
   "outputs": [
    {
     "name": "stderr",
     "output_type": "stream",
     "text": [
      "/Users/alemalvarez/.pyenv/versions/3.11.5/lib/python3.11/site-packages/torch/nn/modules/lazy.py:181: UserWarning: Lazy modules are a new feature under heavy development so changes to the API or functionality can happen at any moment.\n",
      "  warnings.warn('Lazy modules are a new feature under heavy development '\n"
     ]
    },
    {
     "name": "stdout",
     "output_type": "stream",
     "text": [
      "Epoch 1/20: train_loss=0.7635, train_acc=0.7213, val_loss=0.3965, val_acc=0.8561\n",
      "Epoch 2/20: train_loss=0.3123, train_acc=0.8869, val_loss=0.3415, val_acc=0.8730\n",
      "Epoch 3/20: train_loss=0.1972, train_acc=0.9324, val_loss=0.3054, val_acc=0.8848\n",
      "Epoch 4/20: train_loss=0.1164, train_acc=0.9649, val_loss=0.4141, val_acc=0.8659\n",
      "Epoch 5/20: train_loss=0.1086, train_acc=0.9689, val_loss=0.3734, val_acc=0.8514\n",
      "Epoch 6/20: train_loss=0.0681, train_acc=0.9838, val_loss=0.4422, val_acc=0.8811\n",
      "Epoch 7/20: train_loss=0.0403, train_acc=0.9912, val_loss=0.5057, val_acc=0.8794\n",
      "Epoch 8/20: train_loss=0.0292, train_acc=0.9949, val_loss=0.5627, val_acc=0.8759\n",
      "Epoch 9/20: train_loss=0.0226, train_acc=0.9974, val_loss=0.6285, val_acc=0.8750\n",
      "Epoch 10/20: train_loss=0.0186, train_acc=0.9982, val_loss=0.6820, val_acc=0.8740\n",
      "Epoch 11/20: train_loss=0.0157, train_acc=0.9985, val_loss=0.7377, val_acc=0.8724\n",
      "Epoch 12/20: train_loss=0.0138, train_acc=0.9987, val_loss=0.7958, val_acc=0.8725\n",
      "Epoch 13/20: train_loss=0.0127, train_acc=0.9989, val_loss=0.8556, val_acc=0.8716\n",
      "Epoch 14/20: train_loss=0.0117, train_acc=0.9989, val_loss=0.8996, val_acc=0.8722\n",
      "Epoch 15/20: train_loss=0.0109, train_acc=0.9989, val_loss=0.9277, val_acc=0.8730\n",
      "Epoch 16/20: train_loss=0.0103, train_acc=0.9989, val_loss=0.9472, val_acc=0.8716\n",
      "Epoch 17/20: train_loss=0.0098, train_acc=0.9989, val_loss=0.9661, val_acc=0.8714\n",
      "Epoch 18/20: train_loss=0.0095, train_acc=0.9989, val_loss=0.9885, val_acc=0.8714\n",
      "Epoch 19/20: train_loss=0.0093, train_acc=0.9990, val_loss=1.0008, val_acc=0.8714\n",
      "Epoch 20/20: train_loss=0.0090, train_acc=0.9990, val_loss=1.0096, val_acc=0.8706\n"
     ]
    }
   ],
   "source": [
    "# In PyTorch, l1 has to be coded in the training loop. An example is:\n",
    "def torchtrain_l1(train_dataloader, model, criterion, optimizer, l1=0.001):\n",
    "    model.train()\n",
    "    total_loss = 0\n",
    "    correct = 0\n",
    "    samples = 0\n",
    "    for X, y in train_dataloader:\n",
    "        y_pred = torch.flatten(model(X))\n",
    "        loss = criterion(y_pred, y) # Normal Loss function\n",
    "        # Add the L1 norm of the parameters.\n",
    "        # torch.linalg.norm(p, 1) computes the L1 norm of a tensor p\n",
    "        l1_norm = sum(torch.linalg.norm(p, 1) for p in model.parameters())\n",
    "        # Multiply it by the lambda factor and add it to the loss\n",
    "        loss += l1 * l1_norm\n",
    "        optimizer.zero_grad()\n",
    "        loss.backward()\n",
    "        optimizer.step()\n",
    "        total_loss += loss.item()*len(y)\n",
    "        correct += (torch.sigmoid(y_pred).round() == y).sum().item()\n",
    "        samples += len(y)\n",
    "    return total_loss/samples, correct/samples\n",
    "torchmodel = TorchModel()\n",
    "optimizer = torch.optim.RMSprop(torchmodel.parameters())\n",
    "for epoch in range(20):\n",
    "    train_loss, train_acc = torchtrain_l1(train_dataloader, torchmodel, criterion, optimizer)\n",
    "    val_loss, val_acc = torcheval(val_dataloader, torchmodel, criterion)\n",
    "    print(f\"Epoch {epoch+1}/{20}: train_loss={train_loss:.4f}, train_acc={train_acc:.4f}, val_loss={val_loss:.4f}, val_acc={val_acc:.4f}\")"
   ]
  },
  {
   "cell_type": "markdown",
   "metadata": {
    "colab_type": "text"
   },
   "source": [
    "#### Adding dropout"
   ]
  },
  {
   "cell_type": "markdown",
   "metadata": {
    "colab_type": "text"
   },
   "source": [
    "**Adding dropout to the IMDB model**"
   ]
  },
  {
   "cell_type": "code",
   "execution_count": 52,
   "metadata": {
    "colab_type": "code"
   },
   "outputs": [
    {
     "data": {
      "application/vnd.jupyter.widget-view+json": {
       "model_id": "aefcf6d5542b4db889fe9426e5329e96",
       "version_major": 2,
       "version_minor": 0
      },
      "text/plain": [
       "0epoch [00:00, ?epoch/s]"
      ]
     },
     "metadata": {},
     "output_type": "display_data"
    },
    {
     "data": {
      "application/vnd.jupyter.widget-view+json": {
       "model_id": "d92753056c6649288b3cb035248a6eaf",
       "version_major": 2,
       "version_minor": 0
      },
      "text/plain": [
       "0batch [00:00, ?batch/s]"
      ]
     },
     "metadata": {},
     "output_type": "display_data"
    }
   ],
   "source": [
    "model = keras.Sequential([\n",
    "    layers.Dense(16, activation=\"relu\"),\n",
    "    layers.Dropout(0.5),\n",
    "    layers.Dense(16, activation=\"relu\"),\n",
    "    layers.Dropout(0.5),\n",
    "    layers.Dense(1, activation=\"sigmoid\")\n",
    "])\n",
    "model.compile(optimizer=\"rmsprop\",\n",
    "              loss=\"binary_crossentropy\",\n",
    "              metrics=[\"accuracy\"])\n",
    "history_dropout = model.fit(\n",
    "    train_data, train_labels,\n",
    "    epochs=20, batch_size=512, validation_split=0.4,\n",
    "    callbacks=[TqdmCallback()], verbose=0)"
   ]
  },
  {
   "cell_type": "code",
   "execution_count": 53,
   "metadata": {},
   "outputs": [
    {
     "name": "stderr",
     "output_type": "stream",
     "text": [
      "/Users/alemalvarez/.pyenv/versions/3.11.5/lib/python3.11/site-packages/torch/nn/modules/lazy.py:181: UserWarning: Lazy modules are a new feature under heavy development so changes to the API or functionality can happen at any moment.\n",
      "  warnings.warn('Lazy modules are a new feature under heavy development '\n"
     ]
    },
    {
     "name": "stdout",
     "output_type": "stream",
     "text": [
      "Epoch 1/20: train_loss=0.7299, train_acc=0.5826, val_loss=0.4517, val_acc=0.8684\n",
      "Epoch 2/20: train_loss=0.5081, train_acc=0.7510, val_loss=0.3286, val_acc=0.8779\n",
      "Epoch 3/20: train_loss=0.4139, train_acc=0.8182, val_loss=0.3624, val_acc=0.8564\n",
      "Epoch 4/20: train_loss=0.3491, train_acc=0.8482, val_loss=0.3139, val_acc=0.8858\n",
      "Epoch 5/20: train_loss=0.3159, train_acc=0.8607, val_loss=0.2976, val_acc=0.8780\n",
      "Epoch 6/20: train_loss=0.2798, train_acc=0.8689, val_loss=0.3170, val_acc=0.8752\n",
      "Epoch 7/20: train_loss=0.2488, train_acc=0.8767, val_loss=0.3564, val_acc=0.8812\n",
      "Epoch 8/20: train_loss=0.2297, train_acc=0.8844, val_loss=0.3980, val_acc=0.8826\n",
      "Epoch 9/20: train_loss=0.2079, train_acc=0.8905, val_loss=0.4505, val_acc=0.8773\n",
      "Epoch 10/20: train_loss=0.2002, train_acc=0.8894, val_loss=0.4725, val_acc=0.8795\n",
      "Epoch 11/20: train_loss=0.1797, train_acc=0.9032, val_loss=0.5722, val_acc=0.8815\n",
      "Epoch 12/20: train_loss=0.1783, train_acc=0.9032, val_loss=0.4538, val_acc=0.8778\n",
      "Epoch 13/20: train_loss=0.1703, train_acc=0.9047, val_loss=0.6371, val_acc=0.8825\n",
      "Epoch 14/20: train_loss=0.1692, train_acc=0.9083, val_loss=0.6638, val_acc=0.8797\n",
      "Epoch 15/20: train_loss=0.1663, train_acc=0.9051, val_loss=0.5856, val_acc=0.8783\n",
      "Epoch 16/20: train_loss=0.1658, train_acc=0.9122, val_loss=0.7171, val_acc=0.8800\n",
      "Epoch 17/20: train_loss=0.1545, train_acc=0.9148, val_loss=0.7408, val_acc=0.8821\n",
      "Epoch 18/20: train_loss=0.1448, train_acc=0.9209, val_loss=0.7322, val_acc=0.8803\n",
      "Epoch 19/20: train_loss=0.1410, train_acc=0.9223, val_loss=0.7851, val_acc=0.8758\n",
      "Epoch 20/20: train_loss=0.1376, train_acc=0.9296, val_loss=0.7015, val_acc=0.8778\n"
     ]
    }
   ],
   "source": [
    "class TorchModelWithDropout (torch.nn.Module):\n",
    "    def __init__(self):\n",
    "        super().__init__()\n",
    "        self.fc1 = torch.nn.LazyLinear(16)\n",
    "        self.dropout1 = torch.nn.Dropout(0.5)\n",
    "        self.fc2 = torch.nn.LazyLinear(16)\n",
    "        self.dropout2 = torch.nn.Dropout(0.5)\n",
    "        self.fc3 = torch.nn.LazyLinear(1)\n",
    "    def forward(self, x):\n",
    "        x = torch.relu(self.fc1(x))\n",
    "        x = self.dropout1(x)\n",
    "        x = torch.relu(self.fc2(x))\n",
    "        x = self.dropout2(x)\n",
    "        return self.fc3(x)\n",
    "torchmodel_dropout = TorchModelWithDropout()\n",
    "optimizer = torch.optim.RMSprop(torchmodel_dropout.parameters())\n",
    "for epoch in range(20):\n",
    "    train_loss, train_acc = torchtrain(train_dataloader, torchmodel_dropout, criterion, optimizer)\n",
    "    val_loss, val_acc = torcheval(val_dataloader, torchmodel_dropout, criterion)\n",
    "    print(f\"Epoch {epoch+1}/{20}: train_loss={train_loss:.4f}, train_acc={train_acc:.4f}, val_loss={val_loss:.4f}, val_acc={val_acc:.4f}\")\n",
    "# Big win for dropot layers!"
   ]
  }
 ],
 "metadata": {
  "colab": {
   "collapsed_sections": [],
   "name": "chapter05_fundamentals-of-ml.i",
   "private_outputs": false,
   "provenance": [],
   "toc_visible": true
  },
  "kernelspec": {
   "display_name": "Python 3",
   "language": "python",
   "name": "python3"
  },
  "language_info": {
   "codemirror_mode": {
    "name": "ipython",
    "version": 3
   },
   "file_extension": ".py",
   "mimetype": "text/x-python",
   "name": "python",
   "nbconvert_exporter": "python",
   "pygments_lexer": "ipython3",
   "version": "3.11.5"
  }
 },
 "nbformat": 4,
 "nbformat_minor": 0
}
